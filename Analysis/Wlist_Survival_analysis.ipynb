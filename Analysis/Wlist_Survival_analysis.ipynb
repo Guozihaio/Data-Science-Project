{
 "cells": [
  {
   "cell_type": "markdown",
   "metadata": {},
   "source": [
    "# Waitlist survival analysis"
   ]
  },
  {
   "cell_type": "markdown",
   "metadata": {},
   "source": [
    "By Zihao Guo 21/09/2022"
   ]
  },
  {
   "cell_type": "markdown",
   "metadata": {},
   "source": [
    "# Feature selection"
   ]
  },
  {
   "cell_type": "code",
   "execution_count": 296,
   "metadata": {},
   "outputs": [],
   "source": [
    "import copy\n",
    "from sksurv.metrics import (\n",
    "    concordance_index_censored,\n",
    "    concordance_index_ipcw,\n",
    "    cumulative_dynamic_auc,\n",
    "    integrated_brier_score,\n",
    ")\n",
    "df_train = pd.read_excel(\"SimData_WList_Ver2.0.xls\", index_col = False, header=0)\n",
    "le = LabelEncoder()\n",
    "df_train[\"Gender\"] = le.fit_transform(df_train[\"Gender\"])\n",
    "df_train[\"Bloodtype\"] = le.fit_transform(df_train[\"Bloodtype\"])\n",
    "#df_train[\"Donor_Bloodtype\"] = le.fit_transform(df_train[\"Donor_Bloodtype\"])\n",
    "df_train[\"Inpt_attx\"] = le.fit_transform(df_train[\"Inpt_attx\"])\n",
    "#df_train[\"Donor_Sex\"] = le.fit_transform(df_train[\"Donor_Sex\"])\n",
    "#df_train[\"Donor_DCD\"] = le.fit_transform(df_train[\"Donor_DCD\"])\n",
    "feature_df_train = copy.deepcopy(df_train)"
   ]
  },
  {
   "cell_type": "code",
   "execution_count": 125,
   "metadata": {},
   "outputs": [],
   "source": [
    "y_time = feature_df_train['Time']\n",
    "y_cens = feature_df_train['Cens']\n",
    "feature_df_train = df_train.drop(['Time', 'Cens'], axis=1)"
   ]
  },
  {
   "cell_type": "code",
   "execution_count": 126,
   "metadata": {},
   "outputs": [
    {
     "data": {
      "text/plain": [
       "array([(False, 6905.80632199), (False, 4583.03535097),\n",
       "       (False, 2434.09076562), ..., ( True,  798.96020549),\n",
       "       (False, 5284.05961066), (False, 1296.42344833)],\n",
       "      dtype=[('Status', '?'), ('Survival_in_days', '<f8')])"
      ]
     },
     "execution_count": 126,
     "metadata": {},
     "output_type": "execute_result"
    }
   ],
   "source": [
    "mytype=np.dtype([('Status', '?'), ('Survival_in_days', '<f8')])\n",
    "data_y = np.zeros(5000,dtype=mytype)\n",
    "for i in range(len(y_time)):\n",
    "    data_y[i][0] = y_cens[i]\n",
    "    data_y[i][1] = y_time[i]\n",
    "data_y"
   ]
  },
  {
   "cell_type": "code",
   "execution_count": 127,
   "metadata": {},
   "outputs": [
    {
     "data": {
      "text/plain": [
       "CoxPHSurvivalAnalysis()"
      ]
     },
     "execution_count": 127,
     "metadata": {},
     "output_type": "execute_result"
    }
   ],
   "source": [
    "import numpy as np\n",
    "from sksurv.metrics import concordance_index_censored\n",
    "from sksurv.nonparametric import kaplan_meier_estimator\n",
    "from sklearn import set_config\n",
    "from sksurv.linear_model import CoxPHSurvivalAnalysis\n",
    "set_config(display=\"text\")  # displays text representation of estimators\n",
    "\n",
    "estimator = CoxPHSurvivalAnalysis()\n",
    "estimator.fit(feature_df_train, data_y)"
   ]
  },
  {
   "cell_type": "code",
   "execution_count": 128,
   "metadata": {},
   "outputs": [
    {
     "data": {
      "text/plain": [
       "Gender      -0.045703\n",
       "Bloodtype    0.048908\n",
       "Inpt_attx    0.016669\n",
       "Age          0.009284\n",
       "BMI         -0.006228\n",
       "MELD        -0.083442\n",
       "MELDNA       0.145586\n",
       "dtype: float64"
      ]
     },
     "execution_count": 128,
     "metadata": {},
     "output_type": "execute_result"
    }
   ],
   "source": [
    "pd.Series(estimator.coef_, index=feature_df_train.columns)"
   ]
  },
  {
   "cell_type": "code",
   "execution_count": 129,
   "metadata": {},
   "outputs": [
    {
     "data": {
      "text/plain": [
       "0.743402856021342"
      ]
     },
     "execution_count": 129,
     "metadata": {},
     "output_type": "execute_result"
    }
   ],
   "source": [
    "from sksurv.metrics import concordance_index_censored # c index\n",
    "\n",
    "prediction = estimator.predict(feature_df_train)\n",
    "result = concordance_index_censored(data_y[\"Status\"], data_y[\"Survival_in_days\"], prediction)\n",
    "result[0]"
   ]
  },
  {
   "cell_type": "code",
   "execution_count": 83,
   "metadata": {},
   "outputs": [
    {
     "data": {
      "text/plain": [
       "MELDNA       0.735142\n",
       "MELD         0.697335\n",
       "Inpt_attx    0.604430\n",
       "Gender       0.535016\n",
       "Bloodtype    0.513241\n",
       "Age          0.504986\n",
       "BMI          0.499358\n",
       "dtype: float64"
      ]
     },
     "execution_count": 83,
     "metadata": {},
     "output_type": "execute_result"
    }
   ],
   "source": [
    "def fit_and_score_features(X, y):\n",
    "    n_features = X.shape[1]\n",
    "    scores = np.empty(n_features)\n",
    "    m = CoxPHSurvivalAnalysis()\n",
    "    for j in range(n_features):\n",
    "        Xj = X[:, j:j+1]\n",
    "        m.fit(Xj, y)\n",
    "        scores[j] = m.score(Xj, y)\n",
    "    return scores\n",
    "\n",
    "scores = fit_and_score_features(feature_df_train.values, data_y)\n",
    "pd.Series(scores, index=feature_df_train.columns).sort_values(ascending=False)"
   ]
  },
  {
   "cell_type": "code",
   "execution_count": 84,
   "metadata": {},
   "outputs": [
    {
     "data": {
      "text/html": [
       "<div>\n",
       "<style scoped>\n",
       "    .dataframe tbody tr th:only-of-type {\n",
       "        vertical-align: middle;\n",
       "    }\n",
       "\n",
       "    .dataframe tbody tr th {\n",
       "        vertical-align: top;\n",
       "    }\n",
       "\n",
       "    .dataframe thead th {\n",
       "        text-align: right;\n",
       "    }\n",
       "</style>\n",
       "<table border=\"1\" class=\"dataframe\">\n",
       "  <thead>\n",
       "    <tr style=\"text-align: right;\">\n",
       "      <th></th>\n",
       "      <th>param_select__k</th>\n",
       "      <th>params</th>\n",
       "      <th>split0_test_score</th>\n",
       "      <th>split1_test_score</th>\n",
       "      <th>split2_test_score</th>\n",
       "      <th>mean_test_score</th>\n",
       "      <th>std_test_score</th>\n",
       "      <th>rank_test_score</th>\n",
       "      <th>split0_train_score</th>\n",
       "      <th>split1_train_score</th>\n",
       "      <th>split2_train_score</th>\n",
       "      <th>mean_train_score</th>\n",
       "      <th>std_train_score</th>\n",
       "    </tr>\n",
       "  </thead>\n",
       "  <tbody>\n",
       "    <tr>\n",
       "      <th>1</th>\n",
       "      <td>2</td>\n",
       "      <td>{'select__k': 2}</td>\n",
       "      <td>0.743340</td>\n",
       "      <td>0.697401</td>\n",
       "      <td>0.769781</td>\n",
       "      <td>0.736841</td>\n",
       "      <td>0.029904</td>\n",
       "      <td>1</td>\n",
       "      <td>0.736169</td>\n",
       "      <td>0.759337</td>\n",
       "      <td>0.724316</td>\n",
       "      <td>0.739941</td>\n",
       "      <td>0.014544</td>\n",
       "    </tr>\n",
       "    <tr>\n",
       "      <th>4</th>\n",
       "      <td>5</td>\n",
       "      <td>{'select__k': 5}</td>\n",
       "      <td>0.742039</td>\n",
       "      <td>0.700602</td>\n",
       "      <td>0.767366</td>\n",
       "      <td>0.736669</td>\n",
       "      <td>0.027519</td>\n",
       "      <td>2</td>\n",
       "      <td>0.739164</td>\n",
       "      <td>0.759475</td>\n",
       "      <td>0.726836</td>\n",
       "      <td>0.741825</td>\n",
       "      <td>0.013457</td>\n",
       "    </tr>\n",
       "    <tr>\n",
       "      <th>2</th>\n",
       "      <td>3</td>\n",
       "      <td>{'select__k': 3}</td>\n",
       "      <td>0.743463</td>\n",
       "      <td>0.697122</td>\n",
       "      <td>0.769180</td>\n",
       "      <td>0.736588</td>\n",
       "      <td>0.029817</td>\n",
       "      <td>3</td>\n",
       "      <td>0.736148</td>\n",
       "      <td>0.759381</td>\n",
       "      <td>0.724392</td>\n",
       "      <td>0.739974</td>\n",
       "      <td>0.014538</td>\n",
       "    </tr>\n",
       "    <tr>\n",
       "      <th>3</th>\n",
       "      <td>4</td>\n",
       "      <td>{'select__k': 4}</td>\n",
       "      <td>0.743364</td>\n",
       "      <td>0.696991</td>\n",
       "      <td>0.769222</td>\n",
       "      <td>0.736526</td>\n",
       "      <td>0.029882</td>\n",
       "      <td>4</td>\n",
       "      <td>0.736441</td>\n",
       "      <td>0.759407</td>\n",
       "      <td>0.724383</td>\n",
       "      <td>0.740077</td>\n",
       "      <td>0.014528</td>\n",
       "    </tr>\n",
       "    <tr>\n",
       "      <th>5</th>\n",
       "      <td>6</td>\n",
       "      <td>{'select__k': 6}</td>\n",
       "      <td>0.741571</td>\n",
       "      <td>0.698105</td>\n",
       "      <td>0.767169</td>\n",
       "      <td>0.735615</td>\n",
       "      <td>0.028508</td>\n",
       "      <td>5</td>\n",
       "      <td>0.739049</td>\n",
       "      <td>0.762434</td>\n",
       "      <td>0.726826</td>\n",
       "      <td>0.742770</td>\n",
       "      <td>0.014773</td>\n",
       "    </tr>\n",
       "    <tr>\n",
       "      <th>6</th>\n",
       "      <td>7</td>\n",
       "      <td>{'select__k': 7}</td>\n",
       "      <td>0.738846</td>\n",
       "      <td>0.697036</td>\n",
       "      <td>0.768209</td>\n",
       "      <td>0.734697</td>\n",
       "      <td>0.029204</td>\n",
       "      <td>6</td>\n",
       "      <td>0.743160</td>\n",
       "      <td>0.763001</td>\n",
       "      <td>0.727000</td>\n",
       "      <td>0.744387</td>\n",
       "      <td>0.014723</td>\n",
       "    </tr>\n",
       "    <tr>\n",
       "      <th>0</th>\n",
       "      <td>1</td>\n",
       "      <td>{'select__k': 1}</td>\n",
       "      <td>0.745010</td>\n",
       "      <td>0.694272</td>\n",
       "      <td>0.759461</td>\n",
       "      <td>0.732914</td>\n",
       "      <td>0.027954</td>\n",
       "      <td>7</td>\n",
       "      <td>0.729835</td>\n",
       "      <td>0.752784</td>\n",
       "      <td>0.721210</td>\n",
       "      <td>0.734609</td>\n",
       "      <td>0.013325</td>\n",
       "    </tr>\n",
       "  </tbody>\n",
       "</table>\n",
       "</div>"
      ],
      "text/plain": [
       "  param_select__k            params  split0_test_score  split1_test_score  \\\n",
       "1               2  {'select__k': 2}           0.743340           0.697401   \n",
       "4               5  {'select__k': 5}           0.742039           0.700602   \n",
       "2               3  {'select__k': 3}           0.743463           0.697122   \n",
       "3               4  {'select__k': 4}           0.743364           0.696991   \n",
       "5               6  {'select__k': 6}           0.741571           0.698105   \n",
       "6               7  {'select__k': 7}           0.738846           0.697036   \n",
       "0               1  {'select__k': 1}           0.745010           0.694272   \n",
       "\n",
       "   split2_test_score  mean_test_score  std_test_score  rank_test_score  \\\n",
       "1           0.769781         0.736841        0.029904                1   \n",
       "4           0.767366         0.736669        0.027519                2   \n",
       "2           0.769180         0.736588        0.029817                3   \n",
       "3           0.769222         0.736526        0.029882                4   \n",
       "5           0.767169         0.735615        0.028508                5   \n",
       "6           0.768209         0.734697        0.029204                6   \n",
       "0           0.759461         0.732914        0.027954                7   \n",
       "\n",
       "   split0_train_score  split1_train_score  split2_train_score  \\\n",
       "1            0.736169            0.759337            0.724316   \n",
       "4            0.739164            0.759475            0.726836   \n",
       "2            0.736148            0.759381            0.724392   \n",
       "3            0.736441            0.759407            0.724383   \n",
       "5            0.739049            0.762434            0.726826   \n",
       "6            0.743160            0.763001            0.727000   \n",
       "0            0.729835            0.752784            0.721210   \n",
       "\n",
       "   mean_train_score  std_train_score  \n",
       "1          0.739941         0.014544  \n",
       "4          0.741825         0.013457  \n",
       "2          0.739974         0.014538  \n",
       "3          0.740077         0.014528  \n",
       "5          0.742770         0.014773  \n",
       "6          0.744387         0.014723  \n",
       "0          0.734609         0.013325  "
      ]
     },
     "execution_count": 84,
     "metadata": {},
     "output_type": "execute_result"
    }
   ],
   "source": [
    "from sklearn.feature_selection import SelectKBest\n",
    "from sklearn.pipeline import Pipeline\n",
    "\n",
    "\n",
    "pipe = Pipeline([('select', SelectKBest(fit_and_score_features, k=3)),\n",
    "                 ('model', CoxPHSurvivalAnalysis())])\n",
    "\n",
    "from sklearn.model_selection import GridSearchCV, KFold\n",
    "\n",
    "param_grid = {'select__k': np.arange(1, feature_df_train.shape[1] + 1)}\n",
    "cv = KFold(n_splits=3, random_state=1, shuffle=True)\n",
    "gcv = GridSearchCV(pipe, param_grid, return_train_score=True, cv=cv)\n",
    "gcv.fit(feature_df_train, data_y)\n",
    "\n",
    "results = pd.DataFrame(gcv.cv_results_).sort_values(by='mean_test_score', ascending=False)\n",
    "results.loc[:, ~results.columns.str.endswith(\"_time\")]"
   ]
  },
  {
   "cell_type": "markdown",
   "metadata": {},
   "source": [
    "# Cox Time"
   ]
  },
  {
   "cell_type": "code",
   "execution_count": 252,
   "metadata": {},
   "outputs": [],
   "source": [
    "import numpy as np\n",
    "import pandas as pd\n",
    "import matplotlib.pyplot as plt\n",
    "from sklearn.preprocessing import StandardScaler\n",
    "from sklearn_pandas import DataFrameMapper\n",
    "from sklearn.preprocessing import LabelEncoder\n",
    "\n",
    "import torch\n",
    "import torchtuples as tt\n",
    "\n",
    "from pycox.datasets import metabric\n",
    "from pycox.models import CoxTime\n",
    "from pycox.models import CoxCC\n",
    "from pycox.models.cox_time import MLPVanillaCoxTime\n",
    "from pycox.evaluation import EvalSurv\n"
   ]
  },
  {
   "cell_type": "code",
   "execution_count": 253,
   "metadata": {},
   "outputs": [],
   "source": [
    "df_train = pd.read_excel(\"SimData_WList_Ver2.0.xls\", index_col = False, header=0)"
   ]
  },
  {
   "cell_type": "code",
   "execution_count": 254,
   "metadata": {
    "scrolled": true
   },
   "outputs": [
    {
     "data": {
      "text/html": [
       "<div>\n",
       "<style scoped>\n",
       "    .dataframe tbody tr th:only-of-type {\n",
       "        vertical-align: middle;\n",
       "    }\n",
       "\n",
       "    .dataframe tbody tr th {\n",
       "        vertical-align: top;\n",
       "    }\n",
       "\n",
       "    .dataframe thead th {\n",
       "        text-align: right;\n",
       "    }\n",
       "</style>\n",
       "<table border=\"1\" class=\"dataframe\">\n",
       "  <thead>\n",
       "    <tr style=\"text-align: right;\">\n",
       "      <th></th>\n",
       "      <th>Gender</th>\n",
       "      <th>Bloodtype</th>\n",
       "      <th>Inpt_attx</th>\n",
       "      <th>Age</th>\n",
       "      <th>BMI</th>\n",
       "      <th>MELD</th>\n",
       "      <th>MELDNA</th>\n",
       "      <th>Time</th>\n",
       "      <th>Cens</th>\n",
       "    </tr>\n",
       "  </thead>\n",
       "  <tbody>\n",
       "    <tr>\n",
       "      <th>0</th>\n",
       "      <td>Female</td>\n",
       "      <td>A</td>\n",
       "      <td>home</td>\n",
       "      <td>42.980695</td>\n",
       "      <td>24.281426</td>\n",
       "      <td>11.328118</td>\n",
       "      <td>8.490318</td>\n",
       "      <td>6905.806322</td>\n",
       "      <td>0</td>\n",
       "    </tr>\n",
       "    <tr>\n",
       "      <th>1</th>\n",
       "      <td>Male</td>\n",
       "      <td>O</td>\n",
       "      <td>inpt</td>\n",
       "      <td>43.194412</td>\n",
       "      <td>30.097404</td>\n",
       "      <td>15.295122</td>\n",
       "      <td>20.956402</td>\n",
       "      <td>4583.035351</td>\n",
       "      <td>0</td>\n",
       "    </tr>\n",
       "    <tr>\n",
       "      <th>2</th>\n",
       "      <td>Male</td>\n",
       "      <td>A</td>\n",
       "      <td>home</td>\n",
       "      <td>44.952546</td>\n",
       "      <td>30.445467</td>\n",
       "      <td>20.222330</td>\n",
       "      <td>28.063602</td>\n",
       "      <td>2434.090766</td>\n",
       "      <td>0</td>\n",
       "    </tr>\n",
       "    <tr>\n",
       "      <th>3</th>\n",
       "      <td>Male</td>\n",
       "      <td>B</td>\n",
       "      <td>home</td>\n",
       "      <td>48.929001</td>\n",
       "      <td>22.588535</td>\n",
       "      <td>16.742302</td>\n",
       "      <td>19.049439</td>\n",
       "      <td>946.529267</td>\n",
       "      <td>0</td>\n",
       "    </tr>\n",
       "    <tr>\n",
       "      <th>4</th>\n",
       "      <td>Male</td>\n",
       "      <td>B</td>\n",
       "      <td>home</td>\n",
       "      <td>52.098949</td>\n",
       "      <td>18.317275</td>\n",
       "      <td>19.038291</td>\n",
       "      <td>21.116394</td>\n",
       "      <td>1606.310627</td>\n",
       "      <td>0</td>\n",
       "    </tr>\n",
       "    <tr>\n",
       "      <th>...</th>\n",
       "      <td>...</td>\n",
       "      <td>...</td>\n",
       "      <td>...</td>\n",
       "      <td>...</td>\n",
       "      <td>...</td>\n",
       "      <td>...</td>\n",
       "      <td>...</td>\n",
       "      <td>...</td>\n",
       "      <td>...</td>\n",
       "    </tr>\n",
       "    <tr>\n",
       "      <th>4995</th>\n",
       "      <td>Male</td>\n",
       "      <td>O</td>\n",
       "      <td>home</td>\n",
       "      <td>61.664413</td>\n",
       "      <td>31.271787</td>\n",
       "      <td>18.259893</td>\n",
       "      <td>21.114819</td>\n",
       "      <td>1790.328790</td>\n",
       "      <td>0</td>\n",
       "    </tr>\n",
       "    <tr>\n",
       "      <th>4996</th>\n",
       "      <td>Male</td>\n",
       "      <td>O</td>\n",
       "      <td>home</td>\n",
       "      <td>75.972972</td>\n",
       "      <td>32.058615</td>\n",
       "      <td>20.185605</td>\n",
       "      <td>18.230574</td>\n",
       "      <td>115.020774</td>\n",
       "      <td>0</td>\n",
       "    </tr>\n",
       "    <tr>\n",
       "      <th>4997</th>\n",
       "      <td>Female</td>\n",
       "      <td>O</td>\n",
       "      <td>home</td>\n",
       "      <td>46.186842</td>\n",
       "      <td>29.661992</td>\n",
       "      <td>16.680831</td>\n",
       "      <td>25.907240</td>\n",
       "      <td>798.960205</td>\n",
       "      <td>1</td>\n",
       "    </tr>\n",
       "    <tr>\n",
       "      <th>4998</th>\n",
       "      <td>Male</td>\n",
       "      <td>O</td>\n",
       "      <td>home</td>\n",
       "      <td>51.977156</td>\n",
       "      <td>18.661174</td>\n",
       "      <td>16.390241</td>\n",
       "      <td>25.747759</td>\n",
       "      <td>5284.059611</td>\n",
       "      <td>0</td>\n",
       "    </tr>\n",
       "    <tr>\n",
       "      <th>4999</th>\n",
       "      <td>Female</td>\n",
       "      <td>O</td>\n",
       "      <td>home</td>\n",
       "      <td>51.938451</td>\n",
       "      <td>24.306741</td>\n",
       "      <td>12.438987</td>\n",
       "      <td>9.932539</td>\n",
       "      <td>1296.423448</td>\n",
       "      <td>0</td>\n",
       "    </tr>\n",
       "  </tbody>\n",
       "</table>\n",
       "<p>5000 rows × 9 columns</p>\n",
       "</div>"
      ],
      "text/plain": [
       "      Gender Bloodtype Inpt_attx        Age        BMI       MELD     MELDNA  \\\n",
       "0     Female         A      home  42.980695  24.281426  11.328118   8.490318   \n",
       "1       Male         O      inpt  43.194412  30.097404  15.295122  20.956402   \n",
       "2       Male         A      home  44.952546  30.445467  20.222330  28.063602   \n",
       "3       Male         B      home  48.929001  22.588535  16.742302  19.049439   \n",
       "4       Male         B      home  52.098949  18.317275  19.038291  21.116394   \n",
       "...      ...       ...       ...        ...        ...        ...        ...   \n",
       "4995    Male         O      home  61.664413  31.271787  18.259893  21.114819   \n",
       "4996    Male         O      home  75.972972  32.058615  20.185605  18.230574   \n",
       "4997  Female         O      home  46.186842  29.661992  16.680831  25.907240   \n",
       "4998    Male         O      home  51.977156  18.661174  16.390241  25.747759   \n",
       "4999  Female         O      home  51.938451  24.306741  12.438987   9.932539   \n",
       "\n",
       "             Time  Cens  \n",
       "0     6905.806322     0  \n",
       "1     4583.035351     0  \n",
       "2     2434.090766     0  \n",
       "3      946.529267     0  \n",
       "4     1606.310627     0  \n",
       "...           ...   ...  \n",
       "4995  1790.328790     0  \n",
       "4996   115.020774     0  \n",
       "4997   798.960205     1  \n",
       "4998  5284.059611     0  \n",
       "4999  1296.423448     0  \n",
       "\n",
       "[5000 rows x 9 columns]"
      ]
     },
     "execution_count": 254,
     "metadata": {},
     "output_type": "execute_result"
    }
   ],
   "source": [
    "df_train"
   ]
  },
  {
   "cell_type": "code",
   "execution_count": 255,
   "metadata": {},
   "outputs": [],
   "source": [
    "for i in range(len(df_train[\"Cens\"])):\n",
    "    if df_train[\"Cens\"][i] == 1:\n",
    "        if df_train.iloc[i,7] >= 12000:\n",
    "            print(df_train.iloc[i])\n",
    "            #print(i)\n",
    "            "
   ]
  },
  {
   "cell_type": "code",
   "execution_count": 256,
   "metadata": {},
   "outputs": [
    {
     "data": {
      "text/plain": [
       "Gender               Male\n",
       "Bloodtype               A\n",
       "Inpt_attx            home\n",
       "Age             47.285801\n",
       "BMI             29.470271\n",
       "MELD             14.74246\n",
       "MELDNA          13.915993\n",
       "Time         21558.498266\n",
       "Cens                    0\n",
       "Name: 3681, dtype: object"
      ]
     },
     "execution_count": 256,
     "metadata": {},
     "output_type": "execute_result"
    }
   ],
   "source": [
    "df_train.iloc[3681]"
   ]
  },
  {
   "cell_type": "code",
   "execution_count": 257,
   "metadata": {},
   "outputs": [],
   "source": [
    "le = LabelEncoder()\n",
    "df_train[\"Gender\"] = le.fit_transform(df_train[\"Gender\"])\n",
    "df_train[\"Bloodtype\"] = le.fit_transform(df_train[\"Bloodtype\"])\n",
    "#df_train[\"Donor_Bloodtype\"] = le.fit_transform(df_train[\"Donor_Bloodtype\"])\n",
    "df_train[\"Inpt_attx\"] = le.fit_transform(df_train[\"Inpt_attx\"])\n",
    "#df_train[\"Donor_Sex\"] = le.fit_transform(df_train[\"Donor_Sex\"])\n",
    "#df_train[\"Donor_DCD\"] = le.fit_transform(df_train[\"Donor_DCD\"])"
   ]
  },
  {
   "cell_type": "code",
   "execution_count": 258,
   "metadata": {},
   "outputs": [
    {
     "data": {
      "text/html": [
       "<div>\n",
       "<style scoped>\n",
       "    .dataframe tbody tr th:only-of-type {\n",
       "        vertical-align: middle;\n",
       "    }\n",
       "\n",
       "    .dataframe tbody tr th {\n",
       "        vertical-align: top;\n",
       "    }\n",
       "\n",
       "    .dataframe thead th {\n",
       "        text-align: right;\n",
       "    }\n",
       "</style>\n",
       "<table border=\"1\" class=\"dataframe\">\n",
       "  <thead>\n",
       "    <tr style=\"text-align: right;\">\n",
       "      <th></th>\n",
       "      <th>Gender</th>\n",
       "      <th>Bloodtype</th>\n",
       "      <th>Inpt_attx</th>\n",
       "      <th>Age</th>\n",
       "      <th>BMI</th>\n",
       "      <th>MELD</th>\n",
       "      <th>MELDNA</th>\n",
       "      <th>Time</th>\n",
       "      <th>Cens</th>\n",
       "    </tr>\n",
       "  </thead>\n",
       "  <tbody>\n",
       "    <tr>\n",
       "      <th>0</th>\n",
       "      <td>0</td>\n",
       "      <td>0</td>\n",
       "      <td>0</td>\n",
       "      <td>42.980695</td>\n",
       "      <td>24.281426</td>\n",
       "      <td>11.328118</td>\n",
       "      <td>8.490318</td>\n",
       "      <td>6905.806322</td>\n",
       "      <td>0</td>\n",
       "    </tr>\n",
       "    <tr>\n",
       "      <th>1</th>\n",
       "      <td>1</td>\n",
       "      <td>3</td>\n",
       "      <td>2</td>\n",
       "      <td>43.194412</td>\n",
       "      <td>30.097404</td>\n",
       "      <td>15.295122</td>\n",
       "      <td>20.956402</td>\n",
       "      <td>4583.035351</td>\n",
       "      <td>0</td>\n",
       "    </tr>\n",
       "    <tr>\n",
       "      <th>2</th>\n",
       "      <td>1</td>\n",
       "      <td>0</td>\n",
       "      <td>0</td>\n",
       "      <td>44.952546</td>\n",
       "      <td>30.445467</td>\n",
       "      <td>20.222330</td>\n",
       "      <td>28.063602</td>\n",
       "      <td>2434.090766</td>\n",
       "      <td>0</td>\n",
       "    </tr>\n",
       "    <tr>\n",
       "      <th>3</th>\n",
       "      <td>1</td>\n",
       "      <td>2</td>\n",
       "      <td>0</td>\n",
       "      <td>48.929001</td>\n",
       "      <td>22.588535</td>\n",
       "      <td>16.742302</td>\n",
       "      <td>19.049439</td>\n",
       "      <td>946.529267</td>\n",
       "      <td>0</td>\n",
       "    </tr>\n",
       "    <tr>\n",
       "      <th>4</th>\n",
       "      <td>1</td>\n",
       "      <td>2</td>\n",
       "      <td>0</td>\n",
       "      <td>52.098949</td>\n",
       "      <td>18.317275</td>\n",
       "      <td>19.038291</td>\n",
       "      <td>21.116394</td>\n",
       "      <td>1606.310627</td>\n",
       "      <td>0</td>\n",
       "    </tr>\n",
       "    <tr>\n",
       "      <th>...</th>\n",
       "      <td>...</td>\n",
       "      <td>...</td>\n",
       "      <td>...</td>\n",
       "      <td>...</td>\n",
       "      <td>...</td>\n",
       "      <td>...</td>\n",
       "      <td>...</td>\n",
       "      <td>...</td>\n",
       "      <td>...</td>\n",
       "    </tr>\n",
       "    <tr>\n",
       "      <th>4995</th>\n",
       "      <td>1</td>\n",
       "      <td>3</td>\n",
       "      <td>0</td>\n",
       "      <td>61.664413</td>\n",
       "      <td>31.271787</td>\n",
       "      <td>18.259893</td>\n",
       "      <td>21.114819</td>\n",
       "      <td>1790.328790</td>\n",
       "      <td>0</td>\n",
       "    </tr>\n",
       "    <tr>\n",
       "      <th>4996</th>\n",
       "      <td>1</td>\n",
       "      <td>3</td>\n",
       "      <td>0</td>\n",
       "      <td>75.972972</td>\n",
       "      <td>32.058615</td>\n",
       "      <td>20.185605</td>\n",
       "      <td>18.230574</td>\n",
       "      <td>115.020774</td>\n",
       "      <td>0</td>\n",
       "    </tr>\n",
       "    <tr>\n",
       "      <th>4997</th>\n",
       "      <td>0</td>\n",
       "      <td>3</td>\n",
       "      <td>0</td>\n",
       "      <td>46.186842</td>\n",
       "      <td>29.661992</td>\n",
       "      <td>16.680831</td>\n",
       "      <td>25.907240</td>\n",
       "      <td>798.960205</td>\n",
       "      <td>1</td>\n",
       "    </tr>\n",
       "    <tr>\n",
       "      <th>4998</th>\n",
       "      <td>1</td>\n",
       "      <td>3</td>\n",
       "      <td>0</td>\n",
       "      <td>51.977156</td>\n",
       "      <td>18.661174</td>\n",
       "      <td>16.390241</td>\n",
       "      <td>25.747759</td>\n",
       "      <td>5284.059611</td>\n",
       "      <td>0</td>\n",
       "    </tr>\n",
       "    <tr>\n",
       "      <th>4999</th>\n",
       "      <td>0</td>\n",
       "      <td>3</td>\n",
       "      <td>0</td>\n",
       "      <td>51.938451</td>\n",
       "      <td>24.306741</td>\n",
       "      <td>12.438987</td>\n",
       "      <td>9.932539</td>\n",
       "      <td>1296.423448</td>\n",
       "      <td>0</td>\n",
       "    </tr>\n",
       "  </tbody>\n",
       "</table>\n",
       "<p>5000 rows × 9 columns</p>\n",
       "</div>"
      ],
      "text/plain": [
       "      Gender  Bloodtype  Inpt_attx        Age        BMI       MELD  \\\n",
       "0          0          0          0  42.980695  24.281426  11.328118   \n",
       "1          1          3          2  43.194412  30.097404  15.295122   \n",
       "2          1          0          0  44.952546  30.445467  20.222330   \n",
       "3          1          2          0  48.929001  22.588535  16.742302   \n",
       "4          1          2          0  52.098949  18.317275  19.038291   \n",
       "...      ...        ...        ...        ...        ...        ...   \n",
       "4995       1          3          0  61.664413  31.271787  18.259893   \n",
       "4996       1          3          0  75.972972  32.058615  20.185605   \n",
       "4997       0          3          0  46.186842  29.661992  16.680831   \n",
       "4998       1          3          0  51.977156  18.661174  16.390241   \n",
       "4999       0          3          0  51.938451  24.306741  12.438987   \n",
       "\n",
       "         MELDNA         Time  Cens  \n",
       "0      8.490318  6905.806322     0  \n",
       "1     20.956402  4583.035351     0  \n",
       "2     28.063602  2434.090766     0  \n",
       "3     19.049439   946.529267     0  \n",
       "4     21.116394  1606.310627     0  \n",
       "...         ...          ...   ...  \n",
       "4995  21.114819  1790.328790     0  \n",
       "4996  18.230574   115.020774     0  \n",
       "4997  25.907240   798.960205     1  \n",
       "4998  25.747759  5284.059611     0  \n",
       "4999   9.932539  1296.423448     0  \n",
       "\n",
       "[5000 rows x 9 columns]"
      ]
     },
     "execution_count": 258,
     "metadata": {},
     "output_type": "execute_result"
    }
   ],
   "source": [
    "df_train"
   ]
  },
  {
   "cell_type": "code",
   "execution_count": 259,
   "metadata": {},
   "outputs": [],
   "source": [
    "df_test = df_train.sample(frac=0.2)\n",
    "df_train = df_train.drop(df_test.index)\n",
    "df_val = df_train.sample(frac=0.2)\n",
    "df_train = df_train.drop(df_val.index)"
   ]
  },
  {
   "cell_type": "code",
   "execution_count": 260,
   "metadata": {},
   "outputs": [],
   "source": [
    "#X_train = df_train.drop(['Donor_Sex', 'Gender', 'Donor_DCD', 'Donor_BMI', 'Donor_Age', 'MELDNA'], axis=1)\n",
    "X_train = df_train.drop(['Gender','Age', 'Bloodtype','BMI','Inpt_attx'], axis=1)"
   ]
  },
  {
   "cell_type": "code",
   "execution_count": 261,
   "metadata": {},
   "outputs": [],
   "source": [
    "#X_test = df_test.drop(['Donor_Sex', 'Gender', 'Donor_DCD', 'Donor_BMI', 'Donor_Age'], axis=1)\n",
    "X_test = df_test.drop(['Gender','Age', 'Bloodtype','BMI','Inpt_attx'], axis=1)\n",
    "X_val = df_val.drop(['Gender','Age', 'Bloodtype','BMI',\"Inpt_attx\"], axis=1)"
   ]
  },
  {
   "cell_type": "code",
   "execution_count": 262,
   "metadata": {
    "scrolled": true
   },
   "outputs": [
    {
     "data": {
      "text/html": [
       "<div>\n",
       "<style scoped>\n",
       "    .dataframe tbody tr th:only-of-type {\n",
       "        vertical-align: middle;\n",
       "    }\n",
       "\n",
       "    .dataframe tbody tr th {\n",
       "        vertical-align: top;\n",
       "    }\n",
       "\n",
       "    .dataframe thead th {\n",
       "        text-align: right;\n",
       "    }\n",
       "</style>\n",
       "<table border=\"1\" class=\"dataframe\">\n",
       "  <thead>\n",
       "    <tr style=\"text-align: right;\">\n",
       "      <th></th>\n",
       "      <th>MELD</th>\n",
       "      <th>MELDNA</th>\n",
       "      <th>Time</th>\n",
       "      <th>Cens</th>\n",
       "    </tr>\n",
       "  </thead>\n",
       "  <tbody>\n",
       "    <tr>\n",
       "      <th>3362</th>\n",
       "      <td>13.604982</td>\n",
       "      <td>13.607422</td>\n",
       "      <td>284.375062</td>\n",
       "      <td>0</td>\n",
       "    </tr>\n",
       "    <tr>\n",
       "      <th>2725</th>\n",
       "      <td>31.335342</td>\n",
       "      <td>31.052676</td>\n",
       "      <td>621.897548</td>\n",
       "      <td>0</td>\n",
       "    </tr>\n",
       "    <tr>\n",
       "      <th>4226</th>\n",
       "      <td>14.950357</td>\n",
       "      <td>14.124940</td>\n",
       "      <td>108.075242</td>\n",
       "      <td>0</td>\n",
       "    </tr>\n",
       "    <tr>\n",
       "      <th>4684</th>\n",
       "      <td>19.927931</td>\n",
       "      <td>17.939220</td>\n",
       "      <td>6169.817185</td>\n",
       "      <td>0</td>\n",
       "    </tr>\n",
       "    <tr>\n",
       "      <th>4985</th>\n",
       "      <td>9.090190</td>\n",
       "      <td>9.090647</td>\n",
       "      <td>7168.471419</td>\n",
       "      <td>0</td>\n",
       "    </tr>\n",
       "    <tr>\n",
       "      <th>...</th>\n",
       "      <td>...</td>\n",
       "      <td>...</td>\n",
       "      <td>...</td>\n",
       "      <td>...</td>\n",
       "    </tr>\n",
       "    <tr>\n",
       "      <th>1609</th>\n",
       "      <td>32.309463</td>\n",
       "      <td>31.810719</td>\n",
       "      <td>1901.690220</td>\n",
       "      <td>0</td>\n",
       "    </tr>\n",
       "    <tr>\n",
       "      <th>4907</th>\n",
       "      <td>17.194209</td>\n",
       "      <td>17.191435</td>\n",
       "      <td>10158.831693</td>\n",
       "      <td>0</td>\n",
       "    </tr>\n",
       "    <tr>\n",
       "      <th>2928</th>\n",
       "      <td>19.995242</td>\n",
       "      <td>24.692648</td>\n",
       "      <td>3941.400564</td>\n",
       "      <td>0</td>\n",
       "    </tr>\n",
       "    <tr>\n",
       "      <th>4886</th>\n",
       "      <td>13.826435</td>\n",
       "      <td>8.923410</td>\n",
       "      <td>2969.249894</td>\n",
       "      <td>0</td>\n",
       "    </tr>\n",
       "    <tr>\n",
       "      <th>1649</th>\n",
       "      <td>24.086408</td>\n",
       "      <td>30.389637</td>\n",
       "      <td>541.591906</td>\n",
       "      <td>1</td>\n",
       "    </tr>\n",
       "  </tbody>\n",
       "</table>\n",
       "<p>800 rows × 4 columns</p>\n",
       "</div>"
      ],
      "text/plain": [
       "           MELD     MELDNA          Time  Cens\n",
       "3362  13.604982  13.607422    284.375062     0\n",
       "2725  31.335342  31.052676    621.897548     0\n",
       "4226  14.950357  14.124940    108.075242     0\n",
       "4684  19.927931  17.939220   6169.817185     0\n",
       "4985   9.090190   9.090647   7168.471419     0\n",
       "...         ...        ...           ...   ...\n",
       "1609  32.309463  31.810719   1901.690220     0\n",
       "4907  17.194209  17.191435  10158.831693     0\n",
       "2928  19.995242  24.692648   3941.400564     0\n",
       "4886  13.826435   8.923410   2969.249894     0\n",
       "1649  24.086408  30.389637    541.591906     1\n",
       "\n",
       "[800 rows x 4 columns]"
      ]
     },
     "execution_count": 262,
     "metadata": {},
     "output_type": "execute_result"
    }
   ],
   "source": [
    "X_val"
   ]
  },
  {
   "cell_type": "code",
   "execution_count": 263,
   "metadata": {},
   "outputs": [],
   "source": [
    "#cols_standardize = ['Waittime', 'Age_Tx', 'TransplantBMI', 'MELD', 'MELDNA']\n",
    "cols_standardize = ['MELDNA', 'MELD']\n",
    "#cols_leave = ['Bloodtype', 'Inpt_attx', 'Donor_Bloodtype']\n",
    "cols_leave = []#['Inpt_attx']\n",
    "standardize = [([col], StandardScaler()) for col in cols_standardize]\n",
    "leave = [(col, None) for col in cols_leave]\n",
    "\n",
    "x_mapper = DataFrameMapper(standardize + leave)"
   ]
  },
  {
   "cell_type": "code",
   "execution_count": 264,
   "metadata": {},
   "outputs": [],
   "source": [
    "x_train = x_mapper.fit_transform(X_train).astype('float32')\n",
    "x_val = x_mapper.transform(X_val).astype('float32')\n",
    "x_test = x_mapper.transform(X_test).astype('float32')"
   ]
  },
  {
   "cell_type": "code",
   "execution_count": 265,
   "metadata": {},
   "outputs": [
    {
     "data": {
      "text/plain": [
       "array([ 0.21544364, -0.32053035], dtype=float32)"
      ]
     },
     "execution_count": 265,
     "metadata": {},
     "output_type": "execute_result"
    }
   ],
   "source": [
    "x_train[0]"
   ]
  },
  {
   "cell_type": "code",
   "execution_count": 266,
   "metadata": {},
   "outputs": [
    {
     "data": {
      "text/plain": [
       "array([[ 0.21544364, -0.32053035],\n",
       "       [ 0.9607592 ,  0.22789656],\n",
       "       [ 0.01546485, -0.15945087],\n",
       "       ...,\n",
       "       [ 0.73462653, -0.16629292],\n",
       "       [ 0.7179021 , -0.19863732],\n",
       "       [-0.94060326, -0.63843477]], dtype=float32)"
      ]
     },
     "execution_count": 266,
     "metadata": {},
     "output_type": "execute_result"
    }
   ],
   "source": [
    "x_train"
   ]
  },
  {
   "cell_type": "code",
   "execution_count": 267,
   "metadata": {},
   "outputs": [
    {
     "data": {
      "text/html": [
       "<div>\n",
       "<style scoped>\n",
       "    .dataframe tbody tr th:only-of-type {\n",
       "        vertical-align: middle;\n",
       "    }\n",
       "\n",
       "    .dataframe tbody tr th {\n",
       "        vertical-align: top;\n",
       "    }\n",
       "\n",
       "    .dataframe thead th {\n",
       "        text-align: right;\n",
       "    }\n",
       "</style>\n",
       "<table border=\"1\" class=\"dataframe\">\n",
       "  <thead>\n",
       "    <tr style=\"text-align: right;\">\n",
       "      <th></th>\n",
       "      <th>Gender</th>\n",
       "      <th>Bloodtype</th>\n",
       "      <th>Inpt_attx</th>\n",
       "      <th>Age</th>\n",
       "      <th>BMI</th>\n",
       "      <th>MELD</th>\n",
       "      <th>MELDNA</th>\n",
       "      <th>Time</th>\n",
       "      <th>Cens</th>\n",
       "    </tr>\n",
       "  </thead>\n",
       "  <tbody>\n",
       "    <tr>\n",
       "      <th>3623</th>\n",
       "      <td>0</td>\n",
       "      <td>0</td>\n",
       "      <td>2</td>\n",
       "      <td>46.200812</td>\n",
       "      <td>33.017982</td>\n",
       "      <td>17.297324</td>\n",
       "      <td>22.274731</td>\n",
       "      <td>3959.548310</td>\n",
       "      <td>0</td>\n",
       "    </tr>\n",
       "    <tr>\n",
       "      <th>1096</th>\n",
       "      <td>0</td>\n",
       "      <td>3</td>\n",
       "      <td>0</td>\n",
       "      <td>25.882629</td>\n",
       "      <td>16.326155</td>\n",
       "      <td>10.146663</td>\n",
       "      <td>10.144096</td>\n",
       "      <td>1528.120252</td>\n",
       "      <td>0</td>\n",
       "    </tr>\n",
       "    <tr>\n",
       "      <th>2043</th>\n",
       "      <td>1</td>\n",
       "      <td>3</td>\n",
       "      <td>0</td>\n",
       "      <td>54.981221</td>\n",
       "      <td>30.357542</td>\n",
       "      <td>9.071077</td>\n",
       "      <td>9.069809</td>\n",
       "      <td>182.333312</td>\n",
       "      <td>0</td>\n",
       "    </tr>\n",
       "    <tr>\n",
       "      <th>2845</th>\n",
       "      <td>1</td>\n",
       "      <td>3</td>\n",
       "      <td>0</td>\n",
       "      <td>53.058647</td>\n",
       "      <td>30.188028</td>\n",
       "      <td>29.503786</td>\n",
       "      <td>31.998548</td>\n",
       "      <td>3.025749</td>\n",
       "      <td>1</td>\n",
       "    </tr>\n",
       "    <tr>\n",
       "      <th>3999</th>\n",
       "      <td>1</td>\n",
       "      <td>3</td>\n",
       "      <td>0</td>\n",
       "      <td>60.040566</td>\n",
       "      <td>34.510428</td>\n",
       "      <td>28.228131</td>\n",
       "      <td>32.018067</td>\n",
       "      <td>3495.055970</td>\n",
       "      <td>0</td>\n",
       "    </tr>\n",
       "    <tr>\n",
       "      <th>...</th>\n",
       "      <td>...</td>\n",
       "      <td>...</td>\n",
       "      <td>...</td>\n",
       "      <td>...</td>\n",
       "      <td>...</td>\n",
       "      <td>...</td>\n",
       "      <td>...</td>\n",
       "      <td>...</td>\n",
       "      <td>...</td>\n",
       "    </tr>\n",
       "    <tr>\n",
       "      <th>3817</th>\n",
       "      <td>1</td>\n",
       "      <td>3</td>\n",
       "      <td>0</td>\n",
       "      <td>51.377953</td>\n",
       "      <td>24.721792</td>\n",
       "      <td>23.366378</td>\n",
       "      <td>22.263773</td>\n",
       "      <td>3017.904248</td>\n",
       "      <td>1</td>\n",
       "    </tr>\n",
       "    <tr>\n",
       "      <th>4109</th>\n",
       "      <td>0</td>\n",
       "      <td>0</td>\n",
       "      <td>0</td>\n",
       "      <td>52.367902</td>\n",
       "      <td>23.049592</td>\n",
       "      <td>14.896456</td>\n",
       "      <td>19.047655</td>\n",
       "      <td>4002.842257</td>\n",
       "      <td>0</td>\n",
       "    </tr>\n",
       "    <tr>\n",
       "      <th>2668</th>\n",
       "      <td>0</td>\n",
       "      <td>1</td>\n",
       "      <td>0</td>\n",
       "      <td>49.771732</td>\n",
       "      <td>32.146334</td>\n",
       "      <td>12.081753</td>\n",
       "      <td>11.159280</td>\n",
       "      <td>2717.275799</td>\n",
       "      <td>0</td>\n",
       "    </tr>\n",
       "    <tr>\n",
       "      <th>3770</th>\n",
       "      <td>0</td>\n",
       "      <td>3</td>\n",
       "      <td>0</td>\n",
       "      <td>51.678392</td>\n",
       "      <td>39.595222</td>\n",
       "      <td>24.298016</td>\n",
       "      <td>29.410331</td>\n",
       "      <td>1830.485190</td>\n",
       "      <td>0</td>\n",
       "    </tr>\n",
       "    <tr>\n",
       "      <th>2121</th>\n",
       "      <td>1</td>\n",
       "      <td>0</td>\n",
       "      <td>0</td>\n",
       "      <td>64.725804</td>\n",
       "      <td>20.939349</td>\n",
       "      <td>6.338064</td>\n",
       "      <td>6.334144</td>\n",
       "      <td>323.074247</td>\n",
       "      <td>0</td>\n",
       "    </tr>\n",
       "  </tbody>\n",
       "</table>\n",
       "<p>1000 rows × 9 columns</p>\n",
       "</div>"
      ],
      "text/plain": [
       "      Gender  Bloodtype  Inpt_attx        Age        BMI       MELD  \\\n",
       "3623       0          0          2  46.200812  33.017982  17.297324   \n",
       "1096       0          3          0  25.882629  16.326155  10.146663   \n",
       "2043       1          3          0  54.981221  30.357542   9.071077   \n",
       "2845       1          3          0  53.058647  30.188028  29.503786   \n",
       "3999       1          3          0  60.040566  34.510428  28.228131   \n",
       "...      ...        ...        ...        ...        ...        ...   \n",
       "3817       1          3          0  51.377953  24.721792  23.366378   \n",
       "4109       0          0          0  52.367902  23.049592  14.896456   \n",
       "2668       0          1          0  49.771732  32.146334  12.081753   \n",
       "3770       0          3          0  51.678392  39.595222  24.298016   \n",
       "2121       1          0          0  64.725804  20.939349   6.338064   \n",
       "\n",
       "         MELDNA         Time  Cens  \n",
       "3623  22.274731  3959.548310     0  \n",
       "1096  10.144096  1528.120252     0  \n",
       "2043   9.069809   182.333312     0  \n",
       "2845  31.998548     3.025749     1  \n",
       "3999  32.018067  3495.055970     0  \n",
       "...         ...          ...   ...  \n",
       "3817  22.263773  3017.904248     1  \n",
       "4109  19.047655  4002.842257     0  \n",
       "2668  11.159280  2717.275799     0  \n",
       "3770  29.410331  1830.485190     0  \n",
       "2121   6.334144   323.074247     0  \n",
       "\n",
       "[1000 rows x 9 columns]"
      ]
     },
     "execution_count": 267,
     "metadata": {},
     "output_type": "execute_result"
    }
   ],
   "source": [
    "df_test"
   ]
  },
  {
   "cell_type": "code",
   "execution_count": 268,
   "metadata": {},
   "outputs": [],
   "source": [
    "labtrans = CoxTime.label_transform()\n",
    "get_target = lambda df: (df['Time'].values, df['Cens'].values)\n",
    "y_train = labtrans.fit_transform(*get_target(df_train))\n",
    "y_val = labtrans.transform(*get_target(df_val))\n",
    "y_test = labtrans.transform(*get_target(df_test))\n",
    "Time_test, Cens_test = get_target(df_test)\n",
    "val = tt.tuplefy(x_val, y_val)"
   ]
  },
  {
   "cell_type": "code",
   "execution_count": 269,
   "metadata": {},
   "outputs": [
    {
     "data": {
      "text/plain": [
       "((800, 2), ((800,), (800,)))"
      ]
     },
     "execution_count": 269,
     "metadata": {},
     "output_type": "execute_result"
    }
   ],
   "source": [
    "val.shapes()"
   ]
  },
  {
   "cell_type": "code",
   "execution_count": 270,
   "metadata": {},
   "outputs": [
    {
     "data": {
      "text/plain": [
       "array([ 0.21544364, -0.32053035], dtype=float32)"
      ]
     },
     "execution_count": 270,
     "metadata": {},
     "output_type": "execute_result"
    }
   ],
   "source": [
    "x_train[0]"
   ]
  },
  {
   "cell_type": "markdown",
   "metadata": {},
   "source": [
    "# Neural net\n",
    "We create a simple MLP with two hidden layers, ReLU activations, batch norm and dropout. The net required by CoxTime is slightly different than most of the other methods as it also take time and an additional input argument. We have therefore crated the MLPVanillaCoxTime class that is a suitable version of tt.practical.MLPVanilla. This class also removes the options for setting out_features and output_bias as they should be 1 and False, respectively."
   ]
  },
  {
   "cell_type": "code",
   "execution_count": 271,
   "metadata": {},
   "outputs": [],
   "source": [
    "in_features = x_train.shape[1]\n",
    "num_nodes = [32, 32]\n",
    "batch_norm = True\n",
    "dropout = 0.1\n",
    "net = MLPVanillaCoxTime(in_features, num_nodes, batch_norm, dropout)"
   ]
  },
  {
   "cell_type": "markdown",
   "metadata": {},
   "source": [
    "# Training the model\n",
    "To train the model we need to define an optimizer. You can choose any torch.optim optimizer, but here we instead use one from tt.optim as it has some added functionality. We use the Adam optimizer, but instead of choosing a learning rate, we will use the scheme proposed by Smith 2017 to find a suitable learning rate with model.lr_finder. See this post for an explanation.\n",
    "\n",
    "We also set labtrans which connects the output nodes of the network the the label transform of the durations. This is only useful for prediction and does not affect the training procedure."
   ]
  },
  {
   "cell_type": "code",
   "execution_count": 272,
   "metadata": {},
   "outputs": [],
   "source": [
    "model = CoxTime(net, tt.optim.Adam, labtrans=labtrans)"
   ]
  },
  {
   "cell_type": "code",
   "execution_count": 273,
   "metadata": {},
   "outputs": [
    {
     "data": {
      "image/png": "[encoded data removed]",
      "text/plain": [
       "<Figure size 432x288 with 1 Axes>"
      ]
     },
     "metadata": {
      "needs_background": "light"
     },
     "output_type": "display_data"
    }
   ],
   "source": [
    "batch_size = 256\n",
    "lrfinder = model.lr_finder(x_train, y_train, batch_size, tolerance=2)\n",
    "_ = lrfinder.plot()"
   ]
  },
  {
   "cell_type": "code",
   "execution_count": 274,
   "metadata": {},
   "outputs": [
    {
     "data": {
      "text/plain": [
       "0.1873817422860396"
      ]
     },
     "execution_count": 274,
     "metadata": {},
     "output_type": "execute_result"
    }
   ],
   "source": [
    "lrfinder.get_best_lr()"
   ]
  },
  {
   "cell_type": "markdown",
   "metadata": {},
   "source": [
    "The learning rate is high in general case, so we decrease it to 0.01"
   ]
  },
  {
   "cell_type": "code",
   "execution_count": 275,
   "metadata": {},
   "outputs": [],
   "source": [
    "model.optimizer.set_lr(0.01)"
   ]
  },
  {
   "cell_type": "code",
   "execution_count": 276,
   "metadata": {},
   "outputs": [],
   "source": [
    "epochs = 512\n",
    "callbacks = [tt.callbacks.EarlyStopping()]\n",
    "verbose = True"
   ]
  },
  {
   "cell_type": "code",
   "execution_count": 277,
   "metadata": {},
   "outputs": [
    {
     "name": "stdout",
     "output_type": "stream",
     "text": [
      "0:\t[0s / 0s],\t\ttrain_loss: 0.8162,\tval_loss: 0.6986\n",
      "1:\t[0s / 0s],\t\ttrain_loss: 0.5567,\tval_loss: 0.6132\n",
      "2:\t[0s / 0s],\t\ttrain_loss: 0.5601,\tval_loss: 0.5730\n",
      "3:\t[0s / 0s],\t\ttrain_loss: 0.5794,\tval_loss: 0.5662\n",
      "4:\t[0s / 0s],\t\ttrain_loss: 0.6101,\tval_loss: 0.5581\n",
      "5:\t[0s / 0s],\t\ttrain_loss: 0.5485,\tval_loss: 0.5599\n",
      "6:\t[0s / 0s],\t\ttrain_loss: 0.5421,\tval_loss: 0.5653\n",
      "7:\t[0s / 0s],\t\ttrain_loss: 0.5135,\tval_loss: 0.5746\n",
      "8:\t[0s / 0s],\t\ttrain_loss: 0.5095,\tval_loss: 0.5643\n",
      "9:\t[0s / 0s],\t\ttrain_loss: 0.5244,\tval_loss: 0.5704\n",
      "10:\t[0s / 0s],\t\ttrain_loss: 0.5356,\tval_loss: 0.5544\n",
      "11:\t[0s / 0s],\t\ttrain_loss: 0.4923,\tval_loss: 0.5693\n",
      "12:\t[0s / 0s],\t\ttrain_loss: 0.5241,\tval_loss: 0.5655\n",
      "13:\t[0s / 0s],\t\ttrain_loss: 0.5586,\tval_loss: 0.5622\n",
      "14:\t[0s / 0s],\t\ttrain_loss: 0.5091,\tval_loss: 0.5725\n",
      "15:\t[0s / 0s],\t\ttrain_loss: 0.5090,\tval_loss: 0.5555\n",
      "16:\t[0s / 0s],\t\ttrain_loss: 0.5314,\tval_loss: 0.5496\n",
      "17:\t[0s / 0s],\t\ttrain_loss: 0.5417,\tval_loss: 0.5581\n",
      "18:\t[0s / 0s],\t\ttrain_loss: 0.5163,\tval_loss: 0.5655\n",
      "19:\t[0s / 0s],\t\ttrain_loss: 0.5259,\tval_loss: 0.5722\n",
      "20:\t[0s / 0s],\t\ttrain_loss: 0.5357,\tval_loss: 0.5643\n",
      "21:\t[0s / 0s],\t\ttrain_loss: 0.5108,\tval_loss: 0.5542\n",
      "22:\t[0s / 0s],\t\ttrain_loss: 0.5003,\tval_loss: 0.5452\n",
      "23:\t[0s / 0s],\t\ttrain_loss: 0.5241,\tval_loss: 0.5556\n",
      "24:\t[0s / 0s],\t\ttrain_loss: 0.5034,\tval_loss: 0.5602\n",
      "25:\t[0s / 0s],\t\ttrain_loss: 0.5051,\tval_loss: 0.5305\n",
      "26:\t[0s / 0s],\t\ttrain_loss: 0.5223,\tval_loss: 0.5414\n",
      "27:\t[0s / 0s],\t\ttrain_loss: 0.5013,\tval_loss: 0.5420\n",
      "28:\t[0s / 0s],\t\ttrain_loss: 0.4933,\tval_loss: 0.5327\n",
      "29:\t[0s / 0s],\t\ttrain_loss: 0.4809,\tval_loss: 0.5563\n",
      "30:\t[0s / 0s],\t\ttrain_loss: 0.4955,\tval_loss: 0.5464\n",
      "31:\t[0s / 0s],\t\ttrain_loss: 0.5323,\tval_loss: 0.5550\n",
      "32:\t[0s / 0s],\t\ttrain_loss: 0.5087,\tval_loss: 0.5639\n",
      "33:\t[0s / 0s],\t\ttrain_loss: 0.5067,\tval_loss: 0.5532\n",
      "34:\t[0s / 0s],\t\ttrain_loss: 0.5020,\tval_loss: 0.5341\n",
      "35:\t[0s / 0s],\t\ttrain_loss: 0.4759,\tval_loss: 0.5429\n",
      "Wall time: 817 ms\n"
     ]
    }
   ],
   "source": [
    "%%time\n",
    "log = model.fit(x_train, y_train, batch_size, epochs, callbacks, verbose,\n",
    "                val_data=val.repeat(10).cat())"
   ]
  },
  {
   "cell_type": "code",
   "execution_count": 278,
   "metadata": {},
   "outputs": [
    {
     "data": {
      "image/png": "[encoded data removed]",
      "text/plain": [
       "<Figure size 432x288 with 1 Axes>"
      ]
     },
     "metadata": {
      "needs_background": "light"
     },
     "output_type": "display_data"
    }
   ],
   "source": [
    "_ = log.plot()"
   ]
  },
  {
   "cell_type": "code",
   "execution_count": 279,
   "metadata": {},
   "outputs": [
    {
     "data": {
      "text/plain": [
       "-5.827738285064697"
      ]
     },
     "execution_count": 279,
     "metadata": {},
     "output_type": "execute_result"
    }
   ],
   "source": [
    "model.partial_log_likelihood(*val).mean() #partial log-likelihood"
   ]
  },
  {
   "cell_type": "markdown",
   "metadata": {},
   "source": [
    "# Prediction\n",
    "For evaluation we first need to obtain survival estimates for the test set. This can be done with model.predict_surv which returns an array of survival estimates, or with model.predict_surv_df which returns the survival estimates as a dataframe.\n",
    "\n",
    "However, as Cox-Time is semi-parametric, we first need to get the non-parametric baseline hazard estimates with compute_baseline_hazards.\n",
    "\n",
    "Note that for large datasets the sample argument can be used to estimate the baseline hazard on a subset."
   ]
  },
  {
   "cell_type": "code",
   "execution_count": 280,
   "metadata": {},
   "outputs": [],
   "source": [
    "_ = model.compute_baseline_hazards()\n",
    "surv = model.predict_surv_df(x_test)"
   ]
  },
  {
   "cell_type": "code",
   "execution_count": 281,
   "metadata": {
    "scrolled": true
   },
   "outputs": [
    {
     "data": {
      "image/png": "[encoded data removed]",
      "text/plain": [
       "<Figure size 432x288 with 1 Axes>"
      ]
     },
     "metadata": {
      "needs_background": "light"
     },
     "output_type": "display_data"
    }
   ],
   "source": [
    "surv.iloc[:, :5].plot()\n",
    "plt.ylabel('S(t | x)')\n",
    "_ = plt.xlabel('Time')"
   ]
  },
  {
   "cell_type": "markdown",
   "metadata": {},
   "source": [
    "# Evaluation\n",
    "We can use the EvalSurv class for evaluation the concordance, brier score and binomial log-likelihood. Setting censor_surv='km' means that we estimate the censoring distribution by Kaplan-Meier on the test set."
   ]
  },
  {
   "cell_type": "code",
   "execution_count": 282,
   "metadata": {},
   "outputs": [],
   "source": [
    "ev = EvalSurv(surv, Time_test, Cens_test, censor_surv='km')"
   ]
  },
  {
   "cell_type": "markdown",
   "metadata": {},
   "source": [
    "Measure of goodness of fit for binary outcomes in a logistic regression model.  \n",
    "A value below 0.5 indicates a very poor model.  \n",
    "A value of 0.5 means that the model is no better than predicting an outcome than random chance.  \n",
    "Values over 0.7 indicate a good model."
   ]
  },
  {
   "cell_type": "code",
   "execution_count": 283,
   "metadata": {},
   "outputs": [
    {
     "data": {
      "text/plain": [
       "0.7440946773999759"
      ]
     },
     "execution_count": 283,
     "metadata": {},
     "output_type": "execute_result"
    }
   ],
   "source": [
    "ev.concordance_td()"
   ]
  },
  {
   "cell_type": "code",
   "execution_count": 284,
   "metadata": {},
   "outputs": [
    {
     "data": {
      "image/png": "[encoded data removed]",
      "text/plain": [
       "<Figure size 432x288 with 1 Axes>"
      ]
     },
     "metadata": {
      "needs_background": "light"
     },
     "output_type": "display_data"
    }
   ],
   "source": [
    "time_grid = np.linspace(Time_test.min(), Time_test.max(), 100)\n",
    "_ = ev.brier_score(time_grid).plot()"
   ]
  },
  {
   "cell_type": "markdown",
   "metadata": {},
   "source": [
    " The Brier score is used to evaluate the accuracy of a predicted survival function at a given time t"
   ]
  },
  {
   "cell_type": "code",
   "execution_count": 285,
   "metadata": {},
   "outputs": [
    {
     "data": {
      "text/plain": [
       "0.16102695883630289"
      ]
     },
     "execution_count": 285,
     "metadata": {},
     "output_type": "execute_result"
    }
   ],
   "source": [
    "ev.integrated_brier_score(time_grid) #brier_score"
   ]
  },
  {
   "cell_type": "code",
   "execution_count": 286,
   "metadata": {
    "scrolled": true
   },
   "outputs": [
    {
     "data": {
      "text/plain": [
       "0.49173145783824523"
      ]
     },
     "execution_count": 286,
     "metadata": {},
     "output_type": "execute_result"
    }
   ],
   "source": [
    "ev.integrated_nbll(time_grid) #binomial log-likelihood"
   ]
  },
  {
   "cell_type": "code",
   "execution_count": 287,
   "metadata": {},
   "outputs": [
    {
     "data": {
      "text/html": [
       "<div>\n",
       "<style scoped>\n",
       "    .dataframe tbody tr th:only-of-type {\n",
       "        vertical-align: middle;\n",
       "    }\n",
       "\n",
       "    .dataframe tbody tr th {\n",
       "        vertical-align: top;\n",
       "    }\n",
       "\n",
       "    .dataframe thead th {\n",
       "        text-align: right;\n",
       "    }\n",
       "</style>\n",
       "<table border=\"1\" class=\"dataframe\">\n",
       "  <thead>\n",
       "    <tr style=\"text-align: right;\">\n",
       "      <th></th>\n",
       "      <th>0</th>\n",
       "      <th>1</th>\n",
       "      <th>2</th>\n",
       "      <th>3</th>\n",
       "      <th>4</th>\n",
       "      <th>5</th>\n",
       "      <th>6</th>\n",
       "      <th>7</th>\n",
       "      <th>8</th>\n",
       "      <th>9</th>\n",
       "      <th>...</th>\n",
       "      <th>990</th>\n",
       "      <th>991</th>\n",
       "      <th>992</th>\n",
       "      <th>993</th>\n",
       "      <th>994</th>\n",
       "      <th>995</th>\n",
       "      <th>996</th>\n",
       "      <th>997</th>\n",
       "      <th>998</th>\n",
       "      <th>999</th>\n",
       "    </tr>\n",
       "  </thead>\n",
       "  <tbody>\n",
       "    <tr>\n",
       "      <th>0.110364</th>\n",
       "      <td>0.999707</td>\n",
       "      <td>0.999953</td>\n",
       "      <td>0.999955</td>\n",
       "      <td>0.999164</td>\n",
       "      <td>0.999159</td>\n",
       "      <td>0.998411</td>\n",
       "      <td>0.999950</td>\n",
       "      <td>0.999433</td>\n",
       "      <td>0.998917</td>\n",
       "      <td>0.999946</td>\n",
       "      <td>...</td>\n",
       "      <td>0.999959</td>\n",
       "      <td>0.999962</td>\n",
       "      <td>0.999957</td>\n",
       "      <td>0.999954</td>\n",
       "      <td>0.999713</td>\n",
       "      <td>0.999848</td>\n",
       "      <td>0.999851</td>\n",
       "      <td>0.999955</td>\n",
       "      <td>0.999355</td>\n",
       "      <td>0.999957</td>\n",
       "    </tr>\n",
       "    <tr>\n",
       "      <th>0.124476</th>\n",
       "      <td>0.999415</td>\n",
       "      <td>0.999907</td>\n",
       "      <td>0.999910</td>\n",
       "      <td>0.998327</td>\n",
       "      <td>0.998317</td>\n",
       "      <td>0.996822</td>\n",
       "      <td>0.999899</td>\n",
       "      <td>0.998865</td>\n",
       "      <td>0.997833</td>\n",
       "      <td>0.999893</td>\n",
       "      <td>...</td>\n",
       "      <td>0.999919</td>\n",
       "      <td>0.999924</td>\n",
       "      <td>0.999914</td>\n",
       "      <td>0.999908</td>\n",
       "      <td>0.999426</td>\n",
       "      <td>0.999696</td>\n",
       "      <td>0.999701</td>\n",
       "      <td>0.999910</td>\n",
       "      <td>0.998710</td>\n",
       "      <td>0.999913</td>\n",
       "    </tr>\n",
       "    <tr>\n",
       "      <th>0.181803</th>\n",
       "      <td>0.999415</td>\n",
       "      <td>0.999907</td>\n",
       "      <td>0.999910</td>\n",
       "      <td>0.998327</td>\n",
       "      <td>0.998317</td>\n",
       "      <td>0.996822</td>\n",
       "      <td>0.999899</td>\n",
       "      <td>0.998865</td>\n",
       "      <td>0.997833</td>\n",
       "      <td>0.999893</td>\n",
       "      <td>...</td>\n",
       "      <td>0.999919</td>\n",
       "      <td>0.999924</td>\n",
       "      <td>0.999914</td>\n",
       "      <td>0.999908</td>\n",
       "      <td>0.999426</td>\n",
       "      <td>0.999696</td>\n",
       "      <td>0.999701</td>\n",
       "      <td>0.999910</td>\n",
       "      <td>0.998710</td>\n",
       "      <td>0.999913</td>\n",
       "    </tr>\n",
       "    <tr>\n",
       "      <th>0.345582</th>\n",
       "      <td>0.999121</td>\n",
       "      <td>0.999860</td>\n",
       "      <td>0.999864</td>\n",
       "      <td>0.997490</td>\n",
       "      <td>0.997475</td>\n",
       "      <td>0.995233</td>\n",
       "      <td>0.999848</td>\n",
       "      <td>0.998297</td>\n",
       "      <td>0.996749</td>\n",
       "      <td>0.999839</td>\n",
       "      <td>...</td>\n",
       "      <td>0.999878</td>\n",
       "      <td>0.999885</td>\n",
       "      <td>0.999871</td>\n",
       "      <td>0.999862</td>\n",
       "      <td>0.999139</td>\n",
       "      <td>0.999544</td>\n",
       "      <td>0.999551</td>\n",
       "      <td>0.999865</td>\n",
       "      <td>0.998064</td>\n",
       "      <td>0.999869</td>\n",
       "    </tr>\n",
       "    <tr>\n",
       "      <th>0.395443</th>\n",
       "      <td>0.998827</td>\n",
       "      <td>0.999813</td>\n",
       "      <td>0.999819</td>\n",
       "      <td>0.996652</td>\n",
       "      <td>0.996632</td>\n",
       "      <td>0.993643</td>\n",
       "      <td>0.999798</td>\n",
       "      <td>0.997728</td>\n",
       "      <td>0.995663</td>\n",
       "      <td>0.999785</td>\n",
       "      <td>...</td>\n",
       "      <td>0.999837</td>\n",
       "      <td>0.999847</td>\n",
       "      <td>0.999828</td>\n",
       "      <td>0.999815</td>\n",
       "      <td>0.998851</td>\n",
       "      <td>0.999391</td>\n",
       "      <td>0.999401</td>\n",
       "      <td>0.999820</td>\n",
       "      <td>0.997417</td>\n",
       "      <td>0.999826</td>\n",
       "    </tr>\n",
       "    <tr>\n",
       "      <th>...</th>\n",
       "      <td>...</td>\n",
       "      <td>...</td>\n",
       "      <td>...</td>\n",
       "      <td>...</td>\n",
       "      <td>...</td>\n",
       "      <td>...</td>\n",
       "      <td>...</td>\n",
       "      <td>...</td>\n",
       "      <td>...</td>\n",
       "      <td>...</td>\n",
       "      <td>...</td>\n",
       "      <td>...</td>\n",
       "      <td>...</td>\n",
       "      <td>...</td>\n",
       "      <td>...</td>\n",
       "      <td>...</td>\n",
       "      <td>...</td>\n",
       "      <td>...</td>\n",
       "      <td>...</td>\n",
       "      <td>...</td>\n",
       "      <td>...</td>\n",
       "    </tr>\n",
       "    <tr>\n",
       "      <th>15696.756835</th>\n",
       "      <td>0.646134</td>\n",
       "      <td>0.770628</td>\n",
       "      <td>0.778318</td>\n",
       "      <td>0.651071</td>\n",
       "      <td>0.630895</td>\n",
       "      <td>0.585043</td>\n",
       "      <td>0.750770</td>\n",
       "      <td>0.602565</td>\n",
       "      <td>0.598410</td>\n",
       "      <td>0.767632</td>\n",
       "      <td>...</td>\n",
       "      <td>0.760393</td>\n",
       "      <td>0.796255</td>\n",
       "      <td>0.755126</td>\n",
       "      <td>0.764852</td>\n",
       "      <td>0.735163</td>\n",
       "      <td>0.763576</td>\n",
       "      <td>0.691653</td>\n",
       "      <td>0.762848</td>\n",
       "      <td>0.611008</td>\n",
       "      <td>0.797744</td>\n",
       "    </tr>\n",
       "    <tr>\n",
       "      <th>15733.923049</th>\n",
       "      <td>0.646134</td>\n",
       "      <td>0.770628</td>\n",
       "      <td>0.778318</td>\n",
       "      <td>0.651071</td>\n",
       "      <td>0.630895</td>\n",
       "      <td>0.585043</td>\n",
       "      <td>0.750770</td>\n",
       "      <td>0.602565</td>\n",
       "      <td>0.598410</td>\n",
       "      <td>0.767632</td>\n",
       "      <td>...</td>\n",
       "      <td>0.760393</td>\n",
       "      <td>0.796255</td>\n",
       "      <td>0.755126</td>\n",
       "      <td>0.764852</td>\n",
       "      <td>0.735163</td>\n",
       "      <td>0.763576</td>\n",
       "      <td>0.691653</td>\n",
       "      <td>0.762848</td>\n",
       "      <td>0.611008</td>\n",
       "      <td>0.797744</td>\n",
       "    </tr>\n",
       "    <tr>\n",
       "      <th>16098.609321</th>\n",
       "      <td>0.646134</td>\n",
       "      <td>0.770628</td>\n",
       "      <td>0.778318</td>\n",
       "      <td>0.651071</td>\n",
       "      <td>0.630895</td>\n",
       "      <td>0.585043</td>\n",
       "      <td>0.750770</td>\n",
       "      <td>0.602565</td>\n",
       "      <td>0.598410</td>\n",
       "      <td>0.767632</td>\n",
       "      <td>...</td>\n",
       "      <td>0.760393</td>\n",
       "      <td>0.796255</td>\n",
       "      <td>0.755126</td>\n",
       "      <td>0.764852</td>\n",
       "      <td>0.735163</td>\n",
       "      <td>0.763576</td>\n",
       "      <td>0.691653</td>\n",
       "      <td>0.762848</td>\n",
       "      <td>0.611008</td>\n",
       "      <td>0.797744</td>\n",
       "    </tr>\n",
       "    <tr>\n",
       "      <th>16763.724360</th>\n",
       "      <td>0.646134</td>\n",
       "      <td>0.770628</td>\n",
       "      <td>0.778318</td>\n",
       "      <td>0.651071</td>\n",
       "      <td>0.630895</td>\n",
       "      <td>0.585043</td>\n",
       "      <td>0.750770</td>\n",
       "      <td>0.602565</td>\n",
       "      <td>0.598410</td>\n",
       "      <td>0.767632</td>\n",
       "      <td>...</td>\n",
       "      <td>0.760393</td>\n",
       "      <td>0.796255</td>\n",
       "      <td>0.755126</td>\n",
       "      <td>0.764852</td>\n",
       "      <td>0.735163</td>\n",
       "      <td>0.763576</td>\n",
       "      <td>0.691653</td>\n",
       "      <td>0.762848</td>\n",
       "      <td>0.611008</td>\n",
       "      <td>0.797744</td>\n",
       "    </tr>\n",
       "    <tr>\n",
       "      <th>21558.498266</th>\n",
       "      <td>0.646134</td>\n",
       "      <td>0.770628</td>\n",
       "      <td>0.778318</td>\n",
       "      <td>0.651071</td>\n",
       "      <td>0.630895</td>\n",
       "      <td>0.585043</td>\n",
       "      <td>0.750770</td>\n",
       "      <td>0.602565</td>\n",
       "      <td>0.598410</td>\n",
       "      <td>0.767632</td>\n",
       "      <td>...</td>\n",
       "      <td>0.760393</td>\n",
       "      <td>0.796255</td>\n",
       "      <td>0.755126</td>\n",
       "      <td>0.764852</td>\n",
       "      <td>0.735163</td>\n",
       "      <td>0.763576</td>\n",
       "      <td>0.691653</td>\n",
       "      <td>0.762848</td>\n",
       "      <td>0.611008</td>\n",
       "      <td>0.797744</td>\n",
       "    </tr>\n",
       "  </tbody>\n",
       "</table>\n",
       "<p>3200 rows × 1000 columns</p>\n",
       "</div>"
      ],
      "text/plain": [
       "                   0         1         2         3         4         5    \\\n",
       "0.110364      0.999707  0.999953  0.999955  0.999164  0.999159  0.998411   \n",
       "0.124476      0.999415  0.999907  0.999910  0.998327  0.998317  0.996822   \n",
       "0.181803      0.999415  0.999907  0.999910  0.998327  0.998317  0.996822   \n",
       "0.345582      0.999121  0.999860  0.999864  0.997490  0.997475  0.995233   \n",
       "0.395443      0.998827  0.999813  0.999819  0.996652  0.996632  0.993643   \n",
       "...                ...       ...       ...       ...       ...       ...   \n",
       "15696.756835  0.646134  0.770628  0.778318  0.651071  0.630895  0.585043   \n",
       "15733.923049  0.646134  0.770628  0.778318  0.651071  0.630895  0.585043   \n",
       "16098.609321  0.646134  0.770628  0.778318  0.651071  0.630895  0.585043   \n",
       "16763.724360  0.646134  0.770628  0.778318  0.651071  0.630895  0.585043   \n",
       "21558.498266  0.646134  0.770628  0.778318  0.651071  0.630895  0.585043   \n",
       "\n",
       "                   6         7         8         9    ...       990       991  \\\n",
       "0.110364      0.999950  0.999433  0.998917  0.999946  ...  0.999959  0.999962   \n",
       "0.124476      0.999899  0.998865  0.997833  0.999893  ...  0.999919  0.999924   \n",
       "0.181803      0.999899  0.998865  0.997833  0.999893  ...  0.999919  0.999924   \n",
       "0.345582      0.999848  0.998297  0.996749  0.999839  ...  0.999878  0.999885   \n",
       "0.395443      0.999798  0.997728  0.995663  0.999785  ...  0.999837  0.999847   \n",
       "...                ...       ...       ...       ...  ...       ...       ...   \n",
       "15696.756835  0.750770  0.602565  0.598410  0.767632  ...  0.760393  0.796255   \n",
       "15733.923049  0.750770  0.602565  0.598410  0.767632  ...  0.760393  0.796255   \n",
       "16098.609321  0.750770  0.602565  0.598410  0.767632  ...  0.760393  0.796255   \n",
       "16763.724360  0.750770  0.602565  0.598410  0.767632  ...  0.760393  0.796255   \n",
       "21558.498266  0.750770  0.602565  0.598410  0.767632  ...  0.760393  0.796255   \n",
       "\n",
       "                   992       993       994       995       996       997  \\\n",
       "0.110364      0.999957  0.999954  0.999713  0.999848  0.999851  0.999955   \n",
       "0.124476      0.999914  0.999908  0.999426  0.999696  0.999701  0.999910   \n",
       "0.181803      0.999914  0.999908  0.999426  0.999696  0.999701  0.999910   \n",
       "0.345582      0.999871  0.999862  0.999139  0.999544  0.999551  0.999865   \n",
       "0.395443      0.999828  0.999815  0.998851  0.999391  0.999401  0.999820   \n",
       "...                ...       ...       ...       ...       ...       ...   \n",
       "15696.756835  0.755126  0.764852  0.735163  0.763576  0.691653  0.762848   \n",
       "15733.923049  0.755126  0.764852  0.735163  0.763576  0.691653  0.762848   \n",
       "16098.609321  0.755126  0.764852  0.735163  0.763576  0.691653  0.762848   \n",
       "16763.724360  0.755126  0.764852  0.735163  0.763576  0.691653  0.762848   \n",
       "21558.498266  0.755126  0.764852  0.735163  0.763576  0.691653  0.762848   \n",
       "\n",
       "                   998       999  \n",
       "0.110364      0.999355  0.999957  \n",
       "0.124476      0.998710  0.999913  \n",
       "0.181803      0.998710  0.999913  \n",
       "0.345582      0.998064  0.999869  \n",
       "0.395443      0.997417  0.999826  \n",
       "...                ...       ...  \n",
       "15696.756835  0.611008  0.797744  \n",
       "15733.923049  0.611008  0.797744  \n",
       "16098.609321  0.611008  0.797744  \n",
       "16763.724360  0.611008  0.797744  \n",
       "21558.498266  0.611008  0.797744  \n",
       "\n",
       "[3200 rows x 1000 columns]"
      ]
     },
     "execution_count": 287,
     "metadata": {},
     "output_type": "execute_result"
    }
   ],
   "source": [
    "surv"
   ]
  },
  {
   "cell_type": "code",
   "execution_count": 288,
   "metadata": {
    "scrolled": true
   },
   "outputs": [
    {
     "data": {
      "text/plain": [
       "0      0.914023\n",
       "1      0.983880\n",
       "2      0.984387\n",
       "3      0.815338\n",
       "4      0.815931\n",
       "         ...   \n",
       "995    0.954465\n",
       "996    0.950886\n",
       "997    0.984196\n",
       "998    0.848738\n",
       "999    0.984790\n",
       "Name: 301.39763647270183, Length: 1000, dtype: float64"
      ]
     },
     "execution_count": 288,
     "metadata": {},
     "output_type": "execute_result"
    }
   ],
   "source": [
    "surv.iloc[567,:]"
   ]
  },
  {
   "cell_type": "markdown",
   "metadata": {},
   "source": [
    "# Survival model"
   ]
  },
  {
   "cell_type": "code",
   "execution_count": 289,
   "metadata": {},
   "outputs": [],
   "source": [
    "import copy\n",
    "df_train = pd.read_excel(\"SimData_WList_Ver2.0.xls\", index_col = False, header=0)\n",
    "le = LabelEncoder() \n",
    "df_train[\"Gender\"] = le.fit_transform(df_train[\"Gender\"])\n",
    "df_train[\"Bloodtype\"] = le.fit_transform(df_train[\"Bloodtype\"])\n",
    "df_train[\"Inpt_attx\"] = le.fit_transform(df_train[\"Inpt_attx\"])\n",
    "\n",
    "feature_df_train = copy.deepcopy(df_train)"
   ]
  },
  {
   "cell_type": "code",
   "execution_count": 290,
   "metadata": {},
   "outputs": [],
   "source": [
    "def trans_y(y):\n",
    "    mytype=np.dtype([('Status', '?'), ('Survival_in_days', '<f8')])\n",
    "    data_y = np.zeros(len(y[0]),dtype=mytype)\n",
    "    for i in range(len(y[0])):\n",
    "        data_y[i][0] = y[1][i]\n",
    "        data_y[i][1] = y[0][i]\n",
    "    return data_y"
   ]
  },
  {
   "cell_type": "code",
   "execution_count": 291,
   "metadata": {},
   "outputs": [],
   "source": [
    "new_y_test = trans_y(y_test)\n",
    "new_y_train = trans_y(y_train)"
   ]
  },
  {
   "cell_type": "code",
   "execution_count": 292,
   "metadata": {},
   "outputs": [
    {
     "data": {
      "text/plain": [
       "CoxPHSurvivalAnalysis()"
      ]
     },
     "execution_count": 292,
     "metadata": {},
     "output_type": "execute_result"
    }
   ],
   "source": [
    "import numpy as np\n",
    "from sksurv.metrics import concordance_index_censored\n",
    "from sksurv.nonparametric import kaplan_meier_estimator\n",
    "from sklearn import set_config\n",
    "from sksurv.linear_model import CoxPHSurvivalAnalysis\n",
    "set_config(display=\"text\")  # displays text representation of estimators\n",
    "\n",
    "estimator = CoxPHSurvivalAnalysis()\n",
    "estimator.fit(x_train, new_y_train)"
   ]
  },
  {
   "cell_type": "code",
   "execution_count": 295,
   "metadata": {},
   "outputs": [
    {
     "data": {
      "text/plain": [
       "0.7426528895830831"
      ]
     },
     "execution_count": 295,
     "metadata": {},
     "output_type": "execute_result"
    }
   ],
   "source": [
    "from sksurv.metrics import concordance_index_censored # c index\n",
    "\n",
    "prediction = estimator.predict(x_test)\n",
    "result = concordance_index_censored(new_y_test[\"Status\"], new_y_test[\"Survival_in_days\"], prediction)\n",
    "result[0]"
   ]
  },
  {
   "cell_type": "markdown",
   "metadata": {},
   "source": [
    "Random Survival Forest & CoxPH & Penalized CoxPH & Gradient Boost model"
   ]
  },
  {
   "cell_type": "code",
   "execution_count": 299,
   "metadata": {},
   "outputs": [
    {
     "data": {
      "text/plain": [
       "CoxnetSurvivalAnalysis(fit_baseline_model=True, l1_ratio=0.99)"
      ]
     },
     "execution_count": 299,
     "metadata": {},
     "output_type": "execute_result"
    }
   ],
   "source": [
    "from sksurv.linear_model import CoxPHSurvivalAnalysis, CoxnetSurvivalAnalysis\n",
    "from sksurv.ensemble import RandomSurvivalForest\n",
    "from sksurv.ensemble import GradientBoostingSurvivalAnalysis\n",
    "rsf_gbsg = RandomSurvivalForest(max_depth=2, random_state=1)\n",
    "rsf_gbsg.fit(x_train, new_y_train)\n",
    "\n",
    "est_cph_tree = GradientBoostingSurvivalAnalysis(\n",
    "    n_estimators=100, learning_rate=1.0, max_depth=1, random_state=0\n",
    ")\n",
    "est_cph_tree.fit(x_train, new_y_train)\n",
    "\n",
    "cph_gbsg = CoxnetSurvivalAnalysis(l1_ratio=0.99, fit_baseline_model=True)\n",
    "cph_gbsg.fit(x_train, new_y_train)"
   ]
  },
  {
   "cell_type": "code",
   "execution_count": 310,
   "metadata": {},
   "outputs": [
    {
     "data": {
      "text/plain": [
       "CPH       0.74265\n",
       "RSF       0.73847\n",
       "CPHP      0.74353\n",
       "GBS       0.74393\n",
       "Random    0.50000\n",
       "Name: c-index, dtype: float64"
      ]
     },
     "execution_count": 310,
     "metadata": {},
     "output_type": "execute_result"
    }
   ],
   "source": [
    "score_cindex = pd.Series(\n",
    "    [\n",
    "        estimator.score(x_test, new_y_test),\n",
    "        rsf_gbsg.score(x_test, new_y_test),\n",
    "        cph_gbsg.score(x_test, new_y_test),\n",
    "        est_cph_tree.score(x_test, new_y_test),\n",
    "        0.5,\n",
    "    ],\n",
    "    index=['CPH',\"RSF\", \"CPHP\",'GBS',\"Random\"], name=\"c-index\",\n",
    ")\n",
    "\n",
    "score_cindex.round(5)"
   ]
  },
  {
   "cell_type": "markdown",
   "metadata": {},
   "source": [
    "# Gradient Boost"
   ]
  },
  {
   "cell_type": "code",
   "execution_count": 306,
   "metadata": {},
   "outputs": [],
   "source": [
    "# Let’s see how the test performance changes with the ensemble size (n_estimators).\n",
    "scores_cph_tree = {}\n",
    "\n",
    "est_cph_tree = GradientBoostingSurvivalAnalysis(\n",
    "    learning_rate=1.0, max_depth=1, random_state=0\n",
    ")\n",
    "for i in range(1, 31):\n",
    "    n_estimators = i * 5\n",
    "    est_cph_tree.set_params(n_estimators=n_estimators)\n",
    "    est_cph_tree.fit(x_train, new_y_train)\n",
    "    scores_cph_tree[n_estimators] = est_cph_tree.score(x_test, new_y_test)"
   ]
  },
  {
   "cell_type": "code",
   "execution_count": 307,
   "metadata": {},
   "outputs": [
    {
     "data": {
      "image/png": "[encoded data removed]",
      "text/plain": [
       "<Figure size 432x288 with 1 Axes>"
      ]
     },
     "metadata": {
      "needs_background": "light"
     },
     "output_type": "display_data"
    }
   ],
   "source": [
    "x, y = zip(*scores_cph_tree.items())\n",
    "plt.plot(x, y)\n",
    "plt.xlabel(\"n_estimator\")\n",
    "plt.ylabel(\"concordance index\")\n",
    "plt.grid(True)"
   ]
  },
  {
   "cell_type": "code",
   "execution_count": null,
   "metadata": {},
   "outputs": [],
   "source": []
  }
 ],
 "metadata": {
  "kernelspec": {
   "display_name": "Python 3",
   "language": "python",
   "name": "python3"
  },
  "language_info": {
   "codemirror_mode": {
    "name": "ipython",
    "version": 3
   },
   "file_extension": ".py",
   "mimetype": "text/x-python",
   "name": "python",
   "nbconvert_exporter": "python",
   "pygments_lexer": "ipython3",
   "version": "3.8.5"
  },
  "vscode": {
   "interpreter": {
    "hash": "aee8b7b246df8f9039afb4144a1f6fd8d2ca17a180786b69acc140d282b71a49"
   }
  }
 },
 "nbformat": 4,
 "nbformat_minor": 2
}
