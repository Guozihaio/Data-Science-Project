{
 "cells": [
  {
   "cell_type": "markdown",
   "metadata": {},
   "source": [
    "# CoxTime"
   ]
  },
  {
   "cell_type": "code",
   "execution_count": 162,
   "metadata": {},
   "outputs": [],
   "source": [
    "import numpy as np\n",
    "import matplotlib.pyplot as plt\n",
    "from sklearn.preprocessing import StandardScaler\n",
    "from sklearn_pandas import DataFrameMapper\n",
    "\n",
    "import torch\n",
    "import torchtuples as tt\n",
    "\n",
    "from pycox.datasets import metabric\n",
    "from pycox.models import CoxTime\n",
    "from pycox.models.cox_time import MLPVanillaCoxTime\n",
    "from pycox.evaluation import EvalSurv"
   ]
  },
  {
   "cell_type": "code",
   "execution_count": 159,
   "metadata": {},
   "outputs": [],
   "source": [
    "df_train = pd.read_excel(\"SimData_Transplant_Ver2.0.xls\", index_col = False, header=0)\n",
    "df_train = df_train[df_train['Age_Tx'] >= 18] "
   ]
  },
  {
   "cell_type": "code",
   "execution_count": 160,
   "metadata": {},
   "outputs": [],
   "source": [
    "le = LabelEncoder()\n",
    "df_train[\"Gender\"] = le.fit_transform(df_train[\"Gender\"])\n",
    "df_train[\"Bloodtype\"] = le.fit_transform(df_train[\"Bloodtype\"])\n",
    "df_train[\"Donor_Bloodtype\"] = le.fit_transform(df_train[\"Donor_Bloodtype\"])\n",
    "df_train[\"Inpt_attx\"] = le.fit_transform(df_train[\"Inpt_attx\"])\n",
    "df_train[\"Donor_Sex\"] = le.fit_transform(df_train[\"Donor_Sex\"])\n",
    "df_train[\"Donor_DCD\"] = le.fit_transform(df_train[\"Donor_DCD\"])"
   ]
  },
  {
   "cell_type": "code",
   "execution_count": 161,
   "metadata": {},
   "outputs": [
    {
     "data": {
      "text/html": [
       "<div>\n",
       "<style scoped>\n",
       "    .dataframe tbody tr th:only-of-type {\n",
       "        vertical-align: middle;\n",
       "    }\n",
       "\n",
       "    .dataframe tbody tr th {\n",
       "        vertical-align: top;\n",
       "    }\n",
       "\n",
       "    .dataframe thead th {\n",
       "        text-align: right;\n",
       "    }\n",
       "</style>\n",
       "<table border=\"1\" class=\"dataframe\">\n",
       "  <thead>\n",
       "    <tr style=\"text-align: right;\">\n",
       "      <th></th>\n",
       "      <th>Gender</th>\n",
       "      <th>Bloodtype</th>\n",
       "      <th>Inpt_attx</th>\n",
       "      <th>Donor_Sex</th>\n",
       "      <th>Donor_Bloodtype</th>\n",
       "      <th>Donor_DCD</th>\n",
       "      <th>Waittime</th>\n",
       "      <th>Age_Tx</th>\n",
       "      <th>Donor_Age</th>\n",
       "      <th>TransplantBMI</th>\n",
       "      <th>Donor_BMI</th>\n",
       "      <th>MELD</th>\n",
       "      <th>MELDNA</th>\n",
       "      <th>Time</th>\n",
       "      <th>Cens</th>\n",
       "    </tr>\n",
       "  </thead>\n",
       "  <tbody>\n",
       "    <tr>\n",
       "      <th>0</th>\n",
       "      <td>1</td>\n",
       "      <td>3</td>\n",
       "      <td>2</td>\n",
       "      <td>1</td>\n",
       "      <td>2</td>\n",
       "      <td>0</td>\n",
       "      <td>1</td>\n",
       "      <td>54.291739</td>\n",
       "      <td>45.379636</td>\n",
       "      <td>24.712049</td>\n",
       "      <td>21.369229</td>\n",
       "      <td>22.939930</td>\n",
       "      <td>22.931727</td>\n",
       "      <td>2019.866962</td>\n",
       "      <td>0</td>\n",
       "    </tr>\n",
       "    <tr>\n",
       "      <th>1</th>\n",
       "      <td>1</td>\n",
       "      <td>0</td>\n",
       "      <td>0</td>\n",
       "      <td>1</td>\n",
       "      <td>3</td>\n",
       "      <td>0</td>\n",
       "      <td>157</td>\n",
       "      <td>59.817111</td>\n",
       "      <td>60.516200</td>\n",
       "      <td>28.887631</td>\n",
       "      <td>25.408853</td>\n",
       "      <td>18.985337</td>\n",
       "      <td>21.381548</td>\n",
       "      <td>1815.128065</td>\n",
       "      <td>1</td>\n",
       "    </tr>\n",
       "    <tr>\n",
       "      <th>2</th>\n",
       "      <td>0</td>\n",
       "      <td>0</td>\n",
       "      <td>0</td>\n",
       "      <td>1</td>\n",
       "      <td>0</td>\n",
       "      <td>0</td>\n",
       "      <td>49</td>\n",
       "      <td>63.198440</td>\n",
       "      <td>30.989861</td>\n",
       "      <td>26.869533</td>\n",
       "      <td>24.902931</td>\n",
       "      <td>23.694392</td>\n",
       "      <td>26.243047</td>\n",
       "      <td>396.556200</td>\n",
       "      <td>0</td>\n",
       "    </tr>\n",
       "    <tr>\n",
       "      <th>3</th>\n",
       "      <td>1</td>\n",
       "      <td>3</td>\n",
       "      <td>2</td>\n",
       "      <td>0</td>\n",
       "      <td>2</td>\n",
       "      <td>0</td>\n",
       "      <td>81</td>\n",
       "      <td>28.845900</td>\n",
       "      <td>41.142174</td>\n",
       "      <td>27.411596</td>\n",
       "      <td>35.396950</td>\n",
       "      <td>11.375444</td>\n",
       "      <td>8.545730</td>\n",
       "      <td>1326.259556</td>\n",
       "      <td>0</td>\n",
       "    </tr>\n",
       "    <tr>\n",
       "      <th>4</th>\n",
       "      <td>1</td>\n",
       "      <td>3</td>\n",
       "      <td>0</td>\n",
       "      <td>0</td>\n",
       "      <td>3</td>\n",
       "      <td>0</td>\n",
       "      <td>620</td>\n",
       "      <td>55.523918</td>\n",
       "      <td>49.138937</td>\n",
       "      <td>24.530967</td>\n",
       "      <td>29.372668</td>\n",
       "      <td>26.835544</td>\n",
       "      <td>29.211865</td>\n",
       "      <td>605.043515</td>\n",
       "      <td>0</td>\n",
       "    </tr>\n",
       "    <tr>\n",
       "      <th>...</th>\n",
       "      <td>...</td>\n",
       "      <td>...</td>\n",
       "      <td>...</td>\n",
       "      <td>...</td>\n",
       "      <td>...</td>\n",
       "      <td>...</td>\n",
       "      <td>...</td>\n",
       "      <td>...</td>\n",
       "      <td>...</td>\n",
       "      <td>...</td>\n",
       "      <td>...</td>\n",
       "      <td>...</td>\n",
       "      <td>...</td>\n",
       "      <td>...</td>\n",
       "      <td>...</td>\n",
       "    </tr>\n",
       "    <tr>\n",
       "      <th>3995</th>\n",
       "      <td>1</td>\n",
       "      <td>0</td>\n",
       "      <td>0</td>\n",
       "      <td>0</td>\n",
       "      <td>0</td>\n",
       "      <td>0</td>\n",
       "      <td>638</td>\n",
       "      <td>66.768544</td>\n",
       "      <td>62.181956</td>\n",
       "      <td>29.624822</td>\n",
       "      <td>30.205990</td>\n",
       "      <td>17.050266</td>\n",
       "      <td>14.632579</td>\n",
       "      <td>2578.443555</td>\n",
       "      <td>0</td>\n",
       "    </tr>\n",
       "    <tr>\n",
       "      <th>3996</th>\n",
       "      <td>1</td>\n",
       "      <td>0</td>\n",
       "      <td>0</td>\n",
       "      <td>1</td>\n",
       "      <td>0</td>\n",
       "      <td>0</td>\n",
       "      <td>146</td>\n",
       "      <td>61.143847</td>\n",
       "      <td>57.131994</td>\n",
       "      <td>24.984602</td>\n",
       "      <td>18.078771</td>\n",
       "      <td>13.369472</td>\n",
       "      <td>10.730959</td>\n",
       "      <td>2642.791337</td>\n",
       "      <td>1</td>\n",
       "    </tr>\n",
       "    <tr>\n",
       "      <th>3997</th>\n",
       "      <td>1</td>\n",
       "      <td>0</td>\n",
       "      <td>2</td>\n",
       "      <td>0</td>\n",
       "      <td>0</td>\n",
       "      <td>0</td>\n",
       "      <td>60</td>\n",
       "      <td>41.818547</td>\n",
       "      <td>39.402747</td>\n",
       "      <td>31.146902</td>\n",
       "      <td>24.720377</td>\n",
       "      <td>19.096785</td>\n",
       "      <td>22.031645</td>\n",
       "      <td>3091.405566</td>\n",
       "      <td>0</td>\n",
       "    </tr>\n",
       "    <tr>\n",
       "      <th>3998</th>\n",
       "      <td>1</td>\n",
       "      <td>0</td>\n",
       "      <td>0</td>\n",
       "      <td>1</td>\n",
       "      <td>0</td>\n",
       "      <td>0</td>\n",
       "      <td>152</td>\n",
       "      <td>36.732881</td>\n",
       "      <td>18.422351</td>\n",
       "      <td>36.196905</td>\n",
       "      <td>22.702255</td>\n",
       "      <td>16.906836</td>\n",
       "      <td>14.620845</td>\n",
       "      <td>1833.622662</td>\n",
       "      <td>0</td>\n",
       "    </tr>\n",
       "    <tr>\n",
       "      <th>3999</th>\n",
       "      <td>1</td>\n",
       "      <td>0</td>\n",
       "      <td>0</td>\n",
       "      <td>0</td>\n",
       "      <td>0</td>\n",
       "      <td>0</td>\n",
       "      <td>138</td>\n",
       "      <td>25.789776</td>\n",
       "      <td>39.731841</td>\n",
       "      <td>23.126541</td>\n",
       "      <td>18.639493</td>\n",
       "      <td>14.987741</td>\n",
       "      <td>12.505690</td>\n",
       "      <td>4786.396218</td>\n",
       "      <td>0</td>\n",
       "    </tr>\n",
       "  </tbody>\n",
       "</table>\n",
       "<p>4000 rows × 15 columns</p>\n",
       "</div>"
      ],
      "text/plain": [
       "      Gender  Bloodtype  Inpt_attx  Donor_Sex  Donor_Bloodtype  Donor_DCD  \\\n",
       "0          1          3          2          1                2          0   \n",
       "1          1          0          0          1                3          0   \n",
       "2          0          0          0          1                0          0   \n",
       "3          1          3          2          0                2          0   \n",
       "4          1          3          0          0                3          0   \n",
       "...      ...        ...        ...        ...              ...        ...   \n",
       "3995       1          0          0          0                0          0   \n",
       "3996       1          0          0          1                0          0   \n",
       "3997       1          0          2          0                0          0   \n",
       "3998       1          0          0          1                0          0   \n",
       "3999       1          0          0          0                0          0   \n",
       "\n",
       "      Waittime     Age_Tx  Donor_Age  TransplantBMI  Donor_BMI       MELD  \\\n",
       "0            1  54.291739  45.379636      24.712049  21.369229  22.939930   \n",
       "1          157  59.817111  60.516200      28.887631  25.408853  18.985337   \n",
       "2           49  63.198440  30.989861      26.869533  24.902931  23.694392   \n",
       "3           81  28.845900  41.142174      27.411596  35.396950  11.375444   \n",
       "4          620  55.523918  49.138937      24.530967  29.372668  26.835544   \n",
       "...        ...        ...        ...            ...        ...        ...   \n",
       "3995       638  66.768544  62.181956      29.624822  30.205990  17.050266   \n",
       "3996       146  61.143847  57.131994      24.984602  18.078771  13.369472   \n",
       "3997        60  41.818547  39.402747      31.146902  24.720377  19.096785   \n",
       "3998       152  36.732881  18.422351      36.196905  22.702255  16.906836   \n",
       "3999       138  25.789776  39.731841      23.126541  18.639493  14.987741   \n",
       "\n",
       "         MELDNA         Time  Cens  \n",
       "0     22.931727  2019.866962     0  \n",
       "1     21.381548  1815.128065     1  \n",
       "2     26.243047   396.556200     0  \n",
       "3      8.545730  1326.259556     0  \n",
       "4     29.211865   605.043515     0  \n",
       "...         ...          ...   ...  \n",
       "3995  14.632579  2578.443555     0  \n",
       "3996  10.730959  2642.791337     1  \n",
       "3997  22.031645  3091.405566     0  \n",
       "3998  14.620845  1833.622662     0  \n",
       "3999  12.505690  4786.396218     0  \n",
       "\n",
       "[4000 rows x 15 columns]"
      ]
     },
     "execution_count": 161,
     "metadata": {},
     "output_type": "execute_result"
    }
   ],
   "source": [
    "df_train"
   ]
  },
  {
   "cell_type": "code",
   "execution_count": 116,
   "metadata": {},
   "outputs": [],
   "source": [
    "df_test = df_train.sample(frac=0.2)\n",
    "df_train = df_train.drop(df_test.index)"
   ]
  },
  {
   "cell_type": "code",
   "execution_count": 117,
   "metadata": {},
   "outputs": [],
   "source": [
    "X_train = df_train.drop(['Donor_Sex', 'Gender', 'Donor_DCD', 'Donor_BMI', 'Donor_Age'], axis=1)"
   ]
  },
  {
   "cell_type": "code",
   "execution_count": 118,
   "metadata": {},
   "outputs": [],
   "source": [
    "X_test = df_test.drop(['Donor_Sex', 'Gender', 'Donor_DCD', 'Donor_BMI', 'Donor_Age'], axis=1)"
   ]
  },
  {
   "cell_type": "code",
   "execution_count": 119,
   "metadata": {
    "scrolled": true
   },
   "outputs": [
    {
     "data": {
      "text/html": [
       "<div>\n",
       "<style scoped>\n",
       "    .dataframe tbody tr th:only-of-type {\n",
       "        vertical-align: middle;\n",
       "    }\n",
       "\n",
       "    .dataframe tbody tr th {\n",
       "        vertical-align: top;\n",
       "    }\n",
       "\n",
       "    .dataframe thead th {\n",
       "        text-align: right;\n",
       "    }\n",
       "</style>\n",
       "<table border=\"1\" class=\"dataframe\">\n",
       "  <thead>\n",
       "    <tr style=\"text-align: right;\">\n",
       "      <th></th>\n",
       "      <th>Bloodtype</th>\n",
       "      <th>Inpt_attx</th>\n",
       "      <th>Donor_Bloodtype</th>\n",
       "      <th>Waittime</th>\n",
       "      <th>Age_Tx</th>\n",
       "      <th>TransplantBMI</th>\n",
       "      <th>MELD</th>\n",
       "      <th>MELDNA</th>\n",
       "      <th>Time</th>\n",
       "      <th>Cens</th>\n",
       "    </tr>\n",
       "  </thead>\n",
       "  <tbody>\n",
       "    <tr>\n",
       "      <th>3</th>\n",
       "      <td>3</td>\n",
       "      <td>2</td>\n",
       "      <td>2</td>\n",
       "      <td>81</td>\n",
       "      <td>28.845900</td>\n",
       "      <td>27.411596</td>\n",
       "      <td>11.375444</td>\n",
       "      <td>8.545730</td>\n",
       "      <td>1326.259556</td>\n",
       "      <td>0</td>\n",
       "    </tr>\n",
       "    <tr>\n",
       "      <th>4</th>\n",
       "      <td>3</td>\n",
       "      <td>0</td>\n",
       "      <td>3</td>\n",
       "      <td>620</td>\n",
       "      <td>55.523918</td>\n",
       "      <td>24.530967</td>\n",
       "      <td>26.835544</td>\n",
       "      <td>29.211865</td>\n",
       "      <td>605.043515</td>\n",
       "      <td>0</td>\n",
       "    </tr>\n",
       "    <tr>\n",
       "      <th>5</th>\n",
       "      <td>3</td>\n",
       "      <td>0</td>\n",
       "      <td>3</td>\n",
       "      <td>185</td>\n",
       "      <td>73.722151</td>\n",
       "      <td>27.122416</td>\n",
       "      <td>8.968411</td>\n",
       "      <td>8.964047</td>\n",
       "      <td>3707.852462</td>\n",
       "      <td>0</td>\n",
       "    </tr>\n",
       "    <tr>\n",
       "      <th>6</th>\n",
       "      <td>2</td>\n",
       "      <td>2</td>\n",
       "      <td>2</td>\n",
       "      <td>254</td>\n",
       "      <td>44.643404</td>\n",
       "      <td>32.895530</td>\n",
       "      <td>21.318325</td>\n",
       "      <td>24.200950</td>\n",
       "      <td>9.663861</td>\n",
       "      <td>1</td>\n",
       "    </tr>\n",
       "    <tr>\n",
       "      <th>7</th>\n",
       "      <td>0</td>\n",
       "      <td>0</td>\n",
       "      <td>0</td>\n",
       "      <td>36</td>\n",
       "      <td>63.126194</td>\n",
       "      <td>28.211870</td>\n",
       "      <td>14.401054</td>\n",
       "      <td>19.627470</td>\n",
       "      <td>1799.694792</td>\n",
       "      <td>0</td>\n",
       "    </tr>\n",
       "    <tr>\n",
       "      <th>...</th>\n",
       "      <td>...</td>\n",
       "      <td>...</td>\n",
       "      <td>...</td>\n",
       "      <td>...</td>\n",
       "      <td>...</td>\n",
       "      <td>...</td>\n",
       "      <td>...</td>\n",
       "      <td>...</td>\n",
       "      <td>...</td>\n",
       "      <td>...</td>\n",
       "    </tr>\n",
       "    <tr>\n",
       "      <th>3995</th>\n",
       "      <td>0</td>\n",
       "      <td>0</td>\n",
       "      <td>0</td>\n",
       "      <td>638</td>\n",
       "      <td>66.768544</td>\n",
       "      <td>29.624822</td>\n",
       "      <td>17.050266</td>\n",
       "      <td>14.632579</td>\n",
       "      <td>2578.443555</td>\n",
       "      <td>0</td>\n",
       "    </tr>\n",
       "    <tr>\n",
       "      <th>3996</th>\n",
       "      <td>0</td>\n",
       "      <td>0</td>\n",
       "      <td>0</td>\n",
       "      <td>146</td>\n",
       "      <td>61.143847</td>\n",
       "      <td>24.984602</td>\n",
       "      <td>13.369472</td>\n",
       "      <td>10.730959</td>\n",
       "      <td>2642.791337</td>\n",
       "      <td>1</td>\n",
       "    </tr>\n",
       "    <tr>\n",
       "      <th>3997</th>\n",
       "      <td>0</td>\n",
       "      <td>2</td>\n",
       "      <td>0</td>\n",
       "      <td>60</td>\n",
       "      <td>41.818547</td>\n",
       "      <td>31.146902</td>\n",
       "      <td>19.096785</td>\n",
       "      <td>22.031645</td>\n",
       "      <td>3091.405566</td>\n",
       "      <td>0</td>\n",
       "    </tr>\n",
       "    <tr>\n",
       "      <th>3998</th>\n",
       "      <td>0</td>\n",
       "      <td>0</td>\n",
       "      <td>0</td>\n",
       "      <td>152</td>\n",
       "      <td>36.732881</td>\n",
       "      <td>36.196905</td>\n",
       "      <td>16.906836</td>\n",
       "      <td>14.620845</td>\n",
       "      <td>1833.622662</td>\n",
       "      <td>0</td>\n",
       "    </tr>\n",
       "    <tr>\n",
       "      <th>3999</th>\n",
       "      <td>0</td>\n",
       "      <td>0</td>\n",
       "      <td>0</td>\n",
       "      <td>138</td>\n",
       "      <td>25.789776</td>\n",
       "      <td>23.126541</td>\n",
       "      <td>14.987741</td>\n",
       "      <td>12.505690</td>\n",
       "      <td>4786.396218</td>\n",
       "      <td>0</td>\n",
       "    </tr>\n",
       "  </tbody>\n",
       "</table>\n",
       "<p>3200 rows × 10 columns</p>\n",
       "</div>"
      ],
      "text/plain": [
       "      Bloodtype  Inpt_attx  Donor_Bloodtype  Waittime     Age_Tx  \\\n",
       "3             3          2                2        81  28.845900   \n",
       "4             3          0                3       620  55.523918   \n",
       "5             3          0                3       185  73.722151   \n",
       "6             2          2                2       254  44.643404   \n",
       "7             0          0                0        36  63.126194   \n",
       "...         ...        ...              ...       ...        ...   \n",
       "3995          0          0                0       638  66.768544   \n",
       "3996          0          0                0       146  61.143847   \n",
       "3997          0          2                0        60  41.818547   \n",
       "3998          0          0                0       152  36.732881   \n",
       "3999          0          0                0       138  25.789776   \n",
       "\n",
       "      TransplantBMI       MELD     MELDNA         Time  Cens  \n",
       "3         27.411596  11.375444   8.545730  1326.259556     0  \n",
       "4         24.530967  26.835544  29.211865   605.043515     0  \n",
       "5         27.122416   8.968411   8.964047  3707.852462     0  \n",
       "6         32.895530  21.318325  24.200950     9.663861     1  \n",
       "7         28.211870  14.401054  19.627470  1799.694792     0  \n",
       "...             ...        ...        ...          ...   ...  \n",
       "3995      29.624822  17.050266  14.632579  2578.443555     0  \n",
       "3996      24.984602  13.369472  10.730959  2642.791337     1  \n",
       "3997      31.146902  19.096785  22.031645  3091.405566     0  \n",
       "3998      36.196905  16.906836  14.620845  1833.622662     0  \n",
       "3999      23.126541  14.987741  12.505690  4786.396218     0  \n",
       "\n",
       "[3200 rows x 10 columns]"
      ]
     },
     "execution_count": 119,
     "metadata": {},
     "output_type": "execute_result"
    }
   ],
   "source": [
    "X_train"
   ]
  },
  {
   "cell_type": "code",
   "execution_count": 120,
   "metadata": {},
   "outputs": [],
   "source": [
    "cols_standardize = ['Waittime', 'Age_Tx', 'TransplantBMI', 'MELD', 'MELDNA']\n",
    "cols_leave = ['Bloodtype', 'Inpt_attx', 'Donor_Bloodtype']\n",
    "\n",
    "standardize = [([col], StandardScaler()) for col in cols_standardize]\n",
    "leave = [(col, None) for col in cols_leave]\n",
    "\n",
    "x_mapper = DataFrameMapper(standardize + leave)"
   ]
  },
  {
   "cell_type": "code",
   "execution_count": 121,
   "metadata": {},
   "outputs": [],
   "source": [
    "x_train = x_mapper.fit_transform(X_train).astype('float32')\n",
    "x_test = x_mapper.transform(X_test).astype('float32')"
   ]
  },
  {
   "cell_type": "code",
   "execution_count": 122,
   "metadata": {},
   "outputs": [
    {
     "data": {
      "text/plain": [
       "array([[-0.3787414 , -2.1239154 , -0.02199114, ...,  3.        ,\n",
       "         2.        ,  2.        ],\n",
       "       [ 2.258396  ,  0.3331471 , -0.54494   , ...,  3.        ,\n",
       "         0.        ,  3.        ],\n",
       "       [ 0.13009398,  2.009216  , -0.07448881, ...,  3.        ,\n",
       "         0.        ,  3.        ],\n",
       "       ...,\n",
       "       [-0.481487  , -0.92912626,  0.6561157 , ...,  0.        ,\n",
       "         2.        ,  0.        ],\n",
       "       [-0.0313634 , -1.3975194 ,  1.5728924 , ...,  0.        ,\n",
       "         0.        ,  0.        ],\n",
       "       [-0.09986047, -2.4053862 , -0.79989934, ...,  0.        ,\n",
       "         0.        ,  0.        ]], dtype=float32)"
      ]
     },
     "execution_count": 122,
     "metadata": {},
     "output_type": "execute_result"
    }
   ],
   "source": [
    "x_train"
   ]
  },
  {
   "cell_type": "code",
   "execution_count": 123,
   "metadata": {},
   "outputs": [],
   "source": [
    "labtrans = CoxTime.label_transform()\n",
    "get_target = lambda df: (df['Time'].values, df['Cens'].values)\n",
    "y_train = labtrans.fit_transform(*get_target(X_train))\n",
    "y_test = labtrans.transform(*get_target(X_test))\n",
    "Time_test, Cens_test = get_target(X_test)\n",
    "test = tt.tuplefy(x_test, y_test)"
   ]
  },
  {
   "cell_type": "code",
   "execution_count": 124,
   "metadata": {},
   "outputs": [
    {
     "data": {
      "text/plain": [
       "((800, 8), ((800,), (800,)))"
      ]
     },
     "execution_count": 124,
     "metadata": {},
     "output_type": "execute_result"
    }
   ],
   "source": [
    "test.shapes()"
   ]
  },
  {
   "cell_type": "code",
   "execution_count": 125,
   "metadata": {},
   "outputs": [
    {
     "data": {
      "text/plain": [
       "array([-0.3787414 , -2.1239154 , -0.02199114, -0.938623  , -1.3328376 ,\n",
       "        3.        ,  2.        ,  2.        ], dtype=float32)"
      ]
     },
     "execution_count": 125,
     "metadata": {},
     "output_type": "execute_result"
    }
   ],
   "source": [
    "x_train[0]"
   ]
  },
  {
   "cell_type": "markdown",
   "metadata": {},
   "source": [
    "# Neural net\n",
    "We create a simple MLP with two hidden layers, ReLU activations, batch norm and dropout. The net required by CoxTime is slightly different than most of the other methods as it also take time and an additional input argument. We have therefore crated the MLPVanillaCoxTime class that is a suitable version of tt.practical.MLPVanilla. This class also removes the options for setting out_features and output_bias as they should be 1 and False, respectively."
   ]
  },
  {
   "cell_type": "code",
   "execution_count": 126,
   "metadata": {},
   "outputs": [],
   "source": [
    "in_features = x_train.shape[1]\n",
    "num_nodes = [32, 32]\n",
    "batch_norm = True\n",
    "dropout = 0.1\n",
    "net = MLPVanillaCoxTime(in_features, num_nodes, batch_norm, dropout)"
   ]
  },
  {
   "cell_type": "markdown",
   "metadata": {},
   "source": [
    "# Training the model\n",
    "To train the model we need to define an optimizer. You can choose any torch.optim optimizer, but here we instead use one from tt.optim as it has some added functionality. We use the Adam optimizer, but instead of choosing a learning rate, we will use the scheme proposed by Smith 2017 to find a suitable learning rate with model.lr_finder. See this post for an explanation.\n",
    "\n",
    "We also set labtrans which connects the output nodes of the network the the label transform of the durations. This is only useful for prediction and does not affect the training procedure."
   ]
  },
  {
   "cell_type": "code",
   "execution_count": 127,
   "metadata": {},
   "outputs": [],
   "source": [
    "model = CoxTime(net, tt.optim.Adam, labtrans=labtrans)"
   ]
  },
  {
   "cell_type": "code",
   "execution_count": 128,
   "metadata": {},
   "outputs": [
    {
     "data": {
      "image/png": "[encoded data removed]",
      "text/plain": [
       "<Figure size 432x288 with 1 Axes>"
      ]
     },
     "metadata": {
      "needs_background": "light"
     },
     "output_type": "display_data"
    }
   ],
   "source": [
    "batch_size = 256\n",
    "lrfinder = model.lr_finder(x_train, y_train, batch_size, tolerance=2)\n",
    "_ = lrfinder.plot()"
   ]
  },
  {
   "cell_type": "code",
   "execution_count": 129,
   "metadata": {},
   "outputs": [
    {
     "data": {
      "text/plain": [
       "0.07390722033525823"
      ]
     },
     "execution_count": 129,
     "metadata": {},
     "output_type": "execute_result"
    }
   ],
   "source": [
    "lrfinder.get_best_lr()"
   ]
  },
  {
   "cell_type": "markdown",
   "metadata": {},
   "source": [
    "The learning rate is high in general case, so we decrease it to 0.01"
   ]
  },
  {
   "cell_type": "code",
   "execution_count": 130,
   "metadata": {},
   "outputs": [],
   "source": [
    "model.optimizer.set_lr(0.01)"
   ]
  },
  {
   "cell_type": "code",
   "execution_count": 131,
   "metadata": {},
   "outputs": [],
   "source": [
    "epochs = 512\n",
    "callbacks = [tt.callbacks.EarlyStopping()]\n",
    "verbose = True"
   ]
  },
  {
   "cell_type": "code",
   "execution_count": 132,
   "metadata": {},
   "outputs": [
    {
     "name": "stdout",
     "output_type": "stream",
     "text": [
      "0:\t[0s / 0s],\t\ttrain_loss: 0.7559,\tval_loss: 0.6987\n",
      "1:\t[0s / 0s],\t\ttrain_loss: 0.7073,\tval_loss: 0.6909\n",
      "2:\t[0s / 0s],\t\ttrain_loss: 0.6882,\tval_loss: 0.7027\n",
      "3:\t[0s / 0s],\t\ttrain_loss: 0.6962,\tval_loss: 0.6983\n",
      "4:\t[0s / 0s],\t\ttrain_loss: 0.6762,\tval_loss: 0.7108\n",
      "5:\t[0s / 0s],\t\ttrain_loss: 0.6799,\tval_loss: 0.7211\n",
      "6:\t[0s / 0s],\t\ttrain_loss: 0.6709,\tval_loss: 0.7123\n",
      "7:\t[0s / 0s],\t\ttrain_loss: 0.6768,\tval_loss: 0.7139\n",
      "8:\t[0s / 0s],\t\ttrain_loss: 0.6747,\tval_loss: 0.7010\n",
      "9:\t[0s / 0s],\t\ttrain_loss: 0.6783,\tval_loss: 0.6932\n",
      "10:\t[0s / 0s],\t\ttrain_loss: 0.6729,\tval_loss: 0.6948\n",
      "11:\t[0s / 0s],\t\ttrain_loss: 0.6728,\tval_loss: 0.6967\n",
      "Wall time: 466 ms\n"
     ]
    }
   ],
   "source": [
    "%%time\n",
    "log = model.fit(x_train, y_train, batch_size, epochs, callbacks, verbose,\n",
    "                val_data=test.repeat(10).cat())"
   ]
  },
  {
   "cell_type": "code",
   "execution_count": 133,
   "metadata": {},
   "outputs": [
    {
     "data": {
      "image/png": "[encoded data removed]",
      "text/plain": [
       "<Figure size 432x288 with 1 Axes>"
      ]
     },
     "metadata": {
      "needs_background": "light"
     },
     "output_type": "display_data"
    }
   ],
   "source": [
    "_ = log.plot()"
   ]
  },
  {
   "cell_type": "code",
   "execution_count": 135,
   "metadata": {},
   "outputs": [
    {
     "data": {
      "text/plain": [
       "-5.739084243774414"
      ]
     },
     "execution_count": 135,
     "metadata": {},
     "output_type": "execute_result"
    }
   ],
   "source": [
    "model.partial_log_likelihood(*test).mean()"
   ]
  },
  {
   "cell_type": "markdown",
   "metadata": {},
   "source": [
    "# Prediction\n",
    "For evaluation we first need to obtain survival estimates for the test set. This can be done with model.predict_surv which returns an array of survival estimates, or with model.predict_surv_df which returns the survival estimates as a dataframe.\n",
    "\n",
    "However, as Cox-Time is semi-parametric, we first need to get the non-parametric baseline hazard estimates with compute_baseline_hazards.\n",
    "\n",
    "Note that for large datasets the sample argument can be used to estimate the baseline hazard on a subset."
   ]
  },
  {
   "cell_type": "code",
   "execution_count": 136,
   "metadata": {},
   "outputs": [],
   "source": [
    "_ = model.compute_baseline_hazards()\n",
    "surv = model.predict_surv_df(x_test)"
   ]
  },
  {
   "cell_type": "code",
   "execution_count": 137,
   "metadata": {},
   "outputs": [
    {
     "data": {
      "image/png": "[encoded data removed]",
      "text/plain": [
       "<Figure size 432x288 with 1 Axes>"
      ]
     },
     "metadata": {
      "needs_background": "light"
     },
     "output_type": "display_data"
    }
   ],
   "source": [
    "surv.iloc[:, :5].plot()\n",
    "plt.ylabel('S(t | x)')\n",
    "_ = plt.xlabel('Time')"
   ]
  },
  {
   "cell_type": "markdown",
   "metadata": {},
   "source": [
    "# Evaluation\n",
    "We can use the EvalSurv class for evaluation the concordance, brier score and binomial log-likelihood. Setting censor_surv='km' means that we estimate the censoring distribution by Kaplan-Meier on the test set."
   ]
  },
  {
   "cell_type": "code",
   "execution_count": 147,
   "metadata": {},
   "outputs": [],
   "source": [
    "ev = EvalSurv(surv, Time_test, Cens_test, censor_surv='km')"
   ]
  },
  {
   "cell_type": "code",
   "execution_count": 148,
   "metadata": {},
   "outputs": [
    {
     "data": {
      "text/plain": [
       "0.5475040499190016"
      ]
     },
     "execution_count": 148,
     "metadata": {},
     "output_type": "execute_result"
    }
   ],
   "source": [
    "ev.concordance_td()"
   ]
  },
  {
   "cell_type": "code",
   "execution_count": 150,
   "metadata": {},
   "outputs": [
    {
     "data": {
      "image/png": "[encoded data removed]",
      "text/plain": [
       "<Figure size 432x288 with 1 Axes>"
      ]
     },
     "metadata": {
      "needs_background": "light"
     },
     "output_type": "display_data"
    }
   ],
   "source": [
    "time_grid = np.linspace(Time_test.min(), Time_test.max(), 100)\n",
    "_ = ev.brier_score(time_grid).plot()"
   ]
  },
  {
   "cell_type": "markdown",
   "metadata": {},
   "source": [
    "In terms of benchmarks, a useful model will have a Brier score below \n",
    "0.25"
   ]
  },
  {
   "cell_type": "code",
   "execution_count": 151,
   "metadata": {},
   "outputs": [
    {
     "data": {
      "text/plain": [
       "0.21770172730282067"
      ]
     },
     "execution_count": 151,
     "metadata": {},
     "output_type": "execute_result"
    }
   ],
   "source": [
    "ev.integrated_brier_score(time_grid) #brier_score"
   ]
  },
  {
   "cell_type": "code",
   "execution_count": 152,
   "metadata": {},
   "outputs": [
    {
     "data": {
      "text/plain": [
       "0.6184905717194111"
      ]
     },
     "execution_count": 152,
     "metadata": {},
     "output_type": "execute_result"
    }
   ],
   "source": [
    "ev.integrated_nbll(time_grid) #binomial log-likelihood"
   ]
  },
  {
   "cell_type": "code",
   "execution_count": 154,
   "metadata": {},
   "outputs": [
    {
     "data": {
      "text/html": [
       "<div>\n",
       "<style scoped>\n",
       "    .dataframe tbody tr th:only-of-type {\n",
       "        vertical-align: middle;\n",
       "    }\n",
       "\n",
       "    .dataframe tbody tr th {\n",
       "        vertical-align: top;\n",
       "    }\n",
       "\n",
       "    .dataframe thead th {\n",
       "        text-align: right;\n",
       "    }\n",
       "</style>\n",
       "<table border=\"1\" class=\"dataframe\">\n",
       "  <thead>\n",
       "    <tr style=\"text-align: right;\">\n",
       "      <th></th>\n",
       "      <th>0</th>\n",
       "      <th>1</th>\n",
       "      <th>2</th>\n",
       "      <th>3</th>\n",
       "      <th>4</th>\n",
       "    </tr>\n",
       "  </thead>\n",
       "  <tbody>\n",
       "    <tr>\n",
       "      <th>0.491054</th>\n",
       "      <td>1.000000</td>\n",
       "      <td>1.000000</td>\n",
       "      <td>1.000000</td>\n",
       "      <td>1.000000</td>\n",
       "      <td>1.000000</td>\n",
       "    </tr>\n",
       "    <tr>\n",
       "      <th>0.494233</th>\n",
       "      <td>1.000000</td>\n",
       "      <td>1.000000</td>\n",
       "      <td>1.000000</td>\n",
       "      <td>1.000000</td>\n",
       "      <td>1.000000</td>\n",
       "    </tr>\n",
       "    <tr>\n",
       "      <th>0.868685</th>\n",
       "      <td>1.000000</td>\n",
       "      <td>1.000000</td>\n",
       "      <td>1.000000</td>\n",
       "      <td>1.000000</td>\n",
       "      <td>1.000000</td>\n",
       "    </tr>\n",
       "    <tr>\n",
       "      <th>0.933551</th>\n",
       "      <td>1.000000</td>\n",
       "      <td>1.000000</td>\n",
       "      <td>1.000000</td>\n",
       "      <td>1.000000</td>\n",
       "      <td>1.000000</td>\n",
       "    </tr>\n",
       "    <tr>\n",
       "      <th>2.752196</th>\n",
       "      <td>0.999779</td>\n",
       "      <td>0.999699</td>\n",
       "      <td>0.999665</td>\n",
       "      <td>0.999547</td>\n",
       "      <td>0.999555</td>\n",
       "    </tr>\n",
       "    <tr>\n",
       "      <th>...</th>\n",
       "      <td>...</td>\n",
       "      <td>...</td>\n",
       "      <td>...</td>\n",
       "      <td>...</td>\n",
       "      <td>...</td>\n",
       "    </tr>\n",
       "    <tr>\n",
       "      <th>16001.578398</th>\n",
       "      <td>0.201154</td>\n",
       "      <td>0.279154</td>\n",
       "      <td>0.269403</td>\n",
       "      <td>0.140433</td>\n",
       "      <td>0.232190</td>\n",
       "    </tr>\n",
       "    <tr>\n",
       "      <th>16130.963762</th>\n",
       "      <td>0.201154</td>\n",
       "      <td>0.279154</td>\n",
       "      <td>0.269403</td>\n",
       "      <td>0.140433</td>\n",
       "      <td>0.232190</td>\n",
       "    </tr>\n",
       "    <tr>\n",
       "      <th>16241.729479</th>\n",
       "      <td>0.132682</td>\n",
       "      <td>0.211186</td>\n",
       "      <td>0.193793</td>\n",
       "      <td>0.096867</td>\n",
       "      <td>0.167980</td>\n",
       "    </tr>\n",
       "    <tr>\n",
       "      <th>17482.899965</th>\n",
       "      <td>0.132682</td>\n",
       "      <td>0.211186</td>\n",
       "      <td>0.193793</td>\n",
       "      <td>0.096867</td>\n",
       "      <td>0.167980</td>\n",
       "    </tr>\n",
       "    <tr>\n",
       "      <th>19420.238850</th>\n",
       "      <td>0.132682</td>\n",
       "      <td>0.211186</td>\n",
       "      <td>0.193793</td>\n",
       "      <td>0.096867</td>\n",
       "      <td>0.167980</td>\n",
       "    </tr>\n",
       "  </tbody>\n",
       "</table>\n",
       "<p>3200 rows × 5 columns</p>\n",
       "</div>"
      ],
      "text/plain": [
       "                     0         1         2         3         4\n",
       "0.491054      1.000000  1.000000  1.000000  1.000000  1.000000\n",
       "0.494233      1.000000  1.000000  1.000000  1.000000  1.000000\n",
       "0.868685      1.000000  1.000000  1.000000  1.000000  1.000000\n",
       "0.933551      1.000000  1.000000  1.000000  1.000000  1.000000\n",
       "2.752196      0.999779  0.999699  0.999665  0.999547  0.999555\n",
       "...                ...       ...       ...       ...       ...\n",
       "16001.578398  0.201154  0.279154  0.269403  0.140433  0.232190\n",
       "16130.963762  0.201154  0.279154  0.269403  0.140433  0.232190\n",
       "16241.729479  0.132682  0.211186  0.193793  0.096867  0.167980\n",
       "17482.899965  0.132682  0.211186  0.193793  0.096867  0.167980\n",
       "19420.238850  0.132682  0.211186  0.193793  0.096867  0.167980\n",
       "\n",
       "[3200 rows x 5 columns]"
      ]
     },
     "execution_count": 154,
     "metadata": {},
     "output_type": "execute_result"
    }
   ],
   "source": [
    "surv.iloc[:, :5]"
   ]
  },
  {
   "cell_type": "code",
   "execution_count": null,
   "metadata": {},
   "outputs": [],
   "source": []
  }
 ],
 "metadata": {
  "kernelspec": {
   "display_name": "Python 3",
   "language": "python",
   "name": "python3"
  },
  "language_info": {
   "codemirror_mode": {
    "name": "ipython",
    "version": 3
   },
   "file_extension": ".py",
   "mimetype": "text/x-python",
   "name": "python",
   "nbconvert_exporter": "python",
   "pygments_lexer": "ipython3",
   "version": "3.8.5"
  },
  "vscode": {
   "interpreter": {
    "hash": "aee8b7b246df8f9039afb4144a1f6fd8d2ca17a180786b69acc140d282b71a49"
   }
  }
 },
 "nbformat": 4,
 "nbformat_minor": 2
}
