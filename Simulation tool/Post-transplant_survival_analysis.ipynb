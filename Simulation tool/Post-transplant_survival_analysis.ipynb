{
 "cells": [
  {
   "cell_type": "markdown",
   "metadata": {},
   "source": [
    "# Post transplantation dataset survival analysis"
   ]
  },
  {
   "cell_type": "markdown",
   "metadata": {},
   "source": [
    "By Zihao Guo 21/09/2022"
   ]
  },
  {
   "cell_type": "markdown",
   "metadata": {},
   "source": [
    "# Feature Selection"
   ]
  },
  {
   "cell_type": "code",
   "execution_count": 48,
   "metadata": {},
   "outputs": [],
   "source": [
    "import copy\n",
    "df_train = pd.read_excel(\"SimData_Transplant_Ver2.0.xls\", index_col = False, header=0)\n",
    "df_train = df_train[df_train['Age_Tx'] >= 18] \n",
    "le = LabelEncoder()\n",
    "df_train[\"Gender\"] = le.fit_transform(df_train[\"Gender\"])\n",
    "df_train[\"Bloodtype\"] = le.fit_transform(df_train[\"Bloodtype\"])\n",
    "df_train[\"Donor_Bloodtype\"] = le.fit_transform(df_train[\"Donor_Bloodtype\"])\n",
    "df_train[\"Inpt_attx\"] = le.fit_transform(df_train[\"Inpt_attx\"])\n",
    "df_train[\"Donor_Sex\"] = le.fit_transform(df_train[\"Donor_Sex\"])\n",
    "df_train[\"Donor_DCD\"] = le.fit_transform(df_train[\"Donor_DCD\"])\n",
    "feature_df_train = copy.deepcopy(df_train)"
   ]
  },
  {
   "cell_type": "code",
   "execution_count": 49,
   "metadata": {},
   "outputs": [],
   "source": [
    "y_time = feature_df_train['Time']\n",
    "y_cens = feature_df_train['Cens']\n",
    "feature_df_train = df_train.drop(['Time', 'Cens'], axis=1)"
   ]
  },
  {
   "cell_type": "code",
   "execution_count": 50,
   "metadata": {},
   "outputs": [
    {
     "data": {
      "text/plain": [
       "array([(False, 2019.86696186), ( True, 1815.12806469),\n",
       "       (False,  396.55620022), ..., (False, 3091.40556575),\n",
       "       (False, 1833.62266184), (False, 4786.39621849)],\n",
       "      dtype=[('Status', '?'), ('Survival_in_days', '<f8')])"
      ]
     },
     "execution_count": 50,
     "metadata": {},
     "output_type": "execute_result"
    }
   ],
   "source": [
    "mytype=np.dtype([('Status', '?'), ('Survival_in_days', '<f8')])\n",
    "data_y = np.zeros(4000,dtype=mytype)\n",
    "for i in range(len(y_time)):\n",
    "    data_y[i][0] = y_cens[i]\n",
    "    data_y[i][1] = y_time[i]\n",
    "data_y"
   ]
  },
  {
   "cell_type": "code",
   "execution_count": 51,
   "metadata": {},
   "outputs": [
    {
     "data": {
      "text/plain": [
       "CoxPHSurvivalAnalysis()"
      ]
     },
     "execution_count": 51,
     "metadata": {},
     "output_type": "execute_result"
    }
   ],
   "source": [
    "import numpy as np\n",
    "from sksurv.metrics import concordance_index_censored\n",
    "from sksurv.nonparametric import kaplan_meier_estimator\n",
    "from sklearn import set_config\n",
    "from sksurv.linear_model import CoxPHSurvivalAnalysis\n",
    "set_config(display=\"text\")  # displays text representation of estimators\n",
    "\n",
    "estimator = CoxPHSurvivalAnalysis()\n",
    "estimator.fit(feature_df_train, data_y)"
   ]
  },
  {
   "cell_type": "code",
   "execution_count": 52,
   "metadata": {},
   "outputs": [
    {
     "data": {
      "text/plain": [
       "Gender            -0.136979\n",
       "Bloodtype         -0.015777\n",
       "Inpt_attx          0.123343\n",
       "Donor_Sex          0.185871\n",
       "Donor_Bloodtype    0.061373\n",
       "Donor_DCD          0.223080\n",
       "Waittime           0.000124\n",
       "Age_Tx             0.004782\n",
       "Donor_Age         -0.004533\n",
       "TransplantBMI     -0.002161\n",
       "Donor_BMI          0.005802\n",
       "MELD              -0.005774\n",
       "MELDNA            -0.007587\n",
       "dtype: float64"
      ]
     },
     "execution_count": 52,
     "metadata": {},
     "output_type": "execute_result"
    }
   ],
   "source": [
    "pd.Series(estimator.coef_, index=feature_df_train.columns)"
   ]
  },
  {
   "cell_type": "code",
   "execution_count": 53,
   "metadata": {},
   "outputs": [
    {
     "data": {
      "text/plain": [
       "0.5628222290159716"
      ]
     },
     "execution_count": 53,
     "metadata": {},
     "output_type": "execute_result"
    }
   ],
   "source": [
    "from sksurv.metrics import concordance_index_censored\n",
    "\n",
    "prediction = estimator.predict(feature_df_train)\n",
    "result = concordance_index_censored(data_y[\"Status\"], data_y[\"Survival_in_days\"], prediction)\n",
    "result[0]"
   ]
  },
  {
   "cell_type": "code",
   "execution_count": 54,
   "metadata": {},
   "outputs": [
    {
     "data": {
      "text/plain": [
       "Donor_Sex          0.526823\n",
       "MELD               0.523983\n",
       "Donor_Bloodtype    0.523939\n",
       "MELDNA             0.523209\n",
       "Donor_Age          0.521975\n",
       "Age_Tx             0.521367\n",
       "Bloodtype          0.517323\n",
       "Waittime           0.513090\n",
       "Donor_BMI          0.512790\n",
       "Inpt_attx          0.511537\n",
       "Gender             0.509103\n",
       "TransplantBMI      0.507212\n",
       "Donor_DCD          0.504694\n",
       "dtype: float64"
      ]
     },
     "execution_count": 54,
     "metadata": {},
     "output_type": "execute_result"
    }
   ],
   "source": [
    "def fit_and_score_features(X, y):\n",
    "    n_features = X.shape[1]\n",
    "    scores = np.empty(n_features)\n",
    "    m = CoxPHSurvivalAnalysis()\n",
    "    for j in range(n_features):\n",
    "        Xj = X[:, j:j+1]\n",
    "        m.fit(Xj, y)\n",
    "        scores[j] = m.score(Xj, y)\n",
    "    return scores\n",
    "\n",
    "scores = fit_and_score_features(feature_df_train.values, data_y)\n",
    "pd.Series(scores, index=feature_df_train.columns).sort_values(ascending=False)"
   ]
  },
  {
   "cell_type": "code",
   "execution_count": 55,
   "metadata": {},
   "outputs": [
    {
     "data": {
      "text/html": [
       "<div>\n",
       "<style scoped>\n",
       "    .dataframe tbody tr th:only-of-type {\n",
       "        vertical-align: middle;\n",
       "    }\n",
       "\n",
       "    .dataframe tbody tr th {\n",
       "        vertical-align: top;\n",
       "    }\n",
       "\n",
       "    .dataframe thead th {\n",
       "        text-align: right;\n",
       "    }\n",
       "</style>\n",
       "<table border=\"1\" class=\"dataframe\">\n",
       "  <thead>\n",
       "    <tr style=\"text-align: right;\">\n",
       "      <th></th>\n",
       "      <th>param_select__k</th>\n",
       "      <th>params</th>\n",
       "      <th>split0_test_score</th>\n",
       "      <th>split1_test_score</th>\n",
       "      <th>split2_test_score</th>\n",
       "      <th>mean_test_score</th>\n",
       "      <th>std_test_score</th>\n",
       "      <th>rank_test_score</th>\n",
       "      <th>split0_train_score</th>\n",
       "      <th>split1_train_score</th>\n",
       "      <th>split2_train_score</th>\n",
       "      <th>mean_train_score</th>\n",
       "      <th>std_train_score</th>\n",
       "    </tr>\n",
       "  </thead>\n",
       "  <tbody>\n",
       "    <tr>\n",
       "      <th>12</th>\n",
       "      <td>13</td>\n",
       "      <td>{'select__k': 13}</td>\n",
       "      <td>0.532464</td>\n",
       "      <td>0.518611</td>\n",
       "      <td>0.564014</td>\n",
       "      <td>0.538363</td>\n",
       "      <td>0.018999</td>\n",
       "      <td>1</td>\n",
       "      <td>0.569175</td>\n",
       "      <td>0.577692</td>\n",
       "      <td>0.557767</td>\n",
       "      <td>0.568211</td>\n",
       "      <td>0.008163</td>\n",
       "    </tr>\n",
       "    <tr>\n",
       "      <th>11</th>\n",
       "      <td>12</td>\n",
       "      <td>{'select__k': 12}</td>\n",
       "      <td>0.527315</td>\n",
       "      <td>0.518293</td>\n",
       "      <td>0.563388</td>\n",
       "      <td>0.536332</td>\n",
       "      <td>0.019483</td>\n",
       "      <td>2</td>\n",
       "      <td>0.568783</td>\n",
       "      <td>0.577778</td>\n",
       "      <td>0.557565</td>\n",
       "      <td>0.568042</td>\n",
       "      <td>0.008269</td>\n",
       "    </tr>\n",
       "    <tr>\n",
       "      <th>10</th>\n",
       "      <td>11</td>\n",
       "      <td>{'select__k': 11}</td>\n",
       "      <td>0.527037</td>\n",
       "      <td>0.504159</td>\n",
       "      <td>0.562591</td>\n",
       "      <td>0.531262</td>\n",
       "      <td>0.024041</td>\n",
       "      <td>3</td>\n",
       "      <td>0.568578</td>\n",
       "      <td>0.576059</td>\n",
       "      <td>0.557846</td>\n",
       "      <td>0.567494</td>\n",
       "      <td>0.007475</td>\n",
       "    </tr>\n",
       "    <tr>\n",
       "      <th>7</th>\n",
       "      <td>8</td>\n",
       "      <td>{'select__k': 8}</td>\n",
       "      <td>0.526460</td>\n",
       "      <td>0.517054</td>\n",
       "      <td>0.545585</td>\n",
       "      <td>0.529700</td>\n",
       "      <td>0.011871</td>\n",
       "      <td>4</td>\n",
       "      <td>0.568983</td>\n",
       "      <td>0.570432</td>\n",
       "      <td>0.556107</td>\n",
       "      <td>0.565174</td>\n",
       "      <td>0.006439</td>\n",
       "    </tr>\n",
       "    <tr>\n",
       "      <th>9</th>\n",
       "      <td>10</td>\n",
       "      <td>{'select__k': 10}</td>\n",
       "      <td>0.525730</td>\n",
       "      <td>0.508867</td>\n",
       "      <td>0.550543</td>\n",
       "      <td>0.528380</td>\n",
       "      <td>0.017117</td>\n",
       "      <td>5</td>\n",
       "      <td>0.568951</td>\n",
       "      <td>0.574540</td>\n",
       "      <td>0.558496</td>\n",
       "      <td>0.567329</td>\n",
       "      <td>0.006650</td>\n",
       "    </tr>\n",
       "    <tr>\n",
       "      <th>8</th>\n",
       "      <td>9</td>\n",
       "      <td>{'select__k': 9}</td>\n",
       "      <td>0.524105</td>\n",
       "      <td>0.508495</td>\n",
       "      <td>0.550072</td>\n",
       "      <td>0.527557</td>\n",
       "      <td>0.017148</td>\n",
       "      <td>6</td>\n",
       "      <td>0.566118</td>\n",
       "      <td>0.573506</td>\n",
       "      <td>0.558560</td>\n",
       "      <td>0.566061</td>\n",
       "      <td>0.006102</td>\n",
       "    </tr>\n",
       "    <tr>\n",
       "      <th>6</th>\n",
       "      <td>7</td>\n",
       "      <td>{'select__k': 7}</td>\n",
       "      <td>0.512869</td>\n",
       "      <td>0.516152</td>\n",
       "      <td>0.538045</td>\n",
       "      <td>0.522355</td>\n",
       "      <td>0.011175</td>\n",
       "      <td>7</td>\n",
       "      <td>0.566101</td>\n",
       "      <td>0.570328</td>\n",
       "      <td>0.551305</td>\n",
       "      <td>0.562578</td>\n",
       "      <td>0.008156</td>\n",
       "    </tr>\n",
       "    <tr>\n",
       "      <th>5</th>\n",
       "      <td>6</td>\n",
       "      <td>{'select__k': 6}</td>\n",
       "      <td>0.499361</td>\n",
       "      <td>0.515550</td>\n",
       "      <td>0.538123</td>\n",
       "      <td>0.517678</td>\n",
       "      <td>0.015896</td>\n",
       "      <td>8</td>\n",
       "      <td>0.563117</td>\n",
       "      <td>0.568884</td>\n",
       "      <td>0.550725</td>\n",
       "      <td>0.560909</td>\n",
       "      <td>0.007576</td>\n",
       "    </tr>\n",
       "    <tr>\n",
       "      <th>2</th>\n",
       "      <td>3</td>\n",
       "      <td>{'select__k': 3}</td>\n",
       "      <td>0.498850</td>\n",
       "      <td>0.519518</td>\n",
       "      <td>0.527131</td>\n",
       "      <td>0.515166</td>\n",
       "      <td>0.011949</td>\n",
       "      <td>9</td>\n",
       "      <td>0.547906</td>\n",
       "      <td>0.561121</td>\n",
       "      <td>0.549616</td>\n",
       "      <td>0.552881</td>\n",
       "      <td>0.005868</td>\n",
       "    </tr>\n",
       "    <tr>\n",
       "      <th>4</th>\n",
       "      <td>5</td>\n",
       "      <td>{'select__k': 5}</td>\n",
       "      <td>0.501155</td>\n",
       "      <td>0.507187</td>\n",
       "      <td>0.536296</td>\n",
       "      <td>0.514879</td>\n",
       "      <td>0.015343</td>\n",
       "      <td>10</td>\n",
       "      <td>0.558375</td>\n",
       "      <td>0.565761</td>\n",
       "      <td>0.549882</td>\n",
       "      <td>0.558006</td>\n",
       "      <td>0.006488</td>\n",
       "    </tr>\n",
       "    <tr>\n",
       "      <th>3</th>\n",
       "      <td>4</td>\n",
       "      <td>{'select__k': 4}</td>\n",
       "      <td>0.505101</td>\n",
       "      <td>0.509307</td>\n",
       "      <td>0.527648</td>\n",
       "      <td>0.514019</td>\n",
       "      <td>0.009789</td>\n",
       "      <td>11</td>\n",
       "      <td>0.555293</td>\n",
       "      <td>0.563709</td>\n",
       "      <td>0.549327</td>\n",
       "      <td>0.556110</td>\n",
       "      <td>0.005900</td>\n",
       "    </tr>\n",
       "    <tr>\n",
       "      <th>1</th>\n",
       "      <td>2</td>\n",
       "      <td>{'select__k': 2}</td>\n",
       "      <td>0.492384</td>\n",
       "      <td>0.505911</td>\n",
       "      <td>0.521433</td>\n",
       "      <td>0.506576</td>\n",
       "      <td>0.011868</td>\n",
       "      <td>12</td>\n",
       "      <td>0.540227</td>\n",
       "      <td>0.556642</td>\n",
       "      <td>0.542526</td>\n",
       "      <td>0.546465</td>\n",
       "      <td>0.007257</td>\n",
       "    </tr>\n",
       "    <tr>\n",
       "      <th>0</th>\n",
       "      <td>1</td>\n",
       "      <td>{'select__k': 1}</td>\n",
       "      <td>0.489497</td>\n",
       "      <td>0.490699</td>\n",
       "      <td>0.494129</td>\n",
       "      <td>0.491442</td>\n",
       "      <td>0.001963</td>\n",
       "      <td>13</td>\n",
       "      <td>0.543154</td>\n",
       "      <td>0.535731</td>\n",
       "      <td>0.529137</td>\n",
       "      <td>0.536007</td>\n",
       "      <td>0.005726</td>\n",
       "    </tr>\n",
       "  </tbody>\n",
       "</table>\n",
       "</div>"
      ],
      "text/plain": [
       "   param_select__k             params  split0_test_score  split1_test_score  \\\n",
       "12              13  {'select__k': 13}           0.532464           0.518611   \n",
       "11              12  {'select__k': 12}           0.527315           0.518293   \n",
       "10              11  {'select__k': 11}           0.527037           0.504159   \n",
       "7                8   {'select__k': 8}           0.526460           0.517054   \n",
       "9               10  {'select__k': 10}           0.525730           0.508867   \n",
       "8                9   {'select__k': 9}           0.524105           0.508495   \n",
       "6                7   {'select__k': 7}           0.512869           0.516152   \n",
       "5                6   {'select__k': 6}           0.499361           0.515550   \n",
       "2                3   {'select__k': 3}           0.498850           0.519518   \n",
       "4                5   {'select__k': 5}           0.501155           0.507187   \n",
       "3                4   {'select__k': 4}           0.505101           0.509307   \n",
       "1                2   {'select__k': 2}           0.492384           0.505911   \n",
       "0                1   {'select__k': 1}           0.489497           0.490699   \n",
       "\n",
       "    split2_test_score  mean_test_score  std_test_score  rank_test_score  \\\n",
       "12           0.564014         0.538363        0.018999                1   \n",
       "11           0.563388         0.536332        0.019483                2   \n",
       "10           0.562591         0.531262        0.024041                3   \n",
       "7            0.545585         0.529700        0.011871                4   \n",
       "9            0.550543         0.528380        0.017117                5   \n",
       "8            0.550072         0.527557        0.017148                6   \n",
       "6            0.538045         0.522355        0.011175                7   \n",
       "5            0.538123         0.517678        0.015896                8   \n",
       "2            0.527131         0.515166        0.011949                9   \n",
       "4            0.536296         0.514879        0.015343               10   \n",
       "3            0.527648         0.514019        0.009789               11   \n",
       "1            0.521433         0.506576        0.011868               12   \n",
       "0            0.494129         0.491442        0.001963               13   \n",
       "\n",
       "    split0_train_score  split1_train_score  split2_train_score  \\\n",
       "12            0.569175            0.577692            0.557767   \n",
       "11            0.568783            0.577778            0.557565   \n",
       "10            0.568578            0.576059            0.557846   \n",
       "7             0.568983            0.570432            0.556107   \n",
       "9             0.568951            0.574540            0.558496   \n",
       "8             0.566118            0.573506            0.558560   \n",
       "6             0.566101            0.570328            0.551305   \n",
       "5             0.563117            0.568884            0.550725   \n",
       "2             0.547906            0.561121            0.549616   \n",
       "4             0.558375            0.565761            0.549882   \n",
       "3             0.555293            0.563709            0.549327   \n",
       "1             0.540227            0.556642            0.542526   \n",
       "0             0.543154            0.535731            0.529137   \n",
       "\n",
       "    mean_train_score  std_train_score  \n",
       "12          0.568211         0.008163  \n",
       "11          0.568042         0.008269  \n",
       "10          0.567494         0.007475  \n",
       "7           0.565174         0.006439  \n",
       "9           0.567329         0.006650  \n",
       "8           0.566061         0.006102  \n",
       "6           0.562578         0.008156  \n",
       "5           0.560909         0.007576  \n",
       "2           0.552881         0.005868  \n",
       "4           0.558006         0.006488  \n",
       "3           0.556110         0.005900  \n",
       "1           0.546465         0.007257  \n",
       "0           0.536007         0.005726  "
      ]
     },
     "execution_count": 55,
     "metadata": {},
     "output_type": "execute_result"
    }
   ],
   "source": [
    "from sklearn.feature_selection import SelectKBest\n",
    "from sklearn.pipeline import Pipeline\n",
    "\n",
    "pipe = Pipeline([('select', SelectKBest(fit_and_score_features, k=3)),\n",
    "                 ('model', CoxPHSurvivalAnalysis())])\n",
    "\n",
    "from sklearn.model_selection import GridSearchCV, KFold\n",
    "\n",
    "param_grid = {'select__k': np.arange(1, feature_df_train.shape[1] + 1)}\n",
    "cv = KFold(n_splits=3, random_state=1, shuffle=True)\n",
    "gcv = GridSearchCV(pipe, param_grid, return_train_score=True, cv=cv)\n",
    "gcv.fit(feature_df_train, data_y)\n",
    "\n",
    "results = pd.DataFrame(gcv.cv_results_).sort_values(by='mean_test_score', ascending=False)\n",
    "results.loc[:, ~results.columns.str.endswith(\"_time\")]"
   ]
  },
  {
   "cell_type": "code",
   "execution_count": 56,
   "metadata": {},
   "outputs": [
    {
     "data": {
      "text/plain": [
       "Gender            -0.136979\n",
       "Bloodtype         -0.015777\n",
       "Inpt_attx          0.123343\n",
       "Donor_Sex          0.185871\n",
       "Donor_Bloodtype    0.061373\n",
       "Donor_DCD          0.223080\n",
       "Waittime           0.000124\n",
       "Age_Tx             0.004782\n",
       "Donor_Age         -0.004533\n",
       "TransplantBMI     -0.002161\n",
       "Donor_BMI          0.005802\n",
       "MELD              -0.005774\n",
       "MELDNA            -0.007587\n",
       "dtype: float64"
      ]
     },
     "execution_count": 56,
     "metadata": {},
     "output_type": "execute_result"
    }
   ],
   "source": [
    "pipe.set_params(**gcv.best_params_)\n",
    "pipe.fit(feature_df_train, data_y)\n",
    "\n",
    "transformer, final_estimator = [s[1] for s in pipe.steps]\n",
    "pd.Series(final_estimator.coef_, index=feature_df_train.columns[transformer.get_support()])"
   ]
  },
  {
   "cell_type": "markdown",
   "metadata": {},
   "source": [
    "# CoxTime"
   ]
  },
  {
   "cell_type": "code",
   "execution_count": 57,
   "metadata": {},
   "outputs": [],
   "source": [
    "import numpy as np\n",
    "import pandas as pd\n",
    "import matplotlib.pyplot as plt\n",
    "from sklearn.preprocessing import StandardScaler\n",
    "from sklearn_pandas import DataFrameMapper\n",
    "from sklearn.preprocessing import LabelEncoder\n",
    "\n",
    "import torch\n",
    "import torchtuples as tt\n",
    "\n",
    "from pycox.datasets import metabric\n",
    "from pycox.models import CoxTime\n",
    "from pycox.models import CoxCC\n",
    "from pycox.models.cox_time import MLPVanillaCoxTime\n",
    "from pycox.evaluation import EvalSurv"
   ]
  },
  {
   "cell_type": "code",
   "execution_count": 58,
   "metadata": {},
   "outputs": [],
   "source": [
    "df_train = pd.read_excel(\"SimData_Transplant_Ver2.0.xls\", index_col = False, header=0)\n",
    "df_train = df_train[df_train['Age_Tx'] >= 18] "
   ]
  },
  {
   "cell_type": "code",
   "execution_count": 59,
   "metadata": {},
   "outputs": [],
   "source": [
    "le = LabelEncoder()\n",
    "df_train[\"Gender\"] = le.fit_transform(df_train[\"Gender\"])\n",
    "df_train[\"Bloodtype\"] = le.fit_transform(df_train[\"Bloodtype\"])\n",
    "df_train[\"Donor_Bloodtype\"] = le.fit_transform(df_train[\"Donor_Bloodtype\"])\n",
    "df_train[\"Inpt_attx\"] = le.fit_transform(df_train[\"Inpt_attx\"])\n",
    "df_train[\"Donor_Sex\"] = le.fit_transform(df_train[\"Donor_Sex\"])\n",
    "df_train[\"Donor_DCD\"] = le.fit_transform(df_train[\"Donor_DCD\"])"
   ]
  },
  {
   "cell_type": "code",
   "execution_count": 60,
   "metadata": {},
   "outputs": [
    {
     "data": {
      "text/html": [
       "<div>\n",
       "<style scoped>\n",
       "    .dataframe tbody tr th:only-of-type {\n",
       "        vertical-align: middle;\n",
       "    }\n",
       "\n",
       "    .dataframe tbody tr th {\n",
       "        vertical-align: top;\n",
       "    }\n",
       "\n",
       "    .dataframe thead th {\n",
       "        text-align: right;\n",
       "    }\n",
       "</style>\n",
       "<table border=\"1\" class=\"dataframe\">\n",
       "  <thead>\n",
       "    <tr style=\"text-align: right;\">\n",
       "      <th></th>\n",
       "      <th>Gender</th>\n",
       "      <th>Bloodtype</th>\n",
       "      <th>Inpt_attx</th>\n",
       "      <th>Donor_Sex</th>\n",
       "      <th>Donor_Bloodtype</th>\n",
       "      <th>Donor_DCD</th>\n",
       "      <th>Waittime</th>\n",
       "      <th>Age_Tx</th>\n",
       "      <th>Donor_Age</th>\n",
       "      <th>TransplantBMI</th>\n",
       "      <th>Donor_BMI</th>\n",
       "      <th>MELD</th>\n",
       "      <th>MELDNA</th>\n",
       "      <th>Time</th>\n",
       "      <th>Cens</th>\n",
       "    </tr>\n",
       "  </thead>\n",
       "  <tbody>\n",
       "    <tr>\n",
       "      <th>0</th>\n",
       "      <td>1</td>\n",
       "      <td>3</td>\n",
       "      <td>2</td>\n",
       "      <td>1</td>\n",
       "      <td>2</td>\n",
       "      <td>0</td>\n",
       "      <td>1</td>\n",
       "      <td>54.291739</td>\n",
       "      <td>45.379636</td>\n",
       "      <td>24.712049</td>\n",
       "      <td>21.369229</td>\n",
       "      <td>22.939930</td>\n",
       "      <td>22.931727</td>\n",
       "      <td>2019.866962</td>\n",
       "      <td>0</td>\n",
       "    </tr>\n",
       "    <tr>\n",
       "      <th>1</th>\n",
       "      <td>1</td>\n",
       "      <td>0</td>\n",
       "      <td>0</td>\n",
       "      <td>1</td>\n",
       "      <td>3</td>\n",
       "      <td>0</td>\n",
       "      <td>157</td>\n",
       "      <td>59.817111</td>\n",
       "      <td>60.516200</td>\n",
       "      <td>28.887631</td>\n",
       "      <td>25.408853</td>\n",
       "      <td>18.985337</td>\n",
       "      <td>21.381548</td>\n",
       "      <td>1815.128065</td>\n",
       "      <td>1</td>\n",
       "    </tr>\n",
       "    <tr>\n",
       "      <th>2</th>\n",
       "      <td>0</td>\n",
       "      <td>0</td>\n",
       "      <td>0</td>\n",
       "      <td>1</td>\n",
       "      <td>0</td>\n",
       "      <td>0</td>\n",
       "      <td>49</td>\n",
       "      <td>63.198440</td>\n",
       "      <td>30.989861</td>\n",
       "      <td>26.869533</td>\n",
       "      <td>24.902931</td>\n",
       "      <td>23.694392</td>\n",
       "      <td>26.243047</td>\n",
       "      <td>396.556200</td>\n",
       "      <td>0</td>\n",
       "    </tr>\n",
       "    <tr>\n",
       "      <th>3</th>\n",
       "      <td>1</td>\n",
       "      <td>3</td>\n",
       "      <td>2</td>\n",
       "      <td>0</td>\n",
       "      <td>2</td>\n",
       "      <td>0</td>\n",
       "      <td>81</td>\n",
       "      <td>28.845900</td>\n",
       "      <td>41.142174</td>\n",
       "      <td>27.411596</td>\n",
       "      <td>35.396950</td>\n",
       "      <td>11.375444</td>\n",
       "      <td>8.545730</td>\n",
       "      <td>1326.259556</td>\n",
       "      <td>0</td>\n",
       "    </tr>\n",
       "    <tr>\n",
       "      <th>4</th>\n",
       "      <td>1</td>\n",
       "      <td>3</td>\n",
       "      <td>0</td>\n",
       "      <td>0</td>\n",
       "      <td>3</td>\n",
       "      <td>0</td>\n",
       "      <td>620</td>\n",
       "      <td>55.523918</td>\n",
       "      <td>49.138937</td>\n",
       "      <td>24.530967</td>\n",
       "      <td>29.372668</td>\n",
       "      <td>26.835544</td>\n",
       "      <td>29.211865</td>\n",
       "      <td>605.043515</td>\n",
       "      <td>0</td>\n",
       "    </tr>\n",
       "    <tr>\n",
       "      <th>...</th>\n",
       "      <td>...</td>\n",
       "      <td>...</td>\n",
       "      <td>...</td>\n",
       "      <td>...</td>\n",
       "      <td>...</td>\n",
       "      <td>...</td>\n",
       "      <td>...</td>\n",
       "      <td>...</td>\n",
       "      <td>...</td>\n",
       "      <td>...</td>\n",
       "      <td>...</td>\n",
       "      <td>...</td>\n",
       "      <td>...</td>\n",
       "      <td>...</td>\n",
       "      <td>...</td>\n",
       "    </tr>\n",
       "    <tr>\n",
       "      <th>3995</th>\n",
       "      <td>1</td>\n",
       "      <td>0</td>\n",
       "      <td>0</td>\n",
       "      <td>0</td>\n",
       "      <td>0</td>\n",
       "      <td>0</td>\n",
       "      <td>638</td>\n",
       "      <td>66.768544</td>\n",
       "      <td>62.181956</td>\n",
       "      <td>29.624822</td>\n",
       "      <td>30.205990</td>\n",
       "      <td>17.050266</td>\n",
       "      <td>14.632579</td>\n",
       "      <td>2578.443555</td>\n",
       "      <td>0</td>\n",
       "    </tr>\n",
       "    <tr>\n",
       "      <th>3996</th>\n",
       "      <td>1</td>\n",
       "      <td>0</td>\n",
       "      <td>0</td>\n",
       "      <td>1</td>\n",
       "      <td>0</td>\n",
       "      <td>0</td>\n",
       "      <td>146</td>\n",
       "      <td>61.143847</td>\n",
       "      <td>57.131994</td>\n",
       "      <td>24.984602</td>\n",
       "      <td>18.078771</td>\n",
       "      <td>13.369472</td>\n",
       "      <td>10.730959</td>\n",
       "      <td>2642.791337</td>\n",
       "      <td>1</td>\n",
       "    </tr>\n",
       "    <tr>\n",
       "      <th>3997</th>\n",
       "      <td>1</td>\n",
       "      <td>0</td>\n",
       "      <td>2</td>\n",
       "      <td>0</td>\n",
       "      <td>0</td>\n",
       "      <td>0</td>\n",
       "      <td>60</td>\n",
       "      <td>41.818547</td>\n",
       "      <td>39.402747</td>\n",
       "      <td>31.146902</td>\n",
       "      <td>24.720377</td>\n",
       "      <td>19.096785</td>\n",
       "      <td>22.031645</td>\n",
       "      <td>3091.405566</td>\n",
       "      <td>0</td>\n",
       "    </tr>\n",
       "    <tr>\n",
       "      <th>3998</th>\n",
       "      <td>1</td>\n",
       "      <td>0</td>\n",
       "      <td>0</td>\n",
       "      <td>1</td>\n",
       "      <td>0</td>\n",
       "      <td>0</td>\n",
       "      <td>152</td>\n",
       "      <td>36.732881</td>\n",
       "      <td>18.422351</td>\n",
       "      <td>36.196905</td>\n",
       "      <td>22.702255</td>\n",
       "      <td>16.906836</td>\n",
       "      <td>14.620845</td>\n",
       "      <td>1833.622662</td>\n",
       "      <td>0</td>\n",
       "    </tr>\n",
       "    <tr>\n",
       "      <th>3999</th>\n",
       "      <td>1</td>\n",
       "      <td>0</td>\n",
       "      <td>0</td>\n",
       "      <td>0</td>\n",
       "      <td>0</td>\n",
       "      <td>0</td>\n",
       "      <td>138</td>\n",
       "      <td>25.789776</td>\n",
       "      <td>39.731841</td>\n",
       "      <td>23.126541</td>\n",
       "      <td>18.639493</td>\n",
       "      <td>14.987741</td>\n",
       "      <td>12.505690</td>\n",
       "      <td>4786.396218</td>\n",
       "      <td>0</td>\n",
       "    </tr>\n",
       "  </tbody>\n",
       "</table>\n",
       "<p>4000 rows × 15 columns</p>\n",
       "</div>"
      ],
      "text/plain": [
       "      Gender  Bloodtype  Inpt_attx  Donor_Sex  Donor_Bloodtype  Donor_DCD  \\\n",
       "0          1          3          2          1                2          0   \n",
       "1          1          0          0          1                3          0   \n",
       "2          0          0          0          1                0          0   \n",
       "3          1          3          2          0                2          0   \n",
       "4          1          3          0          0                3          0   \n",
       "...      ...        ...        ...        ...              ...        ...   \n",
       "3995       1          0          0          0                0          0   \n",
       "3996       1          0          0          1                0          0   \n",
       "3997       1          0          2          0                0          0   \n",
       "3998       1          0          0          1                0          0   \n",
       "3999       1          0          0          0                0          0   \n",
       "\n",
       "      Waittime     Age_Tx  Donor_Age  TransplantBMI  Donor_BMI       MELD  \\\n",
       "0            1  54.291739  45.379636      24.712049  21.369229  22.939930   \n",
       "1          157  59.817111  60.516200      28.887631  25.408853  18.985337   \n",
       "2           49  63.198440  30.989861      26.869533  24.902931  23.694392   \n",
       "3           81  28.845900  41.142174      27.411596  35.396950  11.375444   \n",
       "4          620  55.523918  49.138937      24.530967  29.372668  26.835544   \n",
       "...        ...        ...        ...            ...        ...        ...   \n",
       "3995       638  66.768544  62.181956      29.624822  30.205990  17.050266   \n",
       "3996       146  61.143847  57.131994      24.984602  18.078771  13.369472   \n",
       "3997        60  41.818547  39.402747      31.146902  24.720377  19.096785   \n",
       "3998       152  36.732881  18.422351      36.196905  22.702255  16.906836   \n",
       "3999       138  25.789776  39.731841      23.126541  18.639493  14.987741   \n",
       "\n",
       "         MELDNA         Time  Cens  \n",
       "0     22.931727  2019.866962     0  \n",
       "1     21.381548  1815.128065     1  \n",
       "2     26.243047   396.556200     0  \n",
       "3      8.545730  1326.259556     0  \n",
       "4     29.211865   605.043515     0  \n",
       "...         ...          ...   ...  \n",
       "3995  14.632579  2578.443555     0  \n",
       "3996  10.730959  2642.791337     1  \n",
       "3997  22.031645  3091.405566     0  \n",
       "3998  14.620845  1833.622662     0  \n",
       "3999  12.505690  4786.396218     0  \n",
       "\n",
       "[4000 rows x 15 columns]"
      ]
     },
     "execution_count": 60,
     "metadata": {},
     "output_type": "execute_result"
    }
   ],
   "source": [
    "df_train"
   ]
  },
  {
   "cell_type": "code",
   "execution_count": 61,
   "metadata": {},
   "outputs": [
    {
     "name": "stdout",
     "output_type": "stream",
     "text": [
      "13816.146137622909\n",
      "13589.426961668467\n",
      "13482.920818994982\n",
      "15934.300545419868\n",
      "13850.706597910534\n",
      "14226.589069780224\n",
      "12638.895293613174\n"
     ]
    }
   ],
   "source": [
    "count = 0\n",
    "for i in df_train[\"Cens\"]:\n",
    "    count +=1\n",
    "    if i == 1:\n",
    "        if df_train.iloc[count,13] > 12000:\n",
    "            print(df_train.iloc[count,13])        "
   ]
  },
  {
   "cell_type": "code",
   "execution_count": 62,
   "metadata": {},
   "outputs": [],
   "source": [
    "df_test = df_train.sample(frac=0.2)\n",
    "df_train = df_train.drop(df_test.index)\n",
    "df_val = df_train.sample(frac=0.2)\n",
    "df_train = df_train.drop(df_val.index)"
   ]
  },
  {
   "cell_type": "code",
   "execution_count": 63,
   "metadata": {},
   "outputs": [],
   "source": [
    "#X_train = df_train.drop(['Donor_Sex', 'Gender', 'Donor_DCD', 'Donor_BMI', 'Donor_Age'], axis=1)\n",
    "X_train = df_train\n",
    "X_test = df_test\n",
    "X_val = df_val"
   ]
  },
  {
   "cell_type": "code",
   "execution_count": 64,
   "metadata": {},
   "outputs": [],
   "source": [
    "#X_test = df_test.drop(['Donor_Sex', 'Gender', 'Donor_DCD', 'Donor_BMI', 'Donor_Age'], axis=1)\n",
    "#X_val = df_val.drop(['Donor_Sex', 'Gender', 'Donor_DCD', 'Donor_BMI', 'Donor_Age'], axis=1)"
   ]
  },
  {
   "cell_type": "code",
   "execution_count": 66,
   "metadata": {
    "scrolled": true
   },
   "outputs": [
    {
     "data": {
      "text/html": [
       "<div>\n",
       "<style scoped>\n",
       "    .dataframe tbody tr th:only-of-type {\n",
       "        vertical-align: middle;\n",
       "    }\n",
       "\n",
       "    .dataframe tbody tr th {\n",
       "        vertical-align: top;\n",
       "    }\n",
       "\n",
       "    .dataframe thead th {\n",
       "        text-align: right;\n",
       "    }\n",
       "</style>\n",
       "<table border=\"1\" class=\"dataframe\">\n",
       "  <thead>\n",
       "    <tr style=\"text-align: right;\">\n",
       "      <th></th>\n",
       "      <th>Gender</th>\n",
       "      <th>Bloodtype</th>\n",
       "      <th>Inpt_attx</th>\n",
       "      <th>Donor_Sex</th>\n",
       "      <th>Donor_Bloodtype</th>\n",
       "      <th>Donor_DCD</th>\n",
       "      <th>Waittime</th>\n",
       "      <th>Age_Tx</th>\n",
       "      <th>Donor_Age</th>\n",
       "      <th>TransplantBMI</th>\n",
       "      <th>Donor_BMI</th>\n",
       "      <th>MELD</th>\n",
       "      <th>MELDNA</th>\n",
       "      <th>Time</th>\n",
       "      <th>Cens</th>\n",
       "    </tr>\n",
       "  </thead>\n",
       "  <tbody>\n",
       "    <tr>\n",
       "      <th>0</th>\n",
       "      <td>1</td>\n",
       "      <td>3</td>\n",
       "      <td>2</td>\n",
       "      <td>1</td>\n",
       "      <td>2</td>\n",
       "      <td>0</td>\n",
       "      <td>1</td>\n",
       "      <td>54.291739</td>\n",
       "      <td>45.379636</td>\n",
       "      <td>24.712049</td>\n",
       "      <td>21.369229</td>\n",
       "      <td>22.939930</td>\n",
       "      <td>22.931727</td>\n",
       "      <td>2019.866962</td>\n",
       "      <td>0</td>\n",
       "    </tr>\n",
       "    <tr>\n",
       "      <th>6</th>\n",
       "      <td>0</td>\n",
       "      <td>2</td>\n",
       "      <td>2</td>\n",
       "      <td>1</td>\n",
       "      <td>2</td>\n",
       "      <td>0</td>\n",
       "      <td>254</td>\n",
       "      <td>44.643404</td>\n",
       "      <td>50.231973</td>\n",
       "      <td>32.895530</td>\n",
       "      <td>28.455748</td>\n",
       "      <td>21.318325</td>\n",
       "      <td>24.200950</td>\n",
       "      <td>9.663861</td>\n",
       "      <td>1</td>\n",
       "    </tr>\n",
       "    <tr>\n",
       "      <th>7</th>\n",
       "      <td>1</td>\n",
       "      <td>0</td>\n",
       "      <td>0</td>\n",
       "      <td>0</td>\n",
       "      <td>0</td>\n",
       "      <td>0</td>\n",
       "      <td>36</td>\n",
       "      <td>63.126194</td>\n",
       "      <td>22.909788</td>\n",
       "      <td>28.211870</td>\n",
       "      <td>30.271545</td>\n",
       "      <td>14.401054</td>\n",
       "      <td>19.627470</td>\n",
       "      <td>1799.694792</td>\n",
       "      <td>0</td>\n",
       "    </tr>\n",
       "    <tr>\n",
       "      <th>8</th>\n",
       "      <td>1</td>\n",
       "      <td>0</td>\n",
       "      <td>3</td>\n",
       "      <td>0</td>\n",
       "      <td>3</td>\n",
       "      <td>0</td>\n",
       "      <td>1</td>\n",
       "      <td>40.992236</td>\n",
       "      <td>19.811357</td>\n",
       "      <td>43.923899</td>\n",
       "      <td>26.614920</td>\n",
       "      <td>19.532865</td>\n",
       "      <td>21.942148</td>\n",
       "      <td>3819.267829</td>\n",
       "      <td>0</td>\n",
       "    </tr>\n",
       "    <tr>\n",
       "      <th>9</th>\n",
       "      <td>1</td>\n",
       "      <td>0</td>\n",
       "      <td>2</td>\n",
       "      <td>1</td>\n",
       "      <td>0</td>\n",
       "      <td>0</td>\n",
       "      <td>12</td>\n",
       "      <td>48.978898</td>\n",
       "      <td>28.657916</td>\n",
       "      <td>26.461235</td>\n",
       "      <td>30.032154</td>\n",
       "      <td>12.034154</td>\n",
       "      <td>16.706793</td>\n",
       "      <td>1862.624454</td>\n",
       "      <td>0</td>\n",
       "    </tr>\n",
       "    <tr>\n",
       "      <th>...</th>\n",
       "      <td>...</td>\n",
       "      <td>...</td>\n",
       "      <td>...</td>\n",
       "      <td>...</td>\n",
       "      <td>...</td>\n",
       "      <td>...</td>\n",
       "      <td>...</td>\n",
       "      <td>...</td>\n",
       "      <td>...</td>\n",
       "      <td>...</td>\n",
       "      <td>...</td>\n",
       "      <td>...</td>\n",
       "      <td>...</td>\n",
       "      <td>...</td>\n",
       "      <td>...</td>\n",
       "    </tr>\n",
       "    <tr>\n",
       "      <th>3990</th>\n",
       "      <td>0</td>\n",
       "      <td>0</td>\n",
       "      <td>0</td>\n",
       "      <td>0</td>\n",
       "      <td>0</td>\n",
       "      <td>0</td>\n",
       "      <td>245</td>\n",
       "      <td>62.056997</td>\n",
       "      <td>56.798274</td>\n",
       "      <td>27.744308</td>\n",
       "      <td>26.057263</td>\n",
       "      <td>18.888308</td>\n",
       "      <td>21.806112</td>\n",
       "      <td>649.587424</td>\n",
       "      <td>0</td>\n",
       "    </tr>\n",
       "    <tr>\n",
       "      <th>3992</th>\n",
       "      <td>0</td>\n",
       "      <td>3</td>\n",
       "      <td>3</td>\n",
       "      <td>0</td>\n",
       "      <td>3</td>\n",
       "      <td>0</td>\n",
       "      <td>1</td>\n",
       "      <td>74.000000</td>\n",
       "      <td>58.935959</td>\n",
       "      <td>22.128032</td>\n",
       "      <td>25.342977</td>\n",
       "      <td>24.038075</td>\n",
       "      <td>24.779374</td>\n",
       "      <td>4013.160165</td>\n",
       "      <td>0</td>\n",
       "    </tr>\n",
       "    <tr>\n",
       "      <th>3993</th>\n",
       "      <td>1</td>\n",
       "      <td>3</td>\n",
       "      <td>0</td>\n",
       "      <td>0</td>\n",
       "      <td>3</td>\n",
       "      <td>0</td>\n",
       "      <td>120</td>\n",
       "      <td>43.149585</td>\n",
       "      <td>27.017139</td>\n",
       "      <td>28.336020</td>\n",
       "      <td>28.340704</td>\n",
       "      <td>9.835697</td>\n",
       "      <td>9.840107</td>\n",
       "      <td>1111.433603</td>\n",
       "      <td>0</td>\n",
       "    </tr>\n",
       "    <tr>\n",
       "      <th>3998</th>\n",
       "      <td>1</td>\n",
       "      <td>0</td>\n",
       "      <td>0</td>\n",
       "      <td>1</td>\n",
       "      <td>0</td>\n",
       "      <td>0</td>\n",
       "      <td>152</td>\n",
       "      <td>36.732881</td>\n",
       "      <td>18.422351</td>\n",
       "      <td>36.196905</td>\n",
       "      <td>22.702255</td>\n",
       "      <td>16.906836</td>\n",
       "      <td>14.620845</td>\n",
       "      <td>1833.622662</td>\n",
       "      <td>0</td>\n",
       "    </tr>\n",
       "    <tr>\n",
       "      <th>3999</th>\n",
       "      <td>1</td>\n",
       "      <td>0</td>\n",
       "      <td>0</td>\n",
       "      <td>0</td>\n",
       "      <td>0</td>\n",
       "      <td>0</td>\n",
       "      <td>138</td>\n",
       "      <td>25.789776</td>\n",
       "      <td>39.731841</td>\n",
       "      <td>23.126541</td>\n",
       "      <td>18.639493</td>\n",
       "      <td>14.987741</td>\n",
       "      <td>12.505690</td>\n",
       "      <td>4786.396218</td>\n",
       "      <td>0</td>\n",
       "    </tr>\n",
       "  </tbody>\n",
       "</table>\n",
       "<p>2560 rows × 15 columns</p>\n",
       "</div>"
      ],
      "text/plain": [
       "      Gender  Bloodtype  Inpt_attx  Donor_Sex  Donor_Bloodtype  Donor_DCD  \\\n",
       "0          1          3          2          1                2          0   \n",
       "6          0          2          2          1                2          0   \n",
       "7          1          0          0          0                0          0   \n",
       "8          1          0          3          0                3          0   \n",
       "9          1          0          2          1                0          0   \n",
       "...      ...        ...        ...        ...              ...        ...   \n",
       "3990       0          0          0          0                0          0   \n",
       "3992       0          3          3          0                3          0   \n",
       "3993       1          3          0          0                3          0   \n",
       "3998       1          0          0          1                0          0   \n",
       "3999       1          0          0          0                0          0   \n",
       "\n",
       "      Waittime     Age_Tx  Donor_Age  TransplantBMI  Donor_BMI       MELD  \\\n",
       "0            1  54.291739  45.379636      24.712049  21.369229  22.939930   \n",
       "6          254  44.643404  50.231973      32.895530  28.455748  21.318325   \n",
       "7           36  63.126194  22.909788      28.211870  30.271545  14.401054   \n",
       "8            1  40.992236  19.811357      43.923899  26.614920  19.532865   \n",
       "9           12  48.978898  28.657916      26.461235  30.032154  12.034154   \n",
       "...        ...        ...        ...            ...        ...        ...   \n",
       "3990       245  62.056997  56.798274      27.744308  26.057263  18.888308   \n",
       "3992         1  74.000000  58.935959      22.128032  25.342977  24.038075   \n",
       "3993       120  43.149585  27.017139      28.336020  28.340704   9.835697   \n",
       "3998       152  36.732881  18.422351      36.196905  22.702255  16.906836   \n",
       "3999       138  25.789776  39.731841      23.126541  18.639493  14.987741   \n",
       "\n",
       "         MELDNA         Time  Cens  \n",
       "0     22.931727  2019.866962     0  \n",
       "6     24.200950     9.663861     1  \n",
       "7     19.627470  1799.694792     0  \n",
       "8     21.942148  3819.267829     0  \n",
       "9     16.706793  1862.624454     0  \n",
       "...         ...          ...   ...  \n",
       "3990  21.806112   649.587424     0  \n",
       "3992  24.779374  4013.160165     0  \n",
       "3993   9.840107  1111.433603     0  \n",
       "3998  14.620845  1833.622662     0  \n",
       "3999  12.505690  4786.396218     0  \n",
       "\n",
       "[2560 rows x 15 columns]"
      ]
     },
     "execution_count": 66,
     "metadata": {},
     "output_type": "execute_result"
    }
   ],
   "source": [
    "X_train"
   ]
  },
  {
   "cell_type": "code",
   "execution_count": 67,
   "metadata": {},
   "outputs": [],
   "source": [
    "cols_standardize = ['Waittime', 'Age_Tx', 'TransplantBMI', 'MELD', 'MELDNA','Donor_Age','Donor_BMI']\n",
    "cols_leave = ['Bloodtype', 'Inpt_attx', 'Donor_Bloodtype','Gender','Donor_Sex','Donor_DCD']\n",
    "\n",
    "standardize = [([col], StandardScaler()) for col in cols_standardize]\n",
    "leave = [(col, None) for col in cols_leave]\n",
    "\n",
    "x_mapper = DataFrameMapper(standardize + leave)"
   ]
  },
  {
   "cell_type": "code",
   "execution_count": 68,
   "metadata": {},
   "outputs": [],
   "source": [
    "x_train = x_mapper.fit_transform(X_train).astype('float32')\n",
    "x_val = x_mapper.transform(X_val).astype('float32')\n",
    "x_test = x_mapper.transform(X_test).astype('float32')"
   ]
  },
  {
   "cell_type": "code",
   "execution_count": 69,
   "metadata": {},
   "outputs": [
    {
     "data": {
      "text/plain": [
       "array([[-0.7661569 ,  0.239594  , -0.50479805, ...,  1.        ,\n",
       "         1.        ,  0.        ],\n",
       "       [ 0.50198   , -0.65430593,  0.9790288 , ...,  0.        ,\n",
       "         1.        ,  0.        ],\n",
       "       [-0.5907229 ,  1.0580895 ,  0.1297887 , ...,  1.        ,\n",
       "         0.        ,  0.        ],\n",
       "       ...,\n",
       "       [-0.16968144, -0.79270536,  0.15229946, ...,  1.        ,\n",
       "         0.        ,  0.        ],\n",
       "       [-0.00928469, -1.3872008 ,  1.5776333 , ...,  1.        ,\n",
       "         1.        ,  0.        ],\n",
       "       [-0.07945827, -2.401059  , -0.79228204, ...,  1.        ,\n",
       "         0.        ,  0.        ]], dtype=float32)"
      ]
     },
     "execution_count": 69,
     "metadata": {},
     "output_type": "execute_result"
    }
   ],
   "source": [
    "x_train"
   ]
  },
  {
   "cell_type": "code",
   "execution_count": 70,
   "metadata": {},
   "outputs": [],
   "source": [
    "labtrans = CoxTime.label_transform()\n",
    "get_target = lambda df: (df['Time'].values, df['Cens'].values)\n",
    "y_train = labtrans.fit_transform(*get_target(df_train))\n",
    "y_val = labtrans.transform(*get_target(df_val))\n",
    "y_test = labtrans.transform(*get_target(df_test))\n",
    "Time_test, Cens_test = get_target(df_test)\n",
    "val = tt.tuplefy(x_val, y_val)"
   ]
  },
  {
   "cell_type": "code",
   "execution_count": 71,
   "metadata": {},
   "outputs": [
    {
     "data": {
      "text/plain": [
       "((640, 13), ((640,), (640,)))"
      ]
     },
     "execution_count": 71,
     "metadata": {},
     "output_type": "execute_result"
    }
   ],
   "source": [
    "val.shapes()"
   ]
  },
  {
   "cell_type": "code",
   "execution_count": 72,
   "metadata": {},
   "outputs": [
    {
     "data": {
      "text/plain": [
       "array([-0.7661569 ,  0.239594  , -0.50479805,  0.40953052,  0.29023194,\n",
       "        0.00759316, -1.0444641 ,  3.        ,  2.        ,  2.        ,\n",
       "        1.        ,  1.        ,  0.        ], dtype=float32)"
      ]
     },
     "execution_count": 72,
     "metadata": {},
     "output_type": "execute_result"
    }
   ],
   "source": [
    "x_train[0]"
   ]
  },
  {
   "cell_type": "markdown",
   "metadata": {},
   "source": [
    "# Neural net\n",
    "We create a simple MLP with two hidden layers, ReLU activations, batch norm and dropout. The net required by CoxTime is slightly different than most of the other methods as it also take time and an additional input argument. We have therefore crated the MLPVanillaCoxTime class that is a suitable version of tt.practical.MLPVanilla. This class also removes the options for setting out_features and output_bias as they should be 1 and False, respectively."
   ]
  },
  {
   "cell_type": "code",
   "execution_count": 73,
   "metadata": {},
   "outputs": [],
   "source": [
    "in_features = x_train.shape[1]\n",
    "num_nodes = [32, 32]\n",
    "batch_norm = True\n",
    "dropout = 0.1\n",
    "net = MLPVanillaCoxTime(in_features, num_nodes, batch_norm, dropout)"
   ]
  },
  {
   "cell_type": "markdown",
   "metadata": {},
   "source": [
    "# Training the model\n",
    "To train the model we need to define an optimizer. You can choose any torch.optim optimizer, but here we instead use one from tt.optim as it has some added functionality. We use the Adam optimizer, but instead of choosing a learning rate, we will use the scheme proposed by Smith 2017 to find a suitable learning rate with model.lr_finder. See this post for an explanation.\n",
    "\n",
    "We also set labtrans which connects the output nodes of the network the the label transform of the durations. This is only useful for prediction and does not affect the training procedure."
   ]
  },
  {
   "cell_type": "code",
   "execution_count": 74,
   "metadata": {},
   "outputs": [],
   "source": [
    "model = CoxTime(net, tt.optim.Adam, labtrans=labtrans)"
   ]
  },
  {
   "cell_type": "code",
   "execution_count": 75,
   "metadata": {},
   "outputs": [
    {
     "data": {
      "image/png": "[encoded data removed]",
      "text/plain": [
       "<Figure size 432x288 with 1 Axes>"
      ]
     },
     "metadata": {
      "needs_background": "light"
     },
     "output_type": "display_data"
    }
   ],
   "source": [
    "batch_size = 256\n",
    "lrfinder = model.lr_finder(x_train, y_train, batch_size, tolerance=2)\n",
    "_ = lrfinder.plot()"
   ]
  },
  {
   "cell_type": "code",
   "execution_count": 76,
   "metadata": {},
   "outputs": [
    {
     "data": {
      "text/plain": [
       "0.0613590727341321"
      ]
     },
     "execution_count": 76,
     "metadata": {},
     "output_type": "execute_result"
    }
   ],
   "source": [
    "lrfinder.get_best_lr()"
   ]
  },
  {
   "cell_type": "markdown",
   "metadata": {},
   "source": [
    "The learning rate is high in general case, so we decrease it to 0.01"
   ]
  },
  {
   "cell_type": "code",
   "execution_count": 77,
   "metadata": {},
   "outputs": [],
   "source": [
    "model.optimizer.set_lr(0.01)"
   ]
  },
  {
   "cell_type": "code",
   "execution_count": 78,
   "metadata": {},
   "outputs": [],
   "source": [
    "epochs = 512\n",
    "callbacks = [tt.callbacks.EarlyStopping()]\n",
    "verbose = True"
   ]
  },
  {
   "cell_type": "code",
   "execution_count": 79,
   "metadata": {},
   "outputs": [
    {
     "name": "stdout",
     "output_type": "stream",
     "text": [
      "0:\t[0s / 0s],\t\ttrain_loss: 0.7338,\tval_loss: 0.7103\n",
      "1:\t[0s / 0s],\t\ttrain_loss: 0.7597,\tval_loss: 0.7032\n",
      "2:\t[0s / 0s],\t\ttrain_loss: 0.7380,\tval_loss: 0.7026\n",
      "3:\t[0s / 0s],\t\ttrain_loss: 0.6831,\tval_loss: 0.7027\n",
      "4:\t[0s / 0s],\t\ttrain_loss: 0.7107,\tval_loss: 0.7237\n",
      "5:\t[0s / 0s],\t\ttrain_loss: 0.6821,\tval_loss: 0.7075\n",
      "6:\t[0s / 0s],\t\ttrain_loss: 0.6989,\tval_loss: 0.6950\n",
      "7:\t[0s / 0s],\t\ttrain_loss: 0.6745,\tval_loss: 0.6929\n",
      "8:\t[0s / 0s],\t\ttrain_loss: 0.6987,\tval_loss: 0.6863\n",
      "9:\t[0s / 0s],\t\ttrain_loss: 0.6717,\tval_loss: 0.6916\n",
      "10:\t[0s / 0s],\t\ttrain_loss: 0.6806,\tval_loss: 0.6931\n",
      "11:\t[0s / 0s],\t\ttrain_loss: 0.7230,\tval_loss: 0.6932\n",
      "12:\t[0s / 0s],\t\ttrain_loss: 0.6806,\tval_loss: 0.6968\n",
      "13:\t[0s / 0s],\t\ttrain_loss: 0.6846,\tval_loss: 0.6906\n",
      "14:\t[0s / 0s],\t\ttrain_loss: 0.6907,\tval_loss: 0.6850\n",
      "15:\t[0s / 0s],\t\ttrain_loss: 0.6624,\tval_loss: 0.6841\n",
      "16:\t[0s / 0s],\t\ttrain_loss: 0.6631,\tval_loss: 0.6951\n",
      "17:\t[0s / 0s],\t\ttrain_loss: 0.6446,\tval_loss: 0.6956\n",
      "18:\t[0s / 0s],\t\ttrain_loss: 0.7496,\tval_loss: 0.7104\n",
      "19:\t[0s / 0s],\t\ttrain_loss: 0.6943,\tval_loss: 0.6958\n",
      "20:\t[0s / 0s],\t\ttrain_loss: 0.6772,\tval_loss: 0.6945\n",
      "21:\t[0s / 0s],\t\ttrain_loss: 0.6542,\tval_loss: 0.6994\n",
      "22:\t[0s / 0s],\t\ttrain_loss: 0.6974,\tval_loss: 0.7072\n",
      "23:\t[0s / 0s],\t\ttrain_loss: 0.6551,\tval_loss: 0.6880\n",
      "24:\t[0s / 0s],\t\ttrain_loss: 0.6703,\tval_loss: 0.6969\n",
      "25:\t[0s / 0s],\t\ttrain_loss: 0.6770,\tval_loss: 0.6933\n",
      "Wall time: 810 ms\n"
     ]
    }
   ],
   "source": [
    "%%time\n",
    "log = model.fit(x_train, y_train, batch_size, epochs, callbacks, verbose,\n",
    "                val_data=val.repeat(10).cat())"
   ]
  },
  {
   "cell_type": "code",
   "execution_count": 80,
   "metadata": {},
   "outputs": [
    {
     "data": {
      "image/png": "[encoded data removed]",
      "text/plain": [
       "<Figure size 432x288 with 1 Axes>"
      ]
     },
     "metadata": {
      "needs_background": "light"
     },
     "output_type": "display_data"
    }
   ],
   "source": [
    "_ = log.plot()"
   ]
  },
  {
   "cell_type": "code",
   "execution_count": 81,
   "metadata": {},
   "outputs": [
    {
     "data": {
      "text/plain": [
       "-5.317572593688965"
      ]
     },
     "execution_count": 81,
     "metadata": {},
     "output_type": "execute_result"
    }
   ],
   "source": [
    "model.partial_log_likelihood(*val).mean()"
   ]
  },
  {
   "cell_type": "markdown",
   "metadata": {},
   "source": [
    "# Prediction\n",
    "For evaluation we first need to obtain survival estimates for the test set. This can be done with model.predict_surv which returns an array of survival estimates, or with model.predict_surv_df which returns the survival estimates as a dataframe.\n",
    "\n",
    "However, as Cox-Time is semi-parametric, we first need to get the non-parametric baseline hazard estimates with compute_baseline_hazards.\n",
    "\n",
    "Note that for large datasets the sample argument can be used to estimate the baseline hazard on a subset."
   ]
  },
  {
   "cell_type": "code",
   "execution_count": 82,
   "metadata": {},
   "outputs": [],
   "source": [
    "_ = model.compute_baseline_hazards()\n",
    "surv = model.predict_surv_df(x_test)"
   ]
  },
  {
   "cell_type": "code",
   "execution_count": 83,
   "metadata": {
    "scrolled": true
   },
   "outputs": [
    {
     "data": {
      "image/png": "[encoded data removed]",
      "text/plain": [
       "<Figure size 432x288 with 1 Axes>"
      ]
     },
     "metadata": {
      "needs_background": "light"
     },
     "output_type": "display_data"
    }
   ],
   "source": [
    "surv.iloc[:, :5].plot()\n",
    "plt.ylabel('S(t | x)')\n",
    "_ = plt.xlabel('Time')"
   ]
  },
  {
   "cell_type": "markdown",
   "metadata": {},
   "source": [
    "# Evaluation\n",
    "We can use the EvalSurv class for evaluation the concordance, brier score and binomial log-likelihood. Setting censor_surv='km' means that we estimate the censoring distribution by Kaplan-Meier on the test set."
   ]
  },
  {
   "cell_type": "code",
   "execution_count": 84,
   "metadata": {},
   "outputs": [],
   "source": [
    "ev = EvalSurv(surv, Time_test, Cens_test, censor_surv='km')"
   ]
  },
  {
   "cell_type": "markdown",
   "metadata": {},
   "source": [
    "Measure of goodness of fit for binary outcomes in a logistic regression model.  \n",
    "A value below 0.5 indicates a very poor model.  \n",
    "A value of 0.5 means that the model is no better than predicting an outcome than random chance.  \n",
    "Values over 0.7 indicate a good model."
   ]
  },
  {
   "cell_type": "code",
   "execution_count": 86,
   "metadata": {},
   "outputs": [
    {
     "data": {
      "text/plain": [
       "0.5104338417147568"
      ]
     },
     "execution_count": 86,
     "metadata": {},
     "output_type": "execute_result"
    }
   ],
   "source": [
    "ev.concordance_td()"
   ]
  },
  {
   "cell_type": "code",
   "execution_count": 87,
   "metadata": {},
   "outputs": [
    {
     "data": {
      "image/png": "[encoded data removed]",
      "text/plain": [
       "<Figure size 432x288 with 1 Axes>"
      ]
     },
     "metadata": {
      "needs_background": "light"
     },
     "output_type": "display_data"
    }
   ],
   "source": [
    "time_grid = np.linspace(Time_test.min(), Time_test.max(), 100)\n",
    "_ = ev.brier_score(time_grid).plot()"
   ]
  },
  {
   "cell_type": "markdown",
   "metadata": {},
   "source": [
    " The Brier score is used to evaluate the accuracy of a predicted survival function at a given time t"
   ]
  },
  {
   "cell_type": "code",
   "execution_count": 88,
   "metadata": {},
   "outputs": [
    {
     "data": {
      "text/plain": [
       "0.2287906571818389"
      ]
     },
     "execution_count": 88,
     "metadata": {},
     "output_type": "execute_result"
    }
   ],
   "source": [
    "ev.integrated_brier_score(time_grid) #brier_score"
   ]
  },
  {
   "cell_type": "code",
   "execution_count": 89,
   "metadata": {},
   "outputs": [
    {
     "data": {
      "text/plain": [
       "0.6483666442134931"
      ]
     },
     "execution_count": 89,
     "metadata": {},
     "output_type": "execute_result"
    }
   ],
   "source": [
    "ev.integrated_nbll(time_grid) #binomial log-likelihood"
   ]
  },
  {
   "cell_type": "code",
   "execution_count": 90,
   "metadata": {},
   "outputs": [
    {
     "data": {
      "text/html": [
       "<div>\n",
       "<style scoped>\n",
       "    .dataframe tbody tr th:only-of-type {\n",
       "        vertical-align: middle;\n",
       "    }\n",
       "\n",
       "    .dataframe tbody tr th {\n",
       "        vertical-align: top;\n",
       "    }\n",
       "\n",
       "    .dataframe thead th {\n",
       "        text-align: right;\n",
       "    }\n",
       "</style>\n",
       "<table border=\"1\" class=\"dataframe\">\n",
       "  <thead>\n",
       "    <tr style=\"text-align: right;\">\n",
       "      <th></th>\n",
       "      <th>0</th>\n",
       "      <th>1</th>\n",
       "      <th>2</th>\n",
       "      <th>3</th>\n",
       "      <th>4</th>\n",
       "    </tr>\n",
       "  </thead>\n",
       "  <tbody>\n",
       "    <tr>\n",
       "      <th>0.491054</th>\n",
       "      <td>1.000000</td>\n",
       "      <td>1.000000</td>\n",
       "      <td>1.000000</td>\n",
       "      <td>1.000000</td>\n",
       "      <td>1.000000</td>\n",
       "    </tr>\n",
       "    <tr>\n",
       "      <th>0.494233</th>\n",
       "      <td>1.000000</td>\n",
       "      <td>1.000000</td>\n",
       "      <td>1.000000</td>\n",
       "      <td>1.000000</td>\n",
       "      <td>1.000000</td>\n",
       "    </tr>\n",
       "    <tr>\n",
       "      <th>0.781283</th>\n",
       "      <td>1.000000</td>\n",
       "      <td>1.000000</td>\n",
       "      <td>1.000000</td>\n",
       "      <td>1.000000</td>\n",
       "      <td>1.000000</td>\n",
       "    </tr>\n",
       "    <tr>\n",
       "      <th>0.868685</th>\n",
       "      <td>1.000000</td>\n",
       "      <td>1.000000</td>\n",
       "      <td>1.000000</td>\n",
       "      <td>1.000000</td>\n",
       "      <td>1.000000</td>\n",
       "    </tr>\n",
       "    <tr>\n",
       "      <th>0.933551</th>\n",
       "      <td>1.000000</td>\n",
       "      <td>1.000000</td>\n",
       "      <td>1.000000</td>\n",
       "      <td>1.000000</td>\n",
       "      <td>1.000000</td>\n",
       "    </tr>\n",
       "    <tr>\n",
       "      <th>...</th>\n",
       "      <td>...</td>\n",
       "      <td>...</td>\n",
       "      <td>...</td>\n",
       "      <td>...</td>\n",
       "      <td>...</td>\n",
       "    </tr>\n",
       "    <tr>\n",
       "      <th>16001.578398</th>\n",
       "      <td>0.228607</td>\n",
       "      <td>0.397689</td>\n",
       "      <td>0.436634</td>\n",
       "      <td>0.438438</td>\n",
       "      <td>0.439491</td>\n",
       "    </tr>\n",
       "    <tr>\n",
       "      <th>16130.963762</th>\n",
       "      <td>0.228607</td>\n",
       "      <td>0.397689</td>\n",
       "      <td>0.436634</td>\n",
       "      <td>0.438438</td>\n",
       "      <td>0.439491</td>\n",
       "    </tr>\n",
       "    <tr>\n",
       "      <th>17482.899965</th>\n",
       "      <td>0.228607</td>\n",
       "      <td>0.397689</td>\n",
       "      <td>0.436634</td>\n",
       "      <td>0.438438</td>\n",
       "      <td>0.439491</td>\n",
       "    </tr>\n",
       "    <tr>\n",
       "      <th>17549.381976</th>\n",
       "      <td>0.228607</td>\n",
       "      <td>0.397689</td>\n",
       "      <td>0.436634</td>\n",
       "      <td>0.438438</td>\n",
       "      <td>0.439491</td>\n",
       "    </tr>\n",
       "    <tr>\n",
       "      <th>19420.238850</th>\n",
       "      <td>0.228607</td>\n",
       "      <td>0.397689</td>\n",
       "      <td>0.436634</td>\n",
       "      <td>0.438438</td>\n",
       "      <td>0.439491</td>\n",
       "    </tr>\n",
       "  </tbody>\n",
       "</table>\n",
       "<p>2560 rows × 5 columns</p>\n",
       "</div>"
      ],
      "text/plain": [
       "                     0         1         2         3         4\n",
       "0.491054      1.000000  1.000000  1.000000  1.000000  1.000000\n",
       "0.494233      1.000000  1.000000  1.000000  1.000000  1.000000\n",
       "0.781283      1.000000  1.000000  1.000000  1.000000  1.000000\n",
       "0.868685      1.000000  1.000000  1.000000  1.000000  1.000000\n",
       "0.933551      1.000000  1.000000  1.000000  1.000000  1.000000\n",
       "...                ...       ...       ...       ...       ...\n",
       "16001.578398  0.228607  0.397689  0.436634  0.438438  0.439491\n",
       "16130.963762  0.228607  0.397689  0.436634  0.438438  0.439491\n",
       "17482.899965  0.228607  0.397689  0.436634  0.438438  0.439491\n",
       "17549.381976  0.228607  0.397689  0.436634  0.438438  0.439491\n",
       "19420.238850  0.228607  0.397689  0.436634  0.438438  0.439491\n",
       "\n",
       "[2560 rows x 5 columns]"
      ]
     },
     "execution_count": 90,
     "metadata": {},
     "output_type": "execute_result"
    }
   ],
   "source": [
    "surv.iloc[:, :5]"
   ]
  },
  {
   "cell_type": "markdown",
   "metadata": {},
   "source": [
    "# Survival model"
   ]
  },
  {
   "cell_type": "code",
   "execution_count": 91,
   "metadata": {},
   "outputs": [],
   "source": [
    "def trans_y(y):\n",
    "    mytype=np.dtype([('Status', '?'), ('Survival_in_days', '<f8')])\n",
    "    data_y = np.zeros(len(y[0]),dtype=mytype)\n",
    "    for i in range(len(y[0])):\n",
    "        data_y[i][0] = y[1][i]\n",
    "        data_y[i][1] = y[0][i]\n",
    "    return data_y"
   ]
  },
  {
   "cell_type": "code",
   "execution_count": 92,
   "metadata": {},
   "outputs": [],
   "source": [
    "new_y_test = trans_y(y_test)\n",
    "new_y_train = trans_y(y_train)"
   ]
  },
  {
   "cell_type": "code",
   "execution_count": 93,
   "metadata": {},
   "outputs": [
    {
     "data": {
      "text/plain": [
       "CoxPHSurvivalAnalysis()"
      ]
     },
     "execution_count": 93,
     "metadata": {},
     "output_type": "execute_result"
    }
   ],
   "source": [
    "import numpy as np\n",
    "from sksurv.metrics import concordance_index_censored\n",
    "from sksurv.nonparametric import kaplan_meier_estimator\n",
    "from sklearn import set_config\n",
    "from sksurv.linear_model import CoxPHSurvivalAnalysis\n",
    "set_config(display=\"text\")  # displays text representation of estimators\n",
    "\n",
    "estimator = CoxPHSurvivalAnalysis()\n",
    "estimator.fit(x_train, new_y_train)"
   ]
  },
  {
   "cell_type": "code",
   "execution_count": 95,
   "metadata": {},
   "outputs": [
    {
     "data": {
      "text/plain": [
       "CoxnetSurvivalAnalysis(fit_baseline_model=True, l1_ratio=0.99)"
      ]
     },
     "execution_count": 95,
     "metadata": {},
     "output_type": "execute_result"
    }
   ],
   "source": [
    "from sksurv.linear_model import CoxPHSurvivalAnalysis, CoxnetSurvivalAnalysis\n",
    "from sksurv.ensemble import RandomSurvivalForest\n",
    "from sksurv.ensemble import GradientBoostingSurvivalAnalysis\n",
    "rsf_gbsg = RandomSurvivalForest(max_depth=2, random_state=1)\n",
    "rsf_gbsg.fit(x_train, new_y_train)\n",
    "\n",
    "est_cph_tree = GradientBoostingSurvivalAnalysis(\n",
    "    n_estimators=100, learning_rate=1.0, max_depth=1, random_state=0\n",
    ")\n",
    "est_cph_tree.fit(x_train, new_y_train)\n",
    "\n",
    "cph_gbsg = CoxnetSurvivalAnalysis(l1_ratio=0.99, fit_baseline_model=True)\n",
    "cph_gbsg.fit(x_train, new_y_train)"
   ]
  },
  {
   "cell_type": "code",
   "execution_count": 96,
   "metadata": {},
   "outputs": [
    {
     "data": {
      "text/plain": [
       "CPH       0.52143\n",
       "RSF       0.51742\n",
       "CPHP      0.52167\n",
       "GBS       0.52502\n",
       "Random    0.50000\n",
       "Name: c-index, dtype: float64"
      ]
     },
     "execution_count": 96,
     "metadata": {},
     "output_type": "execute_result"
    }
   ],
   "source": [
    "score_cindex = pd.Series(\n",
    "    [\n",
    "        estimator.score(x_test, new_y_test),\n",
    "        rsf_gbsg.score(x_test, new_y_test),\n",
    "        cph_gbsg.score(x_test, new_y_test),\n",
    "        est_cph_tree.score(x_test, new_y_test),\n",
    "        0.5,\n",
    "    ],\n",
    "    index=['CPH',\"RSF\", \"CPHP\",'GBS',\"Random\"], name=\"c-index\",\n",
    ")\n",
    "\n",
    "score_cindex.round(5)"
   ]
  },
  {
   "cell_type": "code",
   "execution_count": null,
   "metadata": {},
   "outputs": [],
   "source": []
  }
 ],
 "metadata": {
  "kernelspec": {
   "display_name": "Python 3",
   "language": "python",
   "name": "python3"
  },
  "language_info": {
   "codemirror_mode": {
    "name": "ipython",
    "version": 3
   },
   "file_extension": ".py",
   "mimetype": "text/x-python",
   "name": "python",
   "nbconvert_exporter": "python",
   "pygments_lexer": "ipython3",
   "version": "3.8.5"
  },
  "vscode": {
   "interpreter": {
    "hash": "aee8b7b246df8f9039afb4144a1f6fd8d2ca17a180786b69acc140d282b71a49"
   }
  }
 },
 "nbformat": 4,
 "nbformat_minor": 2
}
