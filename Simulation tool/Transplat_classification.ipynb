{
 "cells": [
  {
   "cell_type": "code",
   "execution_count": 1,
   "id": "e5237d00",
   "metadata": {},
   "outputs": [],
   "source": [
    "import pandas as pd\n",
    "import seaborn as sns\n",
    "import numpy as np\n",
    "import matplotlib.pyplot as plt\n",
    "import matplotlib as mpl\n",
    "import matplotlib.colors\n",
    "from sklearn.cluster import DBSCAN\n",
    "from sklearn.preprocessing import StandardScaler"
   ]
  },
  {
   "cell_type": "code",
   "execution_count": 2,
   "id": "792e5c34",
   "metadata": {},
   "outputs": [],
   "source": [
    "from sklearn.preprocessing import LabelEncoder , OneHotEncoder"
   ]
  },
  {
   "cell_type": "code",
   "execution_count": 3,
   "id": "a5aa5fa7",
   "metadata": {},
   "outputs": [
    {
     "data": {
      "text/html": [
       "<div>\n",
       "<style scoped>\n",
       "    .dataframe tbody tr th:only-of-type {\n",
       "        vertical-align: middle;\n",
       "    }\n",
       "\n",
       "    .dataframe tbody tr th {\n",
       "        vertical-align: top;\n",
       "    }\n",
       "\n",
       "    .dataframe thead th {\n",
       "        text-align: right;\n",
       "    }\n",
       "</style>\n",
       "<table border=\"1\" class=\"dataframe\">\n",
       "  <thead>\n",
       "    <tr style=\"text-align: right;\">\n",
       "      <th></th>\n",
       "      <th>Gender</th>\n",
       "      <th>Bloodtype</th>\n",
       "      <th>Inpt_attx</th>\n",
       "      <th>Donor_Sex</th>\n",
       "      <th>Donor_Bloodtype</th>\n",
       "      <th>Donor_DCD</th>\n",
       "      <th>Waittime</th>\n",
       "      <th>Age_Tx</th>\n",
       "      <th>Donor_Age</th>\n",
       "      <th>TransplantBMI</th>\n",
       "      <th>Donor_BMI</th>\n",
       "      <th>MELD</th>\n",
       "      <th>MELDNA</th>\n",
       "      <th>Time</th>\n",
       "      <th>Cens</th>\n",
       "    </tr>\n",
       "  </thead>\n",
       "  <tbody>\n",
       "    <tr>\n",
       "      <th>0</th>\n",
       "      <td>Male</td>\n",
       "      <td>O</td>\n",
       "      <td>inpt</td>\n",
       "      <td>Male</td>\n",
       "      <td>B</td>\n",
       "      <td>No</td>\n",
       "      <td>1</td>\n",
       "      <td>54.291739</td>\n",
       "      <td>45.379636</td>\n",
       "      <td>24.712049</td>\n",
       "      <td>21.369229</td>\n",
       "      <td>22.939930</td>\n",
       "      <td>22.931727</td>\n",
       "      <td>2019.866962</td>\n",
       "      <td>0</td>\n",
       "    </tr>\n",
       "    <tr>\n",
       "      <th>1</th>\n",
       "      <td>Male</td>\n",
       "      <td>A</td>\n",
       "      <td>home</td>\n",
       "      <td>Male</td>\n",
       "      <td>O</td>\n",
       "      <td>No</td>\n",
       "      <td>157</td>\n",
       "      <td>59.817111</td>\n",
       "      <td>60.516200</td>\n",
       "      <td>28.887631</td>\n",
       "      <td>25.408853</td>\n",
       "      <td>18.985337</td>\n",
       "      <td>21.381548</td>\n",
       "      <td>1815.128065</td>\n",
       "      <td>1</td>\n",
       "    </tr>\n",
       "    <tr>\n",
       "      <th>2</th>\n",
       "      <td>Female</td>\n",
       "      <td>A</td>\n",
       "      <td>home</td>\n",
       "      <td>Male</td>\n",
       "      <td>A</td>\n",
       "      <td>No</td>\n",
       "      <td>49</td>\n",
       "      <td>63.198440</td>\n",
       "      <td>30.989861</td>\n",
       "      <td>26.869533</td>\n",
       "      <td>24.902931</td>\n",
       "      <td>23.694392</td>\n",
       "      <td>26.243047</td>\n",
       "      <td>396.556200</td>\n",
       "      <td>0</td>\n",
       "    </tr>\n",
       "    <tr>\n",
       "      <th>3</th>\n",
       "      <td>Male</td>\n",
       "      <td>O</td>\n",
       "      <td>inpt</td>\n",
       "      <td>Female</td>\n",
       "      <td>B</td>\n",
       "      <td>No</td>\n",
       "      <td>81</td>\n",
       "      <td>28.845900</td>\n",
       "      <td>41.142174</td>\n",
       "      <td>27.411596</td>\n",
       "      <td>35.396950</td>\n",
       "      <td>11.375444</td>\n",
       "      <td>8.545730</td>\n",
       "      <td>1326.259556</td>\n",
       "      <td>0</td>\n",
       "    </tr>\n",
       "    <tr>\n",
       "      <th>4</th>\n",
       "      <td>Male</td>\n",
       "      <td>O</td>\n",
       "      <td>home</td>\n",
       "      <td>Female</td>\n",
       "      <td>O</td>\n",
       "      <td>No</td>\n",
       "      <td>620</td>\n",
       "      <td>55.523918</td>\n",
       "      <td>49.138937</td>\n",
       "      <td>24.530967</td>\n",
       "      <td>29.372668</td>\n",
       "      <td>26.835544</td>\n",
       "      <td>29.211865</td>\n",
       "      <td>605.043515</td>\n",
       "      <td>0</td>\n",
       "    </tr>\n",
       "  </tbody>\n",
       "</table>\n",
       "</div>"
      ],
      "text/plain": [
       "   Gender Bloodtype Inpt_attx Donor_Sex Donor_Bloodtype Donor_DCD  Waittime  \\\n",
       "0    Male         O      inpt      Male               B        No         1   \n",
       "1    Male         A      home      Male               O        No       157   \n",
       "2  Female         A      home      Male               A        No        49   \n",
       "3    Male         O      inpt    Female               B        No        81   \n",
       "4    Male         O      home    Female               O        No       620   \n",
       "\n",
       "      Age_Tx  Donor_Age  TransplantBMI  Donor_BMI       MELD     MELDNA  \\\n",
       "0  54.291739  45.379636      24.712049  21.369229  22.939930  22.931727   \n",
       "1  59.817111  60.516200      28.887631  25.408853  18.985337  21.381548   \n",
       "2  63.198440  30.989861      26.869533  24.902931  23.694392  26.243047   \n",
       "3  28.845900  41.142174      27.411596  35.396950  11.375444   8.545730   \n",
       "4  55.523918  49.138937      24.530967  29.372668  26.835544  29.211865   \n",
       "\n",
       "          Time  Cens  \n",
       "0  2019.866962     0  \n",
       "1  1815.128065     1  \n",
       "2   396.556200     0  \n",
       "3  1326.259556     0  \n",
       "4   605.043515     0  "
      ]
     },
     "execution_count": 3,
     "metadata": {},
     "output_type": "execute_result"
    }
   ],
   "source": [
    "#wait = pd.read_excel(\"/Users/kexinli/Desktop/Pt1/SimData_WList_Ver2.0.xls\")\n",
    "transplant = pd.read_excel(\"SimData_Transplant_Ver2.0.xls\")\n",
    "transplant.head()"
   ]
  },
  {
   "cell_type": "code",
   "execution_count": 4,
   "id": "3426d948",
   "metadata": {},
   "outputs": [],
   "source": [
    "# feature encoding\n",
    "t_encoder = LabelEncoder()\n",
    "t_encoder.fit(transplant['Gender'])\n",
    "transplant['Gender'] = t_encoder.transform(transplant['Gender'])\n",
    "t_encoder.fit(transplant['Bloodtype'])\n",
    "transplant['Bloodtype'] = t_encoder.transform(transplant['Bloodtype'])\n",
    "t_encoder.fit(transplant['Inpt_attx'])\n",
    "transplant['Inpt_attx'] = t_encoder.transform(transplant['Inpt_attx'])"
   ]
  },
  {
   "cell_type": "code",
   "execution_count": 5,
   "id": "28d99839",
   "metadata": {},
   "outputs": [],
   "source": [
    "from sklearn.preprocessing import Normalizer\n",
    "transplant.loc[transplant['Time'] < 1825, 'If'] = 0\n",
    "transplant.loc[transplant['Time'] > 1825, 'If'] = 1\n",
    "od_array = np.array(transplant['If'])\n",
    "od_array = od_array.reshape(-1,1)\n",
    "labels = transplant['If']"
   ]
  },
  {
   "cell_type": "code",
   "execution_count": 6,
   "id": "3b1b17c5",
   "metadata": {},
   "outputs": [
    {
     "data": {
      "text/html": [
       "<div>\n",
       "<style scoped>\n",
       "    .dataframe tbody tr th:only-of-type {\n",
       "        vertical-align: middle;\n",
       "    }\n",
       "\n",
       "    .dataframe tbody tr th {\n",
       "        vertical-align: top;\n",
       "    }\n",
       "\n",
       "    .dataframe thead th {\n",
       "        text-align: right;\n",
       "    }\n",
       "</style>\n",
       "<table border=\"1\" class=\"dataframe\">\n",
       "  <thead>\n",
       "    <tr style=\"text-align: right;\">\n",
       "      <th></th>\n",
       "      <th>Gender</th>\n",
       "      <th>Bloodtype</th>\n",
       "      <th>Inpt_attx</th>\n",
       "      <th>Donor_Sex</th>\n",
       "      <th>Donor_Bloodtype</th>\n",
       "      <th>Donor_DCD</th>\n",
       "      <th>Waittime</th>\n",
       "      <th>Age_Tx</th>\n",
       "      <th>Donor_Age</th>\n",
       "      <th>TransplantBMI</th>\n",
       "      <th>Donor_BMI</th>\n",
       "      <th>MELD</th>\n",
       "      <th>MELDNA</th>\n",
       "      <th>Time</th>\n",
       "      <th>Cens</th>\n",
       "      <th>If</th>\n",
       "    </tr>\n",
       "  </thead>\n",
       "  <tbody>\n",
       "    <tr>\n",
       "      <th>0</th>\n",
       "      <td>1</td>\n",
       "      <td>3</td>\n",
       "      <td>2</td>\n",
       "      <td>Male</td>\n",
       "      <td>B</td>\n",
       "      <td>No</td>\n",
       "      <td>1</td>\n",
       "      <td>54.291739</td>\n",
       "      <td>45.379636</td>\n",
       "      <td>24.712049</td>\n",
       "      <td>21.369229</td>\n",
       "      <td>22.939930</td>\n",
       "      <td>22.931727</td>\n",
       "      <td>2019.866962</td>\n",
       "      <td>0</td>\n",
       "      <td>1.0</td>\n",
       "    </tr>\n",
       "    <tr>\n",
       "      <th>1</th>\n",
       "      <td>1</td>\n",
       "      <td>0</td>\n",
       "      <td>0</td>\n",
       "      <td>Male</td>\n",
       "      <td>O</td>\n",
       "      <td>No</td>\n",
       "      <td>157</td>\n",
       "      <td>59.817111</td>\n",
       "      <td>60.516200</td>\n",
       "      <td>28.887631</td>\n",
       "      <td>25.408853</td>\n",
       "      <td>18.985337</td>\n",
       "      <td>21.381548</td>\n",
       "      <td>1815.128065</td>\n",
       "      <td>1</td>\n",
       "      <td>0.0</td>\n",
       "    </tr>\n",
       "    <tr>\n",
       "      <th>2</th>\n",
       "      <td>0</td>\n",
       "      <td>0</td>\n",
       "      <td>0</td>\n",
       "      <td>Male</td>\n",
       "      <td>A</td>\n",
       "      <td>No</td>\n",
       "      <td>49</td>\n",
       "      <td>63.198440</td>\n",
       "      <td>30.989861</td>\n",
       "      <td>26.869533</td>\n",
       "      <td>24.902931</td>\n",
       "      <td>23.694392</td>\n",
       "      <td>26.243047</td>\n",
       "      <td>396.556200</td>\n",
       "      <td>0</td>\n",
       "      <td>0.0</td>\n",
       "    </tr>\n",
       "    <tr>\n",
       "      <th>3</th>\n",
       "      <td>1</td>\n",
       "      <td>3</td>\n",
       "      <td>2</td>\n",
       "      <td>Female</td>\n",
       "      <td>B</td>\n",
       "      <td>No</td>\n",
       "      <td>81</td>\n",
       "      <td>28.845900</td>\n",
       "      <td>41.142174</td>\n",
       "      <td>27.411596</td>\n",
       "      <td>35.396950</td>\n",
       "      <td>11.375444</td>\n",
       "      <td>8.545730</td>\n",
       "      <td>1326.259556</td>\n",
       "      <td>0</td>\n",
       "      <td>0.0</td>\n",
       "    </tr>\n",
       "    <tr>\n",
       "      <th>4</th>\n",
       "      <td>1</td>\n",
       "      <td>3</td>\n",
       "      <td>0</td>\n",
       "      <td>Female</td>\n",
       "      <td>O</td>\n",
       "      <td>No</td>\n",
       "      <td>620</td>\n",
       "      <td>55.523918</td>\n",
       "      <td>49.138937</td>\n",
       "      <td>24.530967</td>\n",
       "      <td>29.372668</td>\n",
       "      <td>26.835544</td>\n",
       "      <td>29.211865</td>\n",
       "      <td>605.043515</td>\n",
       "      <td>0</td>\n",
       "      <td>0.0</td>\n",
       "    </tr>\n",
       "  </tbody>\n",
       "</table>\n",
       "</div>"
      ],
      "text/plain": [
       "   Gender  Bloodtype  Inpt_attx Donor_Sex Donor_Bloodtype Donor_DCD  Waittime  \\\n",
       "0       1          3          2      Male               B        No         1   \n",
       "1       1          0          0      Male               O        No       157   \n",
       "2       0          0          0      Male               A        No        49   \n",
       "3       1          3          2    Female               B        No        81   \n",
       "4       1          3          0    Female               O        No       620   \n",
       "\n",
       "      Age_Tx  Donor_Age  TransplantBMI  Donor_BMI       MELD     MELDNA  \\\n",
       "0  54.291739  45.379636      24.712049  21.369229  22.939930  22.931727   \n",
       "1  59.817111  60.516200      28.887631  25.408853  18.985337  21.381548   \n",
       "2  63.198440  30.989861      26.869533  24.902931  23.694392  26.243047   \n",
       "3  28.845900  41.142174      27.411596  35.396950  11.375444   8.545730   \n",
       "4  55.523918  49.138937      24.530967  29.372668  26.835544  29.211865   \n",
       "\n",
       "          Time  Cens   If  \n",
       "0  2019.866962     0  1.0  \n",
       "1  1815.128065     1  0.0  \n",
       "2   396.556200     0  0.0  \n",
       "3  1326.259556     0  0.0  \n",
       "4   605.043515     0  0.0  "
      ]
     },
     "execution_count": 6,
     "metadata": {},
     "output_type": "execute_result"
    }
   ],
   "source": [
    "transplant.head()"
   ]
  },
  {
   "cell_type": "code",
   "execution_count": 7,
   "id": "64b26f41",
   "metadata": {},
   "outputs": [
    {
     "data": {
      "text/html": [
       "<div>\n",
       "<style scoped>\n",
       "    .dataframe tbody tr th:only-of-type {\n",
       "        vertical-align: middle;\n",
       "    }\n",
       "\n",
       "    .dataframe tbody tr th {\n",
       "        vertical-align: top;\n",
       "    }\n",
       "\n",
       "    .dataframe thead th {\n",
       "        text-align: right;\n",
       "    }\n",
       "</style>\n",
       "<table border=\"1\" class=\"dataframe\">\n",
       "  <thead>\n",
       "    <tr style=\"text-align: right;\">\n",
       "      <th></th>\n",
       "      <th>Gender</th>\n",
       "      <th>Bloodtype</th>\n",
       "      <th>Inpt_attx</th>\n",
       "      <th>Waittime</th>\n",
       "      <th>Age_Tx</th>\n",
       "      <th>Donor_Age</th>\n",
       "      <th>TransplantBMI</th>\n",
       "      <th>Donor_BMI</th>\n",
       "      <th>MELD</th>\n",
       "      <th>MELDNA</th>\n",
       "      <th>If</th>\n",
       "    </tr>\n",
       "  </thead>\n",
       "  <tbody>\n",
       "    <tr>\n",
       "      <th>Gender</th>\n",
       "      <td>1.000000</td>\n",
       "      <td>-0.005836</td>\n",
       "      <td>-0.075560</td>\n",
       "      <td>0.030238</td>\n",
       "      <td>0.068145</td>\n",
       "      <td>0.002423</td>\n",
       "      <td>-0.019234</td>\n",
       "      <td>-0.036594</td>\n",
       "      <td>-0.108870</td>\n",
       "      <td>-0.106469</td>\n",
       "      <td>-0.002485</td>\n",
       "    </tr>\n",
       "    <tr>\n",
       "      <th>Bloodtype</th>\n",
       "      <td>-0.005836</td>\n",
       "      <td>1.000000</td>\n",
       "      <td>0.018272</td>\n",
       "      <td>0.116696</td>\n",
       "      <td>0.007410</td>\n",
       "      <td>0.026539</td>\n",
       "      <td>-0.041265</td>\n",
       "      <td>-0.002210</td>\n",
       "      <td>0.021212</td>\n",
       "      <td>0.020656</td>\n",
       "      <td>-0.015199</td>\n",
       "    </tr>\n",
       "    <tr>\n",
       "      <th>Inpt_attx</th>\n",
       "      <td>-0.075560</td>\n",
       "      <td>0.018272</td>\n",
       "      <td>1.000000</td>\n",
       "      <td>-0.144566</td>\n",
       "      <td>-0.092166</td>\n",
       "      <td>0.002499</td>\n",
       "      <td>0.011932</td>\n",
       "      <td>-0.007031</td>\n",
       "      <td>0.423107</td>\n",
       "      <td>0.392317</td>\n",
       "      <td>-0.009775</td>\n",
       "    </tr>\n",
       "    <tr>\n",
       "      <th>Waittime</th>\n",
       "      <td>0.030238</td>\n",
       "      <td>0.116696</td>\n",
       "      <td>-0.144566</td>\n",
       "      <td>1.000000</td>\n",
       "      <td>0.077479</td>\n",
       "      <td>-0.003902</td>\n",
       "      <td>-0.005601</td>\n",
       "      <td>0.007132</td>\n",
       "      <td>-0.166965</td>\n",
       "      <td>-0.165804</td>\n",
       "      <td>-0.031106</td>\n",
       "    </tr>\n",
       "    <tr>\n",
       "      <th>Age_Tx</th>\n",
       "      <td>0.068145</td>\n",
       "      <td>0.007410</td>\n",
       "      <td>-0.092166</td>\n",
       "      <td>0.077479</td>\n",
       "      <td>1.000000</td>\n",
       "      <td>0.105817</td>\n",
       "      <td>-0.012673</td>\n",
       "      <td>-0.026084</td>\n",
       "      <td>-0.127789</td>\n",
       "      <td>-0.101532</td>\n",
       "      <td>-0.013012</td>\n",
       "    </tr>\n",
       "  </tbody>\n",
       "</table>\n",
       "</div>"
      ],
      "text/plain": [
       "             Gender  Bloodtype  Inpt_attx  Waittime    Age_Tx  Donor_Age  \\\n",
       "Gender     1.000000  -0.005836  -0.075560  0.030238  0.068145   0.002423   \n",
       "Bloodtype -0.005836   1.000000   0.018272  0.116696  0.007410   0.026539   \n",
       "Inpt_attx -0.075560   0.018272   1.000000 -0.144566 -0.092166   0.002499   \n",
       "Waittime   0.030238   0.116696  -0.144566  1.000000  0.077479  -0.003902   \n",
       "Age_Tx     0.068145   0.007410  -0.092166  0.077479  1.000000   0.105817   \n",
       "\n",
       "           TransplantBMI  Donor_BMI      MELD    MELDNA        If  \n",
       "Gender         -0.019234  -0.036594 -0.108870 -0.106469 -0.002485  \n",
       "Bloodtype      -0.041265  -0.002210  0.021212  0.020656 -0.015199  \n",
       "Inpt_attx       0.011932  -0.007031  0.423107  0.392317 -0.009775  \n",
       "Waittime       -0.005601   0.007132 -0.166965 -0.165804 -0.031106  \n",
       "Age_Tx         -0.012673  -0.026084 -0.127789 -0.101532 -0.013012  "
      ]
     },
     "execution_count": 7,
     "metadata": {},
     "output_type": "execute_result"
    }
   ],
   "source": [
    "transplantcorr = transplant.drop(['Time', 'Cens'],axis=1).corr()\n",
    "transplantcorr.head()"
   ]
  },
  {
   "cell_type": "code",
   "execution_count": 8,
   "id": "7f52e0c1",
   "metadata": {},
   "outputs": [],
   "source": [
    "transcorr = transplant.corr()"
   ]
  },
  {
   "cell_type": "code",
   "execution_count": 9,
   "id": "99124a0b",
   "metadata": {},
   "outputs": [
    {
     "data": {
      "image/png": "[encoded data removed]",
      "text/plain": [
       "<Figure size 864x864 with 2 Axes>"
      ]
     },
     "metadata": {
      "needs_background": "light"
     },
     "output_type": "display_data"
    }
   ],
   "source": [
    "plt.subplots(figsize = (12,12))\n",
    "# sns.heatmap(transcorr,annot = True,vmax = 1,square = True,cmap = \"Reds\")\n",
    "sns.heatmap(transplantcorr,annot = True,vmax = 1,square = True,cmap = \"Reds\")\n",
    "plt.show()"
   ]
  },
  {
   "cell_type": "code",
   "execution_count": 10,
   "id": "f5fdee41",
   "metadata": {},
   "outputs": [
    {
     "data": {
      "text/html": [
       "<div>\n",
       "<style scoped>\n",
       "    .dataframe tbody tr th:only-of-type {\n",
       "        vertical-align: middle;\n",
       "    }\n",
       "\n",
       "    .dataframe tbody tr th {\n",
       "        vertical-align: top;\n",
       "    }\n",
       "\n",
       "    .dataframe thead th {\n",
       "        text-align: right;\n",
       "    }\n",
       "</style>\n",
       "<table border=\"1\" class=\"dataframe\">\n",
       "  <thead>\n",
       "    <tr style=\"text-align: right;\">\n",
       "      <th></th>\n",
       "      <th>Gender</th>\n",
       "      <th>Bloodtype</th>\n",
       "      <th>Inpt_attx</th>\n",
       "      <th>Donor_Sex</th>\n",
       "      <th>Donor_Bloodtype</th>\n",
       "      <th>Donor_DCD</th>\n",
       "      <th>Waittime</th>\n",
       "      <th>Age_Tx</th>\n",
       "      <th>Donor_Age</th>\n",
       "      <th>TransplantBMI</th>\n",
       "      <th>Donor_BMI</th>\n",
       "      <th>MELD</th>\n",
       "      <th>MELDNA</th>\n",
       "      <th>Time</th>\n",
       "      <th>Cens</th>\n",
       "      <th>If</th>\n",
       "    </tr>\n",
       "  </thead>\n",
       "  <tbody>\n",
       "    <tr>\n",
       "      <th>0</th>\n",
       "      <td>1</td>\n",
       "      <td>3</td>\n",
       "      <td>2</td>\n",
       "      <td>Male</td>\n",
       "      <td>B</td>\n",
       "      <td>No</td>\n",
       "      <td>1</td>\n",
       "      <td>54.291739</td>\n",
       "      <td>45.379636</td>\n",
       "      <td>24.712049</td>\n",
       "      <td>21.369229</td>\n",
       "      <td>22.939930</td>\n",
       "      <td>22.931727</td>\n",
       "      <td>2019.866962</td>\n",
       "      <td>0</td>\n",
       "      <td>1.0</td>\n",
       "    </tr>\n",
       "    <tr>\n",
       "      <th>1</th>\n",
       "      <td>1</td>\n",
       "      <td>0</td>\n",
       "      <td>0</td>\n",
       "      <td>Male</td>\n",
       "      <td>O</td>\n",
       "      <td>No</td>\n",
       "      <td>157</td>\n",
       "      <td>59.817111</td>\n",
       "      <td>60.516200</td>\n",
       "      <td>28.887631</td>\n",
       "      <td>25.408853</td>\n",
       "      <td>18.985337</td>\n",
       "      <td>21.381548</td>\n",
       "      <td>1815.128065</td>\n",
       "      <td>1</td>\n",
       "      <td>0.0</td>\n",
       "    </tr>\n",
       "    <tr>\n",
       "      <th>2</th>\n",
       "      <td>0</td>\n",
       "      <td>0</td>\n",
       "      <td>0</td>\n",
       "      <td>Male</td>\n",
       "      <td>A</td>\n",
       "      <td>No</td>\n",
       "      <td>49</td>\n",
       "      <td>63.198440</td>\n",
       "      <td>30.989861</td>\n",
       "      <td>26.869533</td>\n",
       "      <td>24.902931</td>\n",
       "      <td>23.694392</td>\n",
       "      <td>26.243047</td>\n",
       "      <td>396.556200</td>\n",
       "      <td>0</td>\n",
       "      <td>0.0</td>\n",
       "    </tr>\n",
       "    <tr>\n",
       "      <th>3</th>\n",
       "      <td>1</td>\n",
       "      <td>3</td>\n",
       "      <td>2</td>\n",
       "      <td>Female</td>\n",
       "      <td>B</td>\n",
       "      <td>No</td>\n",
       "      <td>81</td>\n",
       "      <td>28.845900</td>\n",
       "      <td>41.142174</td>\n",
       "      <td>27.411596</td>\n",
       "      <td>35.396950</td>\n",
       "      <td>11.375444</td>\n",
       "      <td>8.545730</td>\n",
       "      <td>1326.259556</td>\n",
       "      <td>0</td>\n",
       "      <td>0.0</td>\n",
       "    </tr>\n",
       "    <tr>\n",
       "      <th>4</th>\n",
       "      <td>1</td>\n",
       "      <td>3</td>\n",
       "      <td>0</td>\n",
       "      <td>Female</td>\n",
       "      <td>O</td>\n",
       "      <td>No</td>\n",
       "      <td>620</td>\n",
       "      <td>55.523918</td>\n",
       "      <td>49.138937</td>\n",
       "      <td>24.530967</td>\n",
       "      <td>29.372668</td>\n",
       "      <td>26.835544</td>\n",
       "      <td>29.211865</td>\n",
       "      <td>605.043515</td>\n",
       "      <td>0</td>\n",
       "      <td>0.0</td>\n",
       "    </tr>\n",
       "  </tbody>\n",
       "</table>\n",
       "</div>"
      ],
      "text/plain": [
       "   Gender  Bloodtype  Inpt_attx Donor_Sex Donor_Bloodtype Donor_DCD  Waittime  \\\n",
       "0       1          3          2      Male               B        No         1   \n",
       "1       1          0          0      Male               O        No       157   \n",
       "2       0          0          0      Male               A        No        49   \n",
       "3       1          3          2    Female               B        No        81   \n",
       "4       1          3          0    Female               O        No       620   \n",
       "\n",
       "      Age_Tx  Donor_Age  TransplantBMI  Donor_BMI       MELD     MELDNA  \\\n",
       "0  54.291739  45.379636      24.712049  21.369229  22.939930  22.931727   \n",
       "1  59.817111  60.516200      28.887631  25.408853  18.985337  21.381548   \n",
       "2  63.198440  30.989861      26.869533  24.902931  23.694392  26.243047   \n",
       "3  28.845900  41.142174      27.411596  35.396950  11.375444   8.545730   \n",
       "4  55.523918  49.138937      24.530967  29.372668  26.835544  29.211865   \n",
       "\n",
       "          Time  Cens   If  \n",
       "0  2019.866962     0  1.0  \n",
       "1  1815.128065     1  0.0  \n",
       "2   396.556200     0  0.0  \n",
       "3  1326.259556     0  0.0  \n",
       "4   605.043515     0  0.0  "
      ]
     },
     "execution_count": 10,
     "metadata": {},
     "output_type": "execute_result"
    }
   ],
   "source": [
    "transplant.head()"
   ]
  },
  {
   "cell_type": "code",
   "execution_count": 11,
   "id": "b8a6dd65",
   "metadata": {},
   "outputs": [
    {
     "data": {
      "image/png": "[encoded data removed]",
      "text/plain": [
       "<Figure size 432x288 with 1 Axes>"
      ]
     },
     "metadata": {
      "needs_background": "light"
     },
     "output_type": "display_data"
    }
   ],
   "source": [
    "import math\n",
    "import numpy\n",
    "import matplotlib.pyplot as plt\n",
    "import matplotlib.pyplot as plt\n",
    "transplant['If'].value_counts().plot.bar()\n",
    "plt.ylabel('Frequency count')\n",
    "plt.xlabel('Label');\n",
    "plt.title('transplant_Y_train')\n",
    "plt.show()"
   ]
  },
  {
   "cell_type": "code",
   "execution_count": null,
   "id": "36093c3e",
   "metadata": {},
   "outputs": [],
   "source": []
  },
  {
   "cell_type": "code",
   "execution_count": 12,
   "id": "d283bc11",
   "metadata": {},
   "outputs": [],
   "source": [
    "scaler = Normalizer(norm = 'l2')\n",
    "transplant = transplant[['Gender','Bloodtype','Inpt_attx','Age_Tx','TransplantBMI', 'Donor_BMI', 'Donor_Age', 'MELD','MELDNA','Time','Cens', 'If']]\n",
    "transplant = pd.DataFrame(scaler.fit_transform(transplant),columns=['Gender','Bloodtype','Inpt_attx','Age_Tx','TransplantBMI', 'Donor_BMI', 'Donor_Age','MELD','MELDNA','Time','Cens', 'If'])"
   ]
  },
  {
   "cell_type": "code",
   "execution_count": 13,
   "id": "dd027956",
   "metadata": {},
   "outputs": [
    {
     "data": {
      "text/html": [
       "<div>\n",
       "<style scoped>\n",
       "    .dataframe tbody tr th:only-of-type {\n",
       "        vertical-align: middle;\n",
       "    }\n",
       "\n",
       "    .dataframe tbody tr th {\n",
       "        vertical-align: top;\n",
       "    }\n",
       "\n",
       "    .dataframe thead th {\n",
       "        text-align: right;\n",
       "    }\n",
       "</style>\n",
       "<table border=\"1\" class=\"dataframe\">\n",
       "  <thead>\n",
       "    <tr style=\"text-align: right;\">\n",
       "      <th></th>\n",
       "      <th>Inpt_attx</th>\n",
       "      <th>Age_Tx</th>\n",
       "      <th>MELD</th>\n",
       "    </tr>\n",
       "  </thead>\n",
       "  <tbody>\n",
       "    <tr>\n",
       "      <th>0</th>\n",
       "      <td>0.000989</td>\n",
       "      <td>0.026855</td>\n",
       "      <td>0.011347</td>\n",
       "    </tr>\n",
       "    <tr>\n",
       "      <th>1</th>\n",
       "      <td>0.000000</td>\n",
       "      <td>0.032907</td>\n",
       "      <td>0.010444</td>\n",
       "    </tr>\n",
       "    <tr>\n",
       "      <th>2</th>\n",
       "      <td>0.000000</td>\n",
       "      <td>0.155677</td>\n",
       "      <td>0.058366</td>\n",
       "    </tr>\n",
       "    <tr>\n",
       "      <th>3</th>\n",
       "      <td>0.001506</td>\n",
       "      <td>0.021721</td>\n",
       "      <td>0.008566</td>\n",
       "    </tr>\n",
       "    <tr>\n",
       "      <th>4</th>\n",
       "      <td>0.000000</td>\n",
       "      <td>0.090716</td>\n",
       "      <td>0.043844</td>\n",
       "    </tr>\n",
       "  </tbody>\n",
       "</table>\n",
       "</div>"
      ],
      "text/plain": [
       "   Inpt_attx    Age_Tx      MELD\n",
       "0   0.000989  0.026855  0.011347\n",
       "1   0.000000  0.032907  0.010444\n",
       "2   0.000000  0.155677  0.058366\n",
       "3   0.001506  0.021721  0.008566\n",
       "4   0.000000  0.090716  0.043844"
      ]
     },
     "execution_count": 13,
     "metadata": {},
     "output_type": "execute_result"
    }
   ],
   "source": [
    "# so i choose meldna meld and inpt_attx as the predict variables\n",
    "#wait_X_train = wait.drop(['Cens', 'Time','Gender','MELDNA','Bloodtype','BMI','If'],axis = 1)\n",
    "transplant_X_train = transplant[['Inpt_attx', 'Age_Tx', 'MELD']]\n",
    "transplant_X_train.head()\n"
   ]
  },
  {
   "cell_type": "code",
   "execution_count": 14,
   "id": "46a7d76e",
   "metadata": {},
   "outputs": [],
   "source": [
    "#wait ['If']"
   ]
  },
  {
   "cell_type": "code",
   "execution_count": null,
   "id": "95b256df",
   "metadata": {},
   "outputs": [],
   "source": []
  },
  {
   "cell_type": "code",
   "execution_count": null,
   "id": "50b08d56",
   "metadata": {},
   "outputs": [],
   "source": [
    "\n"
   ]
  },
  {
   "cell_type": "code",
   "execution_count": 15,
   "id": "8e600fa6",
   "metadata": {},
   "outputs": [
    {
     "data": {
      "text/html": [
       "<div>\n",
       "<style scoped>\n",
       "    .dataframe tbody tr th:only-of-type {\n",
       "        vertical-align: middle;\n",
       "    }\n",
       "\n",
       "    .dataframe tbody tr th {\n",
       "        vertical-align: top;\n",
       "    }\n",
       "\n",
       "    .dataframe thead th {\n",
       "        text-align: right;\n",
       "    }\n",
       "</style>\n",
       "<table border=\"1\" class=\"dataframe\">\n",
       "  <thead>\n",
       "    <tr style=\"text-align: right;\">\n",
       "      <th></th>\n",
       "      <th>Inpt_attx</th>\n",
       "      <th>Age_Tx</th>\n",
       "      <th>MELD</th>\n",
       "    </tr>\n",
       "  </thead>\n",
       "  <tbody>\n",
       "    <tr>\n",
       "      <th>0</th>\n",
       "      <td>0.000989</td>\n",
       "      <td>0.026855</td>\n",
       "      <td>0.011347</td>\n",
       "    </tr>\n",
       "    <tr>\n",
       "      <th>1</th>\n",
       "      <td>0.000000</td>\n",
       "      <td>0.032907</td>\n",
       "      <td>0.010444</td>\n",
       "    </tr>\n",
       "    <tr>\n",
       "      <th>2</th>\n",
       "      <td>0.000000</td>\n",
       "      <td>0.155677</td>\n",
       "      <td>0.058366</td>\n",
       "    </tr>\n",
       "    <tr>\n",
       "      <th>3</th>\n",
       "      <td>0.001506</td>\n",
       "      <td>0.021721</td>\n",
       "      <td>0.008566</td>\n",
       "    </tr>\n",
       "    <tr>\n",
       "      <th>4</th>\n",
       "      <td>0.000000</td>\n",
       "      <td>0.090716</td>\n",
       "      <td>0.043844</td>\n",
       "    </tr>\n",
       "  </tbody>\n",
       "</table>\n",
       "</div>"
      ],
      "text/plain": [
       "   Inpt_attx    Age_Tx      MELD\n",
       "0   0.000989  0.026855  0.011347\n",
       "1   0.000000  0.032907  0.010444\n",
       "2   0.000000  0.155677  0.058366\n",
       "3   0.001506  0.021721  0.008566\n",
       "4   0.000000  0.090716  0.043844"
      ]
     },
     "execution_count": 15,
     "metadata": {},
     "output_type": "execute_result"
    }
   ],
   "source": [
    "transplant_X_train.head()"
   ]
  },
  {
   "cell_type": "code",
   "execution_count": null,
   "id": "9a64dd86",
   "metadata": {},
   "outputs": [],
   "source": []
  },
  {
   "cell_type": "code",
   "execution_count": 16,
   "id": "2abe2f1a",
   "metadata": {},
   "outputs": [],
   "source": [
    "# Start building machine laerning models\n",
    "import numpy as np\n",
    "import pandas as pd\n",
    "from sklearn.cluster import KMeans\n",
    "from sklearn import metrics\n",
    "import matplotlib.pyplot as plt\n",
    "from sklearn.datasets import make_blobs"
   ]
  },
  {
   "cell_type": "code",
   "execution_count": 17,
   "id": "832921be",
   "metadata": {},
   "outputs": [
    {
     "name": "stdout",
     "output_type": "stream",
     "text": [
      "      Inpt_attx    Age_Tx      MELD\n",
      "0      0.000989  0.026855  0.011347\n",
      "1      0.000000  0.032907  0.010444\n",
      "2      0.000000  0.155677  0.058366\n",
      "3      0.001506  0.021721  0.008566\n",
      "4      0.000000  0.090716  0.043844\n",
      "...         ...       ...       ...\n",
      "3995   0.000000  0.025874  0.006607\n",
      "3996   0.000000  0.023122  0.005056\n",
      "3997   0.000647  0.013523  0.006176\n",
      "3998   0.000000  0.020021  0.009215\n",
      "3999   0.000000  0.005388  0.003131\n",
      "\n",
      "[4000 rows x 3 columns]\n"
     ]
    }
   ],
   "source": [
    "print(transplant_X_train)"
   ]
  },
  {
   "cell_type": "code",
   "execution_count": 18,
   "id": "f5ad1ae3",
   "metadata": {},
   "outputs": [
    {
     "data": {
      "text/plain": [
       "{2: 0.8254631034752742, 3: 0.7352342266306994, 4: 0.687434565969683}"
      ]
     },
     "metadata": {},
     "output_type": "display_data"
    }
   ],
   "source": [
    "num_clusters = np.arange(2,5)\n",
    "kmeans_results = {}\n",
    "for size in num_clusters:\n",
    "    # training the cluster model\n",
    "    kmeans = KMeans(n_clusters = size).fit(transplant_X_train)\n",
    "    # prdict the clusting model\n",
    "    preds = kmeans.predict(transplant_X_train)\n",
    "    # evaluate the results\n",
    "    # kmeans_results[size][\"silhouette\"] = metrics.silhouette_score(wait_Y_train['Time'], preds, metric='euclidean')\n",
    "    kmeans_results[size] = metrics.silhouette_score(transplant_X_train, preds, metric='euclidean')\n",
    "display(kmeans_results)"
   ]
  },
  {
   "cell_type": "code",
   "execution_count": 19,
   "id": "dc79c888",
   "metadata": {},
   "outputs": [
    {
     "name": "stdout",
     "output_type": "stream",
     "text": [
      "[[0.0009893  0.02685538 0.01134722 0.        ]\n",
      " [0.         0.03290715 0.01044439 0.        ]\n",
      " [0.         0.15567654 0.05836633 0.        ]\n",
      " ...\n",
      " [0.00064676 0.0135233  0.00617553 0.        ]\n",
      " [0.         0.020021   0.00921495 0.        ]\n",
      " [0.         0.00538773 0.00313108 0.        ]]\n"
     ]
    },
    {
     "name": "stderr",
     "output_type": "stream",
     "text": [
      "/var/folders/2f/w9xsz0bj377ff7qs7vx2g0mh0000gn/T/ipykernel_2180/3198911802.py:3: SettingWithCopyWarning: \n",
      "A value is trying to be set on a copy of a slice from a DataFrame.\n",
      "Try using .loc[row_indexer,col_indexer] = value instead\n",
      "\n",
      "See the caveats in the documentation: https://pandas.pydata.org/pandas-docs/stable/user_guide/indexing.html#returning-a-view-versus-a-copy\n",
      "  transplant_X_train['cluster'] = ypred\n"
     ]
    }
   ],
   "source": [
    "km = KMeans(2, init='k-means++') # initialize\n",
    "ypred = km.fit_predict(transplant_X_train)\n",
    "transplant_X_train['cluster'] = ypred\n",
    "transplant_X_train = transplant_X_train.to_numpy()\n",
    "print(transplant_X_train)"
   ]
  },
  {
   "cell_type": "code",
   "execution_count": 20,
   "id": "4508c706",
   "metadata": {},
   "outputs": [],
   "source": [
    "from copy import deepcopy\n",
    "from numpy import unique\n",
    "from numpy import where\n",
    "from sklearn.datasets import make_classification\n",
    "from sklearn.cluster import AgglomerativeClustering\n",
    "from matplotlib import pyplot\n",
    "from sklearn import preprocessing\n",
    "from sklearn.preprocessing import Normalizer"
   ]
  },
  {
   "cell_type": "code",
   "execution_count": 21,
   "id": "02bb61f6",
   "metadata": {},
   "outputs": [
    {
     "data": {
      "image/png": "[encoded data removed]",
      "text/plain": [
       "<Figure size 432x288 with 1 Axes>"
      ]
     },
     "metadata": {
      "needs_background": "light"
     },
     "output_type": "display_data"
    }
   ],
   "source": [
    "clusters = unique(ypred)\n",
    "# create scatter plot for samples from each cluster\n",
    "count = 0\n",
    "for cluster in clusters:\n",
    "    # get row indexes for samples with this cluster\n",
    "    count+=1\n",
    "    row_ix = where(ypred == cluster)\n",
    "    # print(\"Cluster: \",count, \"Indexes\", row_ix[0])\n",
    "    # create scatter of these samples\n",
    "    pyplot.scatter(transplant_X_train[row_ix, 0], transplant_X_train[row_ix, 1])\n",
    "# show the plot\n",
    "#print(\"Total Cluster\")\n",
    "pyplot.show()\n"
   ]
  },
  {
   "cell_type": "code",
   "execution_count": 22,
   "id": "8a174e0f",
   "metadata": {},
   "outputs": [],
   "source": [
    "transplant_X_train = pd.DataFrame(transplant_X_train)"
   ]
  },
  {
   "cell_type": "code",
   "execution_count": 23,
   "id": "1c5bb4b7",
   "metadata": {},
   "outputs": [
    {
     "data": {
      "text/html": [
       "<div>\n",
       "<style scoped>\n",
       "    .dataframe tbody tr th:only-of-type {\n",
       "        vertical-align: middle;\n",
       "    }\n",
       "\n",
       "    .dataframe tbody tr th {\n",
       "        vertical-align: top;\n",
       "    }\n",
       "\n",
       "    .dataframe thead th {\n",
       "        text-align: right;\n",
       "    }\n",
       "</style>\n",
       "<table border=\"1\" class=\"dataframe\">\n",
       "  <thead>\n",
       "    <tr style=\"text-align: right;\">\n",
       "      <th></th>\n",
       "      <th>0</th>\n",
       "      <th>1</th>\n",
       "      <th>2</th>\n",
       "      <th>3</th>\n",
       "    </tr>\n",
       "  </thead>\n",
       "  <tbody>\n",
       "    <tr>\n",
       "      <th>0</th>\n",
       "      <td>0.000989</td>\n",
       "      <td>0.026855</td>\n",
       "      <td>0.011347</td>\n",
       "      <td>0.0</td>\n",
       "    </tr>\n",
       "    <tr>\n",
       "      <th>1</th>\n",
       "      <td>0.000000</td>\n",
       "      <td>0.032907</td>\n",
       "      <td>0.010444</td>\n",
       "      <td>0.0</td>\n",
       "    </tr>\n",
       "    <tr>\n",
       "      <th>2</th>\n",
       "      <td>0.000000</td>\n",
       "      <td>0.155677</td>\n",
       "      <td>0.058366</td>\n",
       "      <td>0.0</td>\n",
       "    </tr>\n",
       "    <tr>\n",
       "      <th>3</th>\n",
       "      <td>0.001506</td>\n",
       "      <td>0.021721</td>\n",
       "      <td>0.008566</td>\n",
       "      <td>0.0</td>\n",
       "    </tr>\n",
       "    <tr>\n",
       "      <th>4</th>\n",
       "      <td>0.000000</td>\n",
       "      <td>0.090716</td>\n",
       "      <td>0.043844</td>\n",
       "      <td>0.0</td>\n",
       "    </tr>\n",
       "  </tbody>\n",
       "</table>\n",
       "</div>"
      ],
      "text/plain": [
       "          0         1         2    3\n",
       "0  0.000989  0.026855  0.011347  0.0\n",
       "1  0.000000  0.032907  0.010444  0.0\n",
       "2  0.000000  0.155677  0.058366  0.0\n",
       "3  0.001506  0.021721  0.008566  0.0\n",
       "4  0.000000  0.090716  0.043844  0.0"
      ]
     },
     "execution_count": 23,
     "metadata": {},
     "output_type": "execute_result"
    }
   ],
   "source": [
    "transplant_X_train.head()"
   ]
  },
  {
   "cell_type": "code",
   "execution_count": 24,
   "id": "85395acb",
   "metadata": {},
   "outputs": [],
   "source": [
    "data = transplant.drop(['Cens', 'Time','Gender','MELDNA','Bloodtype','TransplantBMI','If'],axis = 1)\n",
    "data['cluster'] = ypred\n",
    "label = pd.DataFrame(labels)"
   ]
  },
  {
   "cell_type": "code",
   "execution_count": 25,
   "id": "5c0dd2e9",
   "metadata": {},
   "outputs": [
    {
     "data": {
      "text/html": [
       "<div>\n",
       "<style scoped>\n",
       "    .dataframe tbody tr th:only-of-type {\n",
       "        vertical-align: middle;\n",
       "    }\n",
       "\n",
       "    .dataframe tbody tr th {\n",
       "        vertical-align: top;\n",
       "    }\n",
       "\n",
       "    .dataframe thead th {\n",
       "        text-align: right;\n",
       "    }\n",
       "</style>\n",
       "<table border=\"1\" class=\"dataframe\">\n",
       "  <thead>\n",
       "    <tr style=\"text-align: right;\">\n",
       "      <th></th>\n",
       "      <th>Inpt_attx</th>\n",
       "      <th>Age_Tx</th>\n",
       "      <th>Donor_BMI</th>\n",
       "      <th>Donor_Age</th>\n",
       "      <th>MELD</th>\n",
       "      <th>cluster</th>\n",
       "    </tr>\n",
       "  </thead>\n",
       "  <tbody>\n",
       "    <tr>\n",
       "      <th>0</th>\n",
       "      <td>0.000989</td>\n",
       "      <td>0.026855</td>\n",
       "      <td>0.010570</td>\n",
       "      <td>0.022447</td>\n",
       "      <td>0.011347</td>\n",
       "      <td>0</td>\n",
       "    </tr>\n",
       "    <tr>\n",
       "      <th>1</th>\n",
       "      <td>0.000000</td>\n",
       "      <td>0.032907</td>\n",
       "      <td>0.013978</td>\n",
       "      <td>0.033292</td>\n",
       "      <td>0.010444</td>\n",
       "      <td>0</td>\n",
       "    </tr>\n",
       "    <tr>\n",
       "      <th>2</th>\n",
       "      <td>0.000000</td>\n",
       "      <td>0.155677</td>\n",
       "      <td>0.061343</td>\n",
       "      <td>0.076337</td>\n",
       "      <td>0.058366</td>\n",
       "      <td>0</td>\n",
       "    </tr>\n",
       "    <tr>\n",
       "      <th>3</th>\n",
       "      <td>0.001506</td>\n",
       "      <td>0.021721</td>\n",
       "      <td>0.026653</td>\n",
       "      <td>0.030979</td>\n",
       "      <td>0.008566</td>\n",
       "      <td>0</td>\n",
       "    </tr>\n",
       "    <tr>\n",
       "      <th>4</th>\n",
       "      <td>0.000000</td>\n",
       "      <td>0.090716</td>\n",
       "      <td>0.047989</td>\n",
       "      <td>0.080284</td>\n",
       "      <td>0.043844</td>\n",
       "      <td>0</td>\n",
       "    </tr>\n",
       "  </tbody>\n",
       "</table>\n",
       "</div>"
      ],
      "text/plain": [
       "   Inpt_attx    Age_Tx  Donor_BMI  Donor_Age      MELD  cluster\n",
       "0   0.000989  0.026855   0.010570   0.022447  0.011347        0\n",
       "1   0.000000  0.032907   0.013978   0.033292  0.010444        0\n",
       "2   0.000000  0.155677   0.061343   0.076337  0.058366        0\n",
       "3   0.001506  0.021721   0.026653   0.030979  0.008566        0\n",
       "4   0.000000  0.090716   0.047989   0.080284  0.043844        0"
      ]
     },
     "execution_count": 25,
     "metadata": {},
     "output_type": "execute_result"
    }
   ],
   "source": [
    "data.head()"
   ]
  },
  {
   "cell_type": "code",
   "execution_count": 26,
   "id": "bc83fbb4",
   "metadata": {},
   "outputs": [
    {
     "data": {
      "text/html": [
       "<div>\n",
       "<style scoped>\n",
       "    .dataframe tbody tr th:only-of-type {\n",
       "        vertical-align: middle;\n",
       "    }\n",
       "\n",
       "    .dataframe tbody tr th {\n",
       "        vertical-align: top;\n",
       "    }\n",
       "\n",
       "    .dataframe thead th {\n",
       "        text-align: right;\n",
       "    }\n",
       "</style>\n",
       "<table border=\"1\" class=\"dataframe\">\n",
       "  <thead>\n",
       "    <tr style=\"text-align: right;\">\n",
       "      <th></th>\n",
       "      <th>If</th>\n",
       "    </tr>\n",
       "  </thead>\n",
       "  <tbody>\n",
       "    <tr>\n",
       "      <th>0</th>\n",
       "      <td>1.0</td>\n",
       "    </tr>\n",
       "    <tr>\n",
       "      <th>1</th>\n",
       "      <td>0.0</td>\n",
       "    </tr>\n",
       "    <tr>\n",
       "      <th>2</th>\n",
       "      <td>0.0</td>\n",
       "    </tr>\n",
       "    <tr>\n",
       "      <th>3</th>\n",
       "      <td>0.0</td>\n",
       "    </tr>\n",
       "    <tr>\n",
       "      <th>4</th>\n",
       "      <td>0.0</td>\n",
       "    </tr>\n",
       "  </tbody>\n",
       "</table>\n",
       "</div>"
      ],
      "text/plain": [
       "    If\n",
       "0  1.0\n",
       "1  0.0\n",
       "2  0.0\n",
       "3  0.0\n",
       "4  0.0"
      ]
     },
     "execution_count": 26,
     "metadata": {},
     "output_type": "execute_result"
    }
   ],
   "source": [
    "label.head()"
   ]
  },
  {
   "cell_type": "code",
   "execution_count": 27,
   "id": "c532042f",
   "metadata": {},
   "outputs": [],
   "source": [
    "from sklearn.model_selection import train_test_split\n",
    "X_train, X_test, y_train , y_test = train_test_split(data, label, train_size=0.7,random_state= 42)"
   ]
  },
  {
   "cell_type": "code",
   "execution_count": 28,
   "id": "4e8dd871",
   "metadata": {},
   "outputs": [
    {
     "name": "stdout",
     "output_type": "stream",
     "text": [
      "      Inpt_attx    Age_Tx  Donor_BMI  Donor_Age      MELD  cluster\n",
      "3215   0.000000  0.045684   0.025846   0.026973  0.004759        0\n",
      "3126   0.000000  0.247875   0.069831   0.110891  0.100826        1\n",
      "697    0.000000  0.009031   0.003563   0.010549  0.003448        0\n",
      "3613   0.000000  0.244991   0.110517   0.291097  0.035341        0\n",
      "2374   0.000000  0.051974   0.023089   0.047173  0.023898        0\n",
      "...         ...       ...        ...        ...       ...      ...\n",
      "1130   0.000000  0.012352   0.006450   0.005338  0.005323        0\n",
      "1294   0.004383  0.082823   0.070064   0.095023  0.048929        0\n",
      "860    0.000000  0.014076   0.007330   0.014746  0.002983        0\n",
      "3507   0.000000  0.020417   0.011385   0.026185  0.009668        0\n",
      "3174   0.000000  0.014616   0.006381   0.015983  0.002254        0\n",
      "\n",
      "[2800 rows x 6 columns]\n"
     ]
    }
   ],
   "source": [
    "print(X_train)"
   ]
  },
  {
   "cell_type": "code",
   "execution_count": 29,
   "id": "8cce483a",
   "metadata": {},
   "outputs": [],
   "source": [
    "from sklearn import tree\n",
    "clf = tree.DecisionTreeClassifier()\n",
    "clf = clf.fit(X_train, y_train)"
   ]
  },
  {
   "cell_type": "code",
   "execution_count": 30,
   "id": "50f9ec4b",
   "metadata": {},
   "outputs": [],
   "source": [
    "y_pred1 = clf.predict(X_test)"
   ]
  },
  {
   "cell_type": "code",
   "execution_count": 31,
   "id": "288703ff",
   "metadata": {},
   "outputs": [],
   "source": [
    "from sklearn.metrics import confusion_matrix,classification_report,accuracy_score"
   ]
  },
  {
   "cell_type": "code",
   "execution_count": 32,
   "id": "54855c3f",
   "metadata": {},
   "outputs": [
    {
     "name": "stdout",
     "output_type": "stream",
     "text": [
      "Classification Report \n",
      "               precision    recall  f1-score   support\n",
      "\n",
      "         0.0       0.96      0.96      0.96       656\n",
      "         1.0       0.96      0.95      0.95       544\n",
      "\n",
      "    accuracy                           0.96      1200\n",
      "   macro avg       0.96      0.96      0.96      1200\n",
      "weighted avg       0.96      0.96      0.96      1200\n",
      "\n",
      "Accuracy of our mode when applied on test set:  0.9575\n"
     ]
    }
   ],
   "source": [
    "print('Classification Report \\n',classification_report(y_test, y_pred1))\n",
    "print('Accuracy of our mode when applied on test set: ',accuracy_score(y_test, y_pred1))"
   ]
  },
  {
   "cell_type": "code",
   "execution_count": 33,
   "id": "26996e4a",
   "metadata": {},
   "outputs": [
    {
     "name": "stdout",
     "output_type": "stream",
     "text": [
      "       If\n",
      "555   0.0\n",
      "3491  1.0\n",
      "527   0.0\n",
      "3925  0.0\n",
      "2989  0.0\n",
      "...   ...\n",
      "3856  1.0\n",
      "226   0.0\n",
      "1612  0.0\n",
      "535   0.0\n",
      "3848  0.0\n",
      "\n",
      "[1200 rows x 1 columns]\n"
     ]
    }
   ],
   "source": [
    "print(y_test)"
   ]
  },
  {
   "cell_type": "code",
   "execution_count": 34,
   "id": "a4b3b2c0",
   "metadata": {},
   "outputs": [
    {
     "name": "stdout",
     "output_type": "stream",
     "text": [
      "[0. 1. 0. ... 0. 0. 0.]\n"
     ]
    }
   ],
   "source": [
    "print(y_pred1)"
   ]
  },
  {
   "cell_type": "code",
   "execution_count": 35,
   "id": "b9763e3f",
   "metadata": {},
   "outputs": [
    {
     "name": "stdout",
     "output_type": "stream",
     "text": [
      "Classification Report \n",
      "               precision    recall  f1-score   support\n",
      "\n",
      "         0.0       0.98      0.96      0.97       656\n",
      "         1.0       0.96      0.97      0.97       544\n",
      "\n",
      "    accuracy                           0.97      1200\n",
      "   macro avg       0.97      0.97      0.97      1200\n",
      "weighted avg       0.97      0.97      0.97      1200\n",
      "\n",
      "Accuracy of our mode when applied on test set:  0.9683333333333334\n"
     ]
    },
    {
     "name": "stderr",
     "output_type": "stream",
     "text": [
      "/opt/anaconda3/lib/python3.9/site-packages/sklearn/utils/validation.py:993: DataConversionWarning: A column-vector y was passed when a 1d array was expected. Please change the shape of y to (n_samples, ), for example using ravel().\n",
      "  y = column_or_1d(y, warn=True)\n"
     ]
    }
   ],
   "source": [
    "## SVC\n",
    "from sklearn.model_selection import GridSearchCV\n",
    "\n",
    "param_grid = {'C': [0.1, 1, 0.01, 10], 'gamma': [10, 0.1, 0.01], 'kernel': ['rbf', 'sigmoid']}\n",
    "\n",
    "from sklearn.svm import SVC\n",
    "svc = SVC(C=10, gamma=10)\n",
    "svc.fit(X_train, y_train)\n",
    "y_pred2 = svc.predict(X_test)\n",
    "from sklearn.metrics import confusion_matrix,classification_report,accuracy_score\n",
    "\n",
    "print('Classification Report \\n',classification_report(y_test, y_pred2))\n",
    "print('Accuracy of our mode when applied on test set: ',accuracy_score(y_test, y_pred2))"
   ]
  },
  {
   "cell_type": "code",
   "execution_count": null,
   "id": "5c865e01",
   "metadata": {},
   "outputs": [],
   "source": []
  },
  {
   "cell_type": "markdown",
   "id": "58c7d0c3",
   "metadata": {},
   "source": [
    "# AdaBoost"
   ]
  },
  {
   "cell_type": "code",
   "execution_count": 36,
   "id": "353dd86e",
   "metadata": {},
   "outputs": [
    {
     "name": "stderr",
     "output_type": "stream",
     "text": [
      "/opt/anaconda3/lib/python3.9/site-packages/sklearn/utils/validation.py:993: DataConversionWarning: A column-vector y was passed when a 1d array was expected. Please change the shape of y to (n_samples, ), for example using ravel().\n",
      "  y = column_or_1d(y, warn=True)\n"
     ]
    }
   ],
   "source": [
    "from sklearn.ensemble import AdaBoostClassifier\n",
    "clf = AdaBoostClassifier(n_estimators=76)\n",
    "clf = clf.fit(X_train, y_train)"
   ]
  },
  {
   "cell_type": "code",
   "execution_count": 37,
   "id": "97bcfb8a",
   "metadata": {},
   "outputs": [],
   "source": [
    "y_pred = clf.predict(X_test)"
   ]
  },
  {
   "cell_type": "code",
   "execution_count": 38,
   "id": "2df30cc6",
   "metadata": {},
   "outputs": [
    {
     "name": "stdout",
     "output_type": "stream",
     "text": [
      "Classification Report \n",
      "               precision    recall  f1-score   support\n",
      "\n",
      "         0.0       0.97      0.97      0.97       656\n",
      "         1.0       0.97      0.97      0.97       544\n",
      "\n",
      "    accuracy                           0.97      1200\n",
      "   macro avg       0.97      0.97      0.97      1200\n",
      "weighted avg       0.97      0.97      0.97      1200\n",
      "\n",
      "Accuracy of our mode when applied on test set:  0.9708333333333333\n"
     ]
    }
   ],
   "source": [
    "print('Classification Report \\n',classification_report(y_test, y_pred))\n",
    "print('Accuracy of our mode when applied on test set: ',accuracy_score(y_test, y_pred))"
   ]
  },
  {
   "cell_type": "markdown",
   "id": "108ce655",
   "metadata": {},
   "source": [
    "# BaggingClassifier"
   ]
  },
  {
   "cell_type": "code",
   "execution_count": 39,
   "id": "e826893b",
   "metadata": {},
   "outputs": [
    {
     "name": "stdout",
     "output_type": "stream",
     "text": [
      "Classification Report \n",
      "               precision    recall  f1-score   support\n",
      "\n",
      "         0.0       0.96      0.97      0.97       656\n",
      "         1.0       0.97      0.95      0.96       544\n",
      "\n",
      "    accuracy                           0.96      1200\n",
      "   macro avg       0.96      0.96      0.96      1200\n",
      "weighted avg       0.96      0.96      0.96      1200\n",
      "\n",
      "Accuracy of our mode when applied on test set:  0.9641666666666666\n"
     ]
    },
    {
     "name": "stderr",
     "output_type": "stream",
     "text": [
      "/opt/anaconda3/lib/python3.9/site-packages/sklearn/ensemble/_bagging.py:719: DataConversionWarning: A column-vector y was passed when a 1d array was expected. Please change the shape of y to (n_samples, ), for example using ravel().\n",
      "  y = column_or_1d(y, warn=True)\n"
     ]
    }
   ],
   "source": [
    "from sklearn.ensemble import BaggingClassifier\n",
    "from sklearn.neighbors import KNeighborsClassifier\n",
    "model = BaggingClassifier(KNeighborsClassifier(), max_samples=0.5, max_features=0.5)\n",
    "model = model.fit(X_train, y_train)\n",
    "y_pred = model.predict(X_test)\n",
    "print('Classification Report \\n',classification_report(y_test, y_pred))\n",
    "print('Accuracy of our mode when applied on test set: ',accuracy_score(y_test, y_pred))"
   ]
  },
  {
   "cell_type": "code",
   "execution_count": 40,
   "id": "210697b1",
   "metadata": {},
   "outputs": [
    {
     "name": "stdout",
     "output_type": "stream",
     "text": [
      "       If\n",
      "0     1.0\n",
      "1     0.0\n",
      "2     0.0\n",
      "3     0.0\n",
      "4     0.0\n",
      "...   ...\n",
      "3995  1.0\n",
      "3996  1.0\n",
      "3997  1.0\n",
      "3998  1.0\n",
      "3999  1.0\n",
      "\n",
      "[4000 rows x 1 columns]\n"
     ]
    }
   ],
   "source": [
    "print(label)"
   ]
  },
  {
   "cell_type": "code",
   "execution_count": 41,
   "id": "e13d01db",
   "metadata": {},
   "outputs": [
    {
     "name": "stdout",
     "output_type": "stream",
     "text": [
      "       If\n",
      "555   0.0\n",
      "3491  1.0\n",
      "527   0.0\n",
      "3925  0.0\n",
      "2989  0.0\n",
      "...   ...\n",
      "3856  1.0\n",
      "226   0.0\n",
      "1612  0.0\n",
      "535   0.0\n",
      "3848  0.0\n",
      "\n",
      "[1200 rows x 1 columns]\n"
     ]
    }
   ],
   "source": [
    "print(y_test)"
   ]
  },
  {
   "cell_type": "code",
   "execution_count": 42,
   "id": "9da049bb",
   "metadata": {},
   "outputs": [
    {
     "name": "stdout",
     "output_type": "stream",
     "text": [
      "[0. 1. 0. ... 0. 0. 0.]\n"
     ]
    }
   ],
   "source": [
    "print(y_pred2)"
   ]
  },
  {
   "cell_type": "code",
   "execution_count": 43,
   "id": "94aa80f5",
   "metadata": {},
   "outputs": [
    {
     "name": "stderr",
     "output_type": "stream",
     "text": [
      "/opt/anaconda3/lib/python3.9/site-packages/sklearn/preprocessing/_label.py:98: DataConversionWarning: A column-vector y was passed when a 1d array was expected. Please change the shape of y to (n_samples, ), for example using ravel().\n",
      "  y = column_or_1d(y, warn=True)\n",
      "/opt/anaconda3/lib/python3.9/site-packages/sklearn/preprocessing/_label.py:133: DataConversionWarning: A column-vector y was passed when a 1d array was expected. Please change the shape of y to (n_samples, ), for example using ravel().\n",
      "  y = column_or_1d(y, warn=True)\n"
     ]
    },
    {
     "name": "stdout",
     "output_type": "stream",
     "text": [
      "Classification Report \n",
      "               precision    recall  f1-score   support\n",
      "\n",
      "         0.0       0.97      0.97      0.97       656\n",
      "         1.0       0.96      0.96      0.96       544\n",
      "\n",
      "    accuracy                           0.97      1200\n",
      "   macro avg       0.97      0.97      0.97      1200\n",
      "weighted avg       0.97      0.97      0.97      1200\n",
      "\n",
      "Accuracy of our mode when applied on test set:  0.9658333333333333\n"
     ]
    }
   ],
   "source": [
    "from sklearn.linear_model import RidgeCV, LassoCV\n",
    "from sklearn.neighbors import KNeighborsRegressor\n",
    "from sklearn.linear_model import LogisticRegression\n",
    "estimators = [('svc', SVC(kernel = 'rbf', C=1, gamma=20)), ('Adaboost', AdaBoostClassifier(n_estimators=76)),('Bagging', BaggingClassifier(KNeighborsClassifier(), max_samples=0.5, max_features=0.5))]\n",
    "\n",
    "\n",
    "\n",
    "from sklearn.ensemble import StackingClassifier\n",
    "\n",
    "clf = StackingClassifier(\n",
    "     estimators=estimators, final_estimator=LogisticRegression()\n",
    ")\n",
    "clf = clf.fit(X_train, y_train)\n",
    "y_pred = clf.predict(X_test)\n",
    "print('Classification Report \\n',classification_report(y_test, y_pred))\n",
    "print('Accuracy of our mode when applied on test set: ',accuracy_score(y_test, y_pred))"
   ]
  },
  {
   "cell_type": "code",
   "execution_count": null,
   "id": "70384fbc",
   "metadata": {},
   "outputs": [],
   "source": []
  }
 ],
 "metadata": {
  "kernelspec": {
   "display_name": "Python 3 (ipykernel)",
   "language": "python",
   "name": "python3"
  },
  "language_info": {
   "codemirror_mode": {
    "name": "ipython",
    "version": 3
   },
   "file_extension": ".py",
   "mimetype": "text/x-python",
   "name": "python",
   "nbconvert_exporter": "python",
   "pygments_lexer": "ipython3",
   "version": "3.9.12"
  }
 },
 "nbformat": 4,
 "nbformat_minor": 5
}
