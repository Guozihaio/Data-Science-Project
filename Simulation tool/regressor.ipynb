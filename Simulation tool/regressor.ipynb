{
 "cells": [
  {
   "cell_type": "code",
   "execution_count": 21,
   "metadata": {},
   "outputs": [],
   "source": [
    "import numpy as np\n",
    "import pandas as pd\n",
    "from collections import  Counter\n",
    "import matplotlib.pyplot as plt\n",
    "from sklearn.ensemble import GradientBoostingClassifier\n",
    "from sklearn.ensemble import GradientBoostingRegressor\n",
    "from sklearn.preprocessing import LabelEncoder\n",
    "from sklearn.model_selection import train_test_split\n",
    "# from sklearn.ensemble import GradientBoostingRegressor\n",
    "from sklearn.linear_model import LogisticRegression\n",
    "from xgboost import XGBClassifier\n",
    "from sklearn import datasets\n",
    "from sklearn import linear_model"
   ]
  },
  {
   "cell_type": "code",
   "execution_count": 22,
   "metadata": {},
   "outputs": [
    {
     "data": {
      "text/plain": [
       "(4000, 15)"
      ]
     },
     "execution_count": 22,
     "metadata": {},
     "output_type": "execute_result"
    }
   ],
   "source": [
    "transplant_list = pd.read_excel(\"SimData_Transplant_Ver2.0.xls\", index_col = False, header=0)\n",
    "# wait_list = pd.read_excel(\"SimData_WList_Ver1.0.xls\", index_col = False, header=0)\n",
    "transplant_list.shape"
   ]
  },
  {
   "cell_type": "code",
   "execution_count": 23,
   "metadata": {},
   "outputs": [],
   "source": [
    "#choose adult\n",
    "adult_transplant_list = transplant_list[transplant_list['Age_Tx'] >= 18] \n",
    "\n",
    "#lives longer than 3 days\n",
    "adult_transplant_list_clean = adult_transplant_list[adult_transplant_list[\"Time\"] >= 3]"
   ]
  },
  {
   "cell_type": "code",
   "execution_count": 24,
   "metadata": {},
   "outputs": [],
   "source": [
    "le = LabelEncoder()"
   ]
  },
  {
   "cell_type": "code",
   "execution_count": 25,
   "metadata": {},
   "outputs": [
    {
     "name": "stderr",
     "output_type": "stream",
     "text": [
      "<ipython-input-25-b3d8edfa3670>:1: SettingWithCopyWarning: \n",
      "A value is trying to be set on a copy of a slice from a DataFrame.\n",
      "Try using .loc[row_indexer,col_indexer] = value instead\n",
      "\n",
      "See the caveats in the documentation: https://pandas.pydata.org/pandas-docs/stable/user_guide/indexing.html#returning-a-view-versus-a-copy\n",
      "  adult_transplant_list_clean[\"Gender\"] = le.fit_transform(adult_transplant_list_clean[\"Gender\"])\n",
      "<ipython-input-25-b3d8edfa3670>:2: SettingWithCopyWarning: \n",
      "A value is trying to be set on a copy of a slice from a DataFrame.\n",
      "Try using .loc[row_indexer,col_indexer] = value instead\n",
      "\n",
      "See the caveats in the documentation: https://pandas.pydata.org/pandas-docs/stable/user_guide/indexing.html#returning-a-view-versus-a-copy\n",
      "  adult_transplant_list_clean[\"Bloodtype\"] = le.fit_transform(adult_transplant_list_clean[\"Bloodtype\"])\n",
      "<ipython-input-25-b3d8edfa3670>:3: SettingWithCopyWarning: \n",
      "A value is trying to be set on a copy of a slice from a DataFrame.\n",
      "Try using .loc[row_indexer,col_indexer] = value instead\n",
      "\n",
      "See the caveats in the documentation: https://pandas.pydata.org/pandas-docs/stable/user_guide/indexing.html#returning-a-view-versus-a-copy\n",
      "  adult_transplant_list_clean[\"Donor_Bloodtype\"] = le.fit_transform(adult_transplant_list_clean[\"Donor_Bloodtype\"])\n",
      "<ipython-input-25-b3d8edfa3670>:4: SettingWithCopyWarning: \n",
      "A value is trying to be set on a copy of a slice from a DataFrame.\n",
      "Try using .loc[row_indexer,col_indexer] = value instead\n",
      "\n",
      "See the caveats in the documentation: https://pandas.pydata.org/pandas-docs/stable/user_guide/indexing.html#returning-a-view-versus-a-copy\n",
      "  adult_transplant_list_clean[\"Inpt_attx\"] = le.fit_transform(adult_transplant_list_clean[\"Inpt_attx\"])\n",
      "<ipython-input-25-b3d8edfa3670>:5: SettingWithCopyWarning: \n",
      "A value is trying to be set on a copy of a slice from a DataFrame.\n",
      "Try using .loc[row_indexer,col_indexer] = value instead\n",
      "\n",
      "See the caveats in the documentation: https://pandas.pydata.org/pandas-docs/stable/user_guide/indexing.html#returning-a-view-versus-a-copy\n",
      "  adult_transplant_list_clean[\"Donor_Sex\"] = le.fit_transform(adult_transplant_list_clean[\"Donor_Sex\"])\n",
      "<ipython-input-25-b3d8edfa3670>:6: SettingWithCopyWarning: \n",
      "A value is trying to be set on a copy of a slice from a DataFrame.\n",
      "Try using .loc[row_indexer,col_indexer] = value instead\n",
      "\n",
      "See the caveats in the documentation: https://pandas.pydata.org/pandas-docs/stable/user_guide/indexing.html#returning-a-view-versus-a-copy\n",
      "  adult_transplant_list_clean[\"Donor_DCD\"] = le.fit_transform(adult_transplant_list_clean[\"Donor_DCD\"])\n"
     ]
    }
   ],
   "source": [
    "adult_transplant_list_clean[\"Gender\"] = le.fit_transform(adult_transplant_list_clean[\"Gender\"])\n",
    "adult_transplant_list_clean[\"Bloodtype\"] = le.fit_transform(adult_transplant_list_clean[\"Bloodtype\"])\n",
    "adult_transplant_list_clean[\"Donor_Bloodtype\"] = le.fit_transform(adult_transplant_list_clean[\"Donor_Bloodtype\"])\n",
    "adult_transplant_list_clean[\"Inpt_attx\"] = le.fit_transform(adult_transplant_list_clean[\"Inpt_attx\"])\n",
    "adult_transplant_list_clean[\"Donor_Sex\"] = le.fit_transform(adult_transplant_list_clean[\"Donor_Sex\"])\n",
    "adult_transplant_list_clean[\"Donor_DCD\"] = le.fit_transform(adult_transplant_list_clean[\"Donor_DCD\"])"
   ]
  },
  {
   "cell_type": "code",
   "execution_count": 26,
   "metadata": {},
   "outputs": [],
   "source": [
    "ATTRS = ['Gender', 'Bloodtype', 'Inpt_attx', 'Donor_Sex', 'Donor_Bloodtype', \\\n",
    "    'Donor_DCD', 'Waittime', 'Age_Tx', 'Donor_Age', 'TransplantBMI', 'Donor_BMI', \\\n",
    "    'MELD', 'MELDNA']"
   ]
  },
  {
   "cell_type": "code",
   "execution_count": 27,
   "metadata": {},
   "outputs": [],
   "source": [
    "Data = adult_transplant_list_clean[ATTRS]"
   ]
  },
  {
   "cell_type": "code",
   "execution_count": 28,
   "metadata": {},
   "outputs": [],
   "source": [
    "Target = adult_transplant_list_clean['Time']"
   ]
  },
  {
   "cell_type": "code",
   "execution_count": 29,
   "metadata": {},
   "outputs": [
    {
     "data": {
      "text/plain": [
       "(3992, 13)"
      ]
     },
     "execution_count": 29,
     "metadata": {},
     "output_type": "execute_result"
    }
   ],
   "source": [
    "Data.shape"
   ]
  },
  {
   "cell_type": "code",
   "execution_count": 30,
   "metadata": {},
   "outputs": [
    {
     "data": {
      "text/plain": [
       "(3992,)"
      ]
     },
     "execution_count": 30,
     "metadata": {},
     "output_type": "execute_result"
    }
   ],
   "source": [
    "Target.shape"
   ]
  },
  {
   "cell_type": "code",
   "execution_count": 31,
   "metadata": {},
   "outputs": [],
   "source": [
    "X_train,X_test,y_train,y_test=train_test_split(Data,Target,test_size=0.25,random_state=0) "
   ]
  },
  {
   "cell_type": "code",
   "execution_count": 32,
   "metadata": {},
   "outputs": [],
   "source": [
    "from sklearn.linear_model import SGDRegressor\n",
    "from sklearn.pipeline import Pipeline\n",
    "from sklearn.model_selection import GridSearchCV\n",
    "from sklearn.feature_selection import SelectKBest, chi2, mutual_info_classif, f_regression, f_classif, mutual_info_regression\n",
    "import time\n",
    "\n",
    "def grid_search(pipeline, parameters, X, y):\n",
    "    gs = GridSearchCV(pipeline, parameters, cv=5, n_jobs=-1, verbose=1)\n",
    "    \n",
    "    print('Performing grid search...')\n",
    "    print('pipeline:', [name for name, _ in pipeline.steps])\n",
    "    print('parameters:')\n",
    "    print(parameters)\n",
    "    t0 = time.time()\n",
    "    gs.fit(X, y)\n",
    "    print('done in %0.3fs' % (time.time() - t0))\n",
    "    print()\n",
    "    \n",
    "    # print out best 5 results\n",
    "    mean_score = gs.cv_results_['mean_test_score']\n",
    "    param_set = gs.cv_results_['params']\n",
    "    for i in mean_score.argsort()[-5:]:\n",
    "        print(param_set[i])\n",
    "        print(gs.cv_results_['mean_test_score'][i])\n",
    "        print('='*30)\n",
    "    \n",
    "    return gs"
   ]
  },
  {
   "cell_type": "code",
   "execution_count": 33,
   "metadata": {},
   "outputs": [],
   "source": [
    "pipeline = Pipeline(\n",
    "    [\n",
    "        ('kbest', SelectKBest()),\n",
    "        # ('reg', SGDRegressor(max_iter=1000))\n",
    "        ('reg', linear_model.Lasso(alpha=0.1)),\n",
    "        # ('reg', linear_model.ElasticNet(random_state=0))\n",
    "    ]\n",
    ")\n",
    "\n",
    "parameters={\n",
    "    'kbest__score_func': (f_regression, mutual_info_regression),\n",
    "    'kbest__k':(5, 10, 'all'),\n",
    "}\n"
   ]
  },
  {
   "cell_type": "code",
   "execution_count": 34,
   "metadata": {},
   "outputs": [
    {
     "name": "stdout",
     "output_type": "stream",
     "text": [
      "Performing grid search...\n",
      "pipeline: ['kbest', 'reg']\n",
      "parameters:\n",
      "{'kbest__score_func': (<function f_regression at 0x7fc2c6c0e430>, <function mutual_info_regression at 0x7fc2c6c1bc10>), 'kbest__k': (5, 10, 'all')}\n",
      "Fitting 5 folds for each of 6 candidates, totalling 30 fits\n"
     ]
    },
    {
     "name": "stderr",
     "output_type": "stream",
     "text": [
      "[Parallel(n_jobs=-1)]: Using backend LokyBackend with 4 concurrent workers.\n",
      "[Parallel(n_jobs=-1)]: Done  23 out of  30 | elapsed:    4.4s remaining:    1.3s\n",
      "[Parallel(n_jobs=-1)]: Done  30 out of  30 | elapsed:    5.4s finished\n"
     ]
    },
    {
     "name": "stdout",
     "output_type": "stream",
     "text": [
      "done in 6.468s\n",
      "\n",
      "{'kbest__k': 10, 'kbest__score_func': <function f_regression at 0x7fc2c6c0e430>}\n",
      "-0.002467703776766572\n",
      "==============================\n",
      "{'kbest__k': 'all', 'kbest__score_func': <function f_regression at 0x7fc2c6c0e430>}\n",
      "-0.0020742935673350392\n",
      "==============================\n",
      "{'kbest__k': 'all', 'kbest__score_func': <function mutual_info_regression at 0x7fc2c6c1bc10>}\n",
      "-0.0020742935673350392\n",
      "==============================\n",
      "{'kbest__k': 10, 'kbest__score_func': <function mutual_info_regression at 0x7fc2c6c1bc10>}\n",
      "-0.0017295808421973647\n",
      "==============================\n",
      "{'kbest__k': 5, 'kbest__score_func': <function mutual_info_regression at 0x7fc2c6c1bc10>}\n",
      "0.0012953868253361422\n",
      "==============================\n"
     ]
    }
   ],
   "source": [
    "gs = grid_search(pipeline, parameters, Data, Target)"
   ]
  },
  {
   "cell_type": "code",
   "execution_count": 35,
   "metadata": {},
   "outputs": [],
   "source": [
    "from sklearn import linear_model\n",
    "\n",
    "\n",
    "pipeline = Pipeline(\n",
    "    [\n",
    "        ('kbest', SelectKBest()),\n",
    "        # ('reg', SGDRegressor(max_iter=1000))\n",
    "        # ('reg', linear_model.Lasso(alpha=0.1)),\n",
    "        ('reg', linear_model.ElasticNet(random_state=0))\n",
    "    ]\n",
    ")"
   ]
  },
  {
   "cell_type": "code",
   "execution_count": 36,
   "metadata": {},
   "outputs": [
    {
     "name": "stdout",
     "output_type": "stream",
     "text": [
      "Performing grid search...\n",
      "pipeline: ['kbest', 'reg']\n",
      "parameters:\n",
      "{'kbest__score_func': (<function f_regression at 0x7fc2c6c0e430>, <function mutual_info_regression at 0x7fc2c6c1bc10>), 'kbest__k': (5, 10, 'all')}\n",
      "Fitting 5 folds for each of 6 candidates, totalling 30 fits\n"
     ]
    },
    {
     "name": "stderr",
     "output_type": "stream",
     "text": [
      "[Parallel(n_jobs=-1)]: Using backend LokyBackend with 4 concurrent workers.\n",
      "[Parallel(n_jobs=-1)]: Done  23 out of  30 | elapsed:    3.7s remaining:    1.1s\n",
      "[Parallel(n_jobs=-1)]: Done  30 out of  30 | elapsed:    4.7s finished\n"
     ]
    },
    {
     "name": "stdout",
     "output_type": "stream",
     "text": [
      "done in 5.698s\n",
      "\n",
      "{'kbest__k': 10, 'kbest__score_func': <function mutual_info_regression at 0x7fc2c6c1bc10>}\n",
      "-0.001188501431706701\n",
      "==============================\n",
      "{'kbest__k': 10, 'kbest__score_func': <function f_regression at 0x7fc2c6c0e430>}\n",
      "-0.0008659378232052317\n",
      "==============================\n",
      "{'kbest__k': 'all', 'kbest__score_func': <function f_regression at 0x7fc2c6c0e430>}\n",
      "-0.00043816284422861786\n",
      "==============================\n",
      "{'kbest__k': 'all', 'kbest__score_func': <function mutual_info_regression at 0x7fc2c6c1bc10>}\n",
      "-0.00043816284422861786\n",
      "==============================\n",
      "{'kbest__k': 5, 'kbest__score_func': <function mutual_info_regression at 0x7fc2c6c1bc10>}\n",
      "0.0019631871915913868\n",
      "==============================\n"
     ]
    }
   ],
   "source": [
    "gs = grid_search(pipeline, parameters, Data, Target)"
   ]
  },
  {
   "cell_type": "code",
   "execution_count": 37,
   "metadata": {},
   "outputs": [
    {
     "name": "stdout",
     "output_type": "stream",
     "text": [
      "Performing grid search...\n",
      "pipeline: ['kbest', 'reg']\n",
      "parameters:\n",
      "{'kbest__score_func': (<function f_regression at 0x7fc2c6c0e430>, <function mutual_info_regression at 0x7fc2c6c1bc10>), 'kbest__k': (5, 10, 'all')}\n",
      "Fitting 5 folds for each of 6 candidates, totalling 30 fits\n"
     ]
    },
    {
     "name": "stderr",
     "output_type": "stream",
     "text": [
      "[Parallel(n_jobs=-1)]: Using backend LokyBackend with 4 concurrent workers.\n",
      "[Parallel(n_jobs=-1)]: Done  23 out of  30 | elapsed:    2.6s remaining:    0.8s\n"
     ]
    },
    {
     "name": "stdout",
     "output_type": "stream",
     "text": [
      "done in 3.344s\n",
      "\n",
      "{'kbest__k': 5, 'kbest__score_func': <function f_regression at 0x7fc2c6c0e430>}\n",
      "0.00039591450829687955\n",
      "==============================\n",
      "{'kbest__k': 10, 'kbest__score_func': <function mutual_info_regression at 0x7fc2c6c1bc10>}\n",
      "0.001083728027764197\n",
      "==============================\n",
      "{'kbest__k': 10, 'kbest__score_func': <function f_regression at 0x7fc2c6c0e430>}\n",
      "0.0013596998808903082\n",
      "==============================\n",
      "{'kbest__k': 'all', 'kbest__score_func': <function f_regression at 0x7fc2c6c0e430>}\n",
      "0.001598356531466827\n",
      "==============================\n",
      "{'kbest__k': 'all', 'kbest__score_func': <function mutual_info_regression at 0x7fc2c6c1bc10>}\n",
      "0.001598356531466827\n",
      "==============================\n"
     ]
    },
    {
     "name": "stderr",
     "output_type": "stream",
     "text": [
      "[Parallel(n_jobs=-1)]: Done  30 out of  30 | elapsed:    3.3s finished\n"
     ]
    }
   ],
   "source": [
    "gs = grid_search(pipeline, parameters, X_train, y_train)"
   ]
  },
  {
   "cell_type": "code",
   "execution_count": null,
   "metadata": {},
   "outputs": [],
   "source": []
  },
  {
   "cell_type": "code",
   "execution_count": null,
   "metadata": {},
   "outputs": [],
   "source": []
  }
 ],
 "metadata": {
  "kernelspec": {
   "display_name": "Python 3",
   "language": "python",
   "name": "python3"
  },
  "language_info": {
   "codemirror_mode": {
    "name": "ipython",
    "version": 3
   },
   "file_extension": ".py",
   "mimetype": "text/x-python",
   "name": "python",
   "nbconvert_exporter": "python",
   "pygments_lexer": "ipython3",
   "version": "3.8.5"
  },
  "vscode": {
   "interpreter": {
    "hash": "aee8b7b246df8f9039afb4144a1f6fd8d2ca17a180786b69acc140d282b71a49"
   }
  }
 },
 "nbformat": 4,
 "nbformat_minor": 2
}
