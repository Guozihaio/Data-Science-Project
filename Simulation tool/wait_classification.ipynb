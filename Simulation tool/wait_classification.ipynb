{
 "cells": [
  {
   "cell_type": "code",
   "execution_count": 2,
   "metadata": {},
   "outputs": [],
   "source": [
    "import pandas as pd\n",
    "import seaborn as sns\n",
    "import numpy as np\n",
    "import matplotlib.pyplot as plt\n",
    "import matplotlib as mpl\n",
    "import matplotlib.colors\n",
    "from sklearn.cluster import DBSCAN\n",
    "from sklearn.preprocessing import StandardScaler"
   ]
  },
  {
   "cell_type": "code",
   "execution_count": 3,
   "metadata": {},
   "outputs": [],
   "source": [
    "from sklearn.preprocessing import LabelEncoder , OneHotEncoder"
   ]
  },
  {
   "cell_type": "code",
   "execution_count": 4,
   "metadata": {},
   "outputs": [
    {
     "data": {
      "text/html": [
       "<div>\n",
       "<style scoped>\n",
       "    .dataframe tbody tr th:only-of-type {\n",
       "        vertical-align: middle;\n",
       "    }\n",
       "\n",
       "    .dataframe tbody tr th {\n",
       "        vertical-align: top;\n",
       "    }\n",
       "\n",
       "    .dataframe thead th {\n",
       "        text-align: right;\n",
       "    }\n",
       "</style>\n",
       "<table border=\"1\" class=\"dataframe\">\n",
       "  <thead>\n",
       "    <tr style=\"text-align: right;\">\n",
       "      <th></th>\n",
       "      <th>Gender</th>\n",
       "      <th>Bloodtype</th>\n",
       "      <th>Inpt_attx</th>\n",
       "      <th>Donor_Sex</th>\n",
       "      <th>Donor_Bloodtype</th>\n",
       "      <th>Donor_DCD</th>\n",
       "      <th>Waittime</th>\n",
       "      <th>Age_Tx</th>\n",
       "      <th>Donor_Age</th>\n",
       "      <th>TransplantBMI</th>\n",
       "      <th>Donor_BMI</th>\n",
       "      <th>MELD</th>\n",
       "      <th>MELDNA</th>\n",
       "      <th>Time</th>\n",
       "      <th>Cens</th>\n",
       "    </tr>\n",
       "  </thead>\n",
       "  <tbody>\n",
       "    <tr>\n",
       "      <th>0</th>\n",
       "      <td>Male</td>\n",
       "      <td>O</td>\n",
       "      <td>inpt</td>\n",
       "      <td>Male</td>\n",
       "      <td>B</td>\n",
       "      <td>No</td>\n",
       "      <td>1</td>\n",
       "      <td>54.291739</td>\n",
       "      <td>45.379636</td>\n",
       "      <td>24.712049</td>\n",
       "      <td>21.369229</td>\n",
       "      <td>22.939930</td>\n",
       "      <td>22.931727</td>\n",
       "      <td>2019.866962</td>\n",
       "      <td>0</td>\n",
       "    </tr>\n",
       "    <tr>\n",
       "      <th>1</th>\n",
       "      <td>Male</td>\n",
       "      <td>A</td>\n",
       "      <td>home</td>\n",
       "      <td>Male</td>\n",
       "      <td>O</td>\n",
       "      <td>No</td>\n",
       "      <td>157</td>\n",
       "      <td>59.817111</td>\n",
       "      <td>60.516200</td>\n",
       "      <td>28.887631</td>\n",
       "      <td>25.408853</td>\n",
       "      <td>18.985337</td>\n",
       "      <td>21.381548</td>\n",
       "      <td>1815.128065</td>\n",
       "      <td>1</td>\n",
       "    </tr>\n",
       "    <tr>\n",
       "      <th>2</th>\n",
       "      <td>Female</td>\n",
       "      <td>A</td>\n",
       "      <td>home</td>\n",
       "      <td>Male</td>\n",
       "      <td>A</td>\n",
       "      <td>No</td>\n",
       "      <td>49</td>\n",
       "      <td>63.198440</td>\n",
       "      <td>30.989861</td>\n",
       "      <td>26.869533</td>\n",
       "      <td>24.902931</td>\n",
       "      <td>23.694392</td>\n",
       "      <td>26.243047</td>\n",
       "      <td>396.556200</td>\n",
       "      <td>0</td>\n",
       "    </tr>\n",
       "    <tr>\n",
       "      <th>3</th>\n",
       "      <td>Male</td>\n",
       "      <td>O</td>\n",
       "      <td>inpt</td>\n",
       "      <td>Female</td>\n",
       "      <td>B</td>\n",
       "      <td>No</td>\n",
       "      <td>81</td>\n",
       "      <td>28.845900</td>\n",
       "      <td>41.142174</td>\n",
       "      <td>27.411596</td>\n",
       "      <td>35.396950</td>\n",
       "      <td>11.375444</td>\n",
       "      <td>8.545730</td>\n",
       "      <td>1326.259556</td>\n",
       "      <td>0</td>\n",
       "    </tr>\n",
       "    <tr>\n",
       "      <th>4</th>\n",
       "      <td>Male</td>\n",
       "      <td>O</td>\n",
       "      <td>home</td>\n",
       "      <td>Female</td>\n",
       "      <td>O</td>\n",
       "      <td>No</td>\n",
       "      <td>620</td>\n",
       "      <td>55.523918</td>\n",
       "      <td>49.138937</td>\n",
       "      <td>24.530967</td>\n",
       "      <td>29.372668</td>\n",
       "      <td>26.835544</td>\n",
       "      <td>29.211865</td>\n",
       "      <td>605.043515</td>\n",
       "      <td>0</td>\n",
       "    </tr>\n",
       "  </tbody>\n",
       "</table>\n",
       "</div>"
      ],
      "text/plain": [
       "   Gender Bloodtype Inpt_attx Donor_Sex Donor_Bloodtype Donor_DCD  Waittime  \\\n",
       "0    Male         O      inpt      Male               B        No         1   \n",
       "1    Male         A      home      Male               O        No       157   \n",
       "2  Female         A      home      Male               A        No        49   \n",
       "3    Male         O      inpt    Female               B        No        81   \n",
       "4    Male         O      home    Female               O        No       620   \n",
       "\n",
       "      Age_Tx  Donor_Age  TransplantBMI  Donor_BMI       MELD     MELDNA  \\\n",
       "0  54.291739  45.379636      24.712049  21.369229  22.939930  22.931727   \n",
       "1  59.817111  60.516200      28.887631  25.408853  18.985337  21.381548   \n",
       "2  63.198440  30.989861      26.869533  24.902931  23.694392  26.243047   \n",
       "3  28.845900  41.142174      27.411596  35.396950  11.375444   8.545730   \n",
       "4  55.523918  49.138937      24.530967  29.372668  26.835544  29.211865   \n",
       "\n",
       "          Time  Cens  \n",
       "0  2019.866962     0  \n",
       "1  1815.128065     1  \n",
       "2   396.556200     0  \n",
       "3  1326.259556     0  \n",
       "4   605.043515     0  "
      ]
     },
     "execution_count": 4,
     "metadata": {},
     "output_type": "execute_result"
    }
   ],
   "source": [
    "transplant = pd.read_excel(\"SimData_Transplant_Ver2.0.xls\")\n",
    "transplant.head()"
   ]
  },
  {
   "cell_type": "code",
   "execution_count": 5,
   "metadata": {},
   "outputs": [
    {
     "data": {
      "text/html": [
       "<div>\n",
       "<style scoped>\n",
       "    .dataframe tbody tr th:only-of-type {\n",
       "        vertical-align: middle;\n",
       "    }\n",
       "\n",
       "    .dataframe tbody tr th {\n",
       "        vertical-align: top;\n",
       "    }\n",
       "\n",
       "    .dataframe thead th {\n",
       "        text-align: right;\n",
       "    }\n",
       "</style>\n",
       "<table border=\"1\" class=\"dataframe\">\n",
       "  <thead>\n",
       "    <tr style=\"text-align: right;\">\n",
       "      <th></th>\n",
       "      <th>Gender</th>\n",
       "      <th>Bloodtype</th>\n",
       "      <th>Inpt_attx</th>\n",
       "      <th>Age</th>\n",
       "      <th>BMI</th>\n",
       "      <th>MELD</th>\n",
       "      <th>MELDNA</th>\n",
       "      <th>Time</th>\n",
       "      <th>Cens</th>\n",
       "    </tr>\n",
       "  </thead>\n",
       "  <tbody>\n",
       "    <tr>\n",
       "      <th>0</th>\n",
       "      <td>Female</td>\n",
       "      <td>A</td>\n",
       "      <td>home</td>\n",
       "      <td>42.980695</td>\n",
       "      <td>24.281426</td>\n",
       "      <td>11.328118</td>\n",
       "      <td>8.490318</td>\n",
       "      <td>6905.806322</td>\n",
       "      <td>0</td>\n",
       "    </tr>\n",
       "    <tr>\n",
       "      <th>1</th>\n",
       "      <td>Male</td>\n",
       "      <td>O</td>\n",
       "      <td>inpt</td>\n",
       "      <td>43.194412</td>\n",
       "      <td>30.097404</td>\n",
       "      <td>15.295122</td>\n",
       "      <td>20.956402</td>\n",
       "      <td>4583.035351</td>\n",
       "      <td>0</td>\n",
       "    </tr>\n",
       "    <tr>\n",
       "      <th>2</th>\n",
       "      <td>Male</td>\n",
       "      <td>A</td>\n",
       "      <td>home</td>\n",
       "      <td>44.952546</td>\n",
       "      <td>30.445467</td>\n",
       "      <td>20.222330</td>\n",
       "      <td>28.063602</td>\n",
       "      <td>2434.090766</td>\n",
       "      <td>0</td>\n",
       "    </tr>\n",
       "    <tr>\n",
       "      <th>3</th>\n",
       "      <td>Male</td>\n",
       "      <td>B</td>\n",
       "      <td>home</td>\n",
       "      <td>48.929001</td>\n",
       "      <td>22.588535</td>\n",
       "      <td>16.742302</td>\n",
       "      <td>19.049439</td>\n",
       "      <td>946.529267</td>\n",
       "      <td>0</td>\n",
       "    </tr>\n",
       "    <tr>\n",
       "      <th>4</th>\n",
       "      <td>Male</td>\n",
       "      <td>B</td>\n",
       "      <td>home</td>\n",
       "      <td>52.098949</td>\n",
       "      <td>18.317275</td>\n",
       "      <td>19.038291</td>\n",
       "      <td>21.116394</td>\n",
       "      <td>1606.310627</td>\n",
       "      <td>0</td>\n",
       "    </tr>\n",
       "  </tbody>\n",
       "</table>\n",
       "</div>"
      ],
      "text/plain": [
       "   Gender Bloodtype Inpt_attx        Age        BMI       MELD     MELDNA  \\\n",
       "0  Female         A      home  42.980695  24.281426  11.328118   8.490318   \n",
       "1    Male         O      inpt  43.194412  30.097404  15.295122  20.956402   \n",
       "2    Male         A      home  44.952546  30.445467  20.222330  28.063602   \n",
       "3    Male         B      home  48.929001  22.588535  16.742302  19.049439   \n",
       "4    Male         B      home  52.098949  18.317275  19.038291  21.116394   \n",
       "\n",
       "          Time  Cens  \n",
       "0  6905.806322     0  \n",
       "1  4583.035351     0  \n",
       "2  2434.090766     0  \n",
       "3   946.529267     0  \n",
       "4  1606.310627     0  "
      ]
     },
     "execution_count": 5,
     "metadata": {},
     "output_type": "execute_result"
    }
   ],
   "source": [
    "wait = pd.read_excel(\"SimData_WList_Ver2.0.xls\")\n",
    "wait.head()"
   ]
  },
  {
   "cell_type": "code",
   "execution_count": 6,
   "metadata": {},
   "outputs": [],
   "source": [
    "# feature encoding\n",
    "t_encoder = LabelEncoder()\n",
    "t_encoder.fit(wait['Gender'])\n",
    "wait['Gender'] = t_encoder.transform(wait['Gender'])\n",
    "t_encoder.fit(wait['Bloodtype'])\n",
    "wait['Bloodtype'] = t_encoder.transform(wait['Bloodtype'])\n",
    "t_encoder.fit(wait['Inpt_attx'])\n",
    "wait['Inpt_attx'] = t_encoder.transform(wait['Inpt_attx'])"
   ]
  },
  {
   "cell_type": "code",
   "execution_count": 7,
   "metadata": {},
   "outputs": [
    {
     "data": {
      "text/html": [
       "<div>\n",
       "<style scoped>\n",
       "    .dataframe tbody tr th:only-of-type {\n",
       "        vertical-align: middle;\n",
       "    }\n",
       "\n",
       "    .dataframe tbody tr th {\n",
       "        vertical-align: top;\n",
       "    }\n",
       "\n",
       "    .dataframe thead th {\n",
       "        text-align: right;\n",
       "    }\n",
       "</style>\n",
       "<table border=\"1\" class=\"dataframe\">\n",
       "  <thead>\n",
       "    <tr style=\"text-align: right;\">\n",
       "      <th></th>\n",
       "      <th>Gender</th>\n",
       "      <th>Bloodtype</th>\n",
       "      <th>Inpt_attx</th>\n",
       "      <th>Age</th>\n",
       "      <th>BMI</th>\n",
       "      <th>MELD</th>\n",
       "      <th>MELDNA</th>\n",
       "      <th>Time</th>\n",
       "      <th>Cens</th>\n",
       "    </tr>\n",
       "  </thead>\n",
       "  <tbody>\n",
       "    <tr>\n",
       "      <th>Gender</th>\n",
       "      <td>1.000000</td>\n",
       "      <td>0.007128</td>\n",
       "      <td>-0.093904</td>\n",
       "      <td>0.101501</td>\n",
       "      <td>0.021799</td>\n",
       "      <td>-0.150887</td>\n",
       "      <td>-0.142519</td>\n",
       "      <td>0.001802</td>\n",
       "      <td>-0.030420</td>\n",
       "    </tr>\n",
       "    <tr>\n",
       "      <th>Bloodtype</th>\n",
       "      <td>0.007128</td>\n",
       "      <td>1.000000</td>\n",
       "      <td>-0.025073</td>\n",
       "      <td>-0.008702</td>\n",
       "      <td>-0.029758</td>\n",
       "      <td>-0.020027</td>\n",
       "      <td>-0.025995</td>\n",
       "      <td>-0.001405</td>\n",
       "      <td>0.017149</td>\n",
       "    </tr>\n",
       "    <tr>\n",
       "      <th>Inpt_attx</th>\n",
       "      <td>-0.093904</td>\n",
       "      <td>-0.025073</td>\n",
       "      <td>1.000000</td>\n",
       "      <td>-0.157185</td>\n",
       "      <td>0.024465</td>\n",
       "      <td>0.497949</td>\n",
       "      <td>0.489769</td>\n",
       "      <td>-0.042622</td>\n",
       "      <td>0.099078</td>\n",
       "    </tr>\n",
       "    <tr>\n",
       "      <th>Age</th>\n",
       "      <td>0.101501</td>\n",
       "      <td>-0.008702</td>\n",
       "      <td>-0.157185</td>\n",
       "      <td>1.000000</td>\n",
       "      <td>0.027090</td>\n",
       "      <td>-0.205507</td>\n",
       "      <td>-0.172450</td>\n",
       "      <td>-0.025780</td>\n",
       "      <td>-0.001908</td>\n",
       "    </tr>\n",
       "    <tr>\n",
       "      <th>BMI</th>\n",
       "      <td>0.021799</td>\n",
       "      <td>-0.029758</td>\n",
       "      <td>0.024465</td>\n",
       "      <td>0.027090</td>\n",
       "      <td>1.000000</td>\n",
       "      <td>0.022068</td>\n",
       "      <td>0.036871</td>\n",
       "      <td>0.000639</td>\n",
       "      <td>-0.000050</td>\n",
       "    </tr>\n",
       "  </tbody>\n",
       "</table>\n",
       "</div>"
      ],
      "text/plain": [
       "             Gender  Bloodtype  Inpt_attx       Age       BMI      MELD  \\\n",
       "Gender     1.000000   0.007128  -0.093904  0.101501  0.021799 -0.150887   \n",
       "Bloodtype  0.007128   1.000000  -0.025073 -0.008702 -0.029758 -0.020027   \n",
       "Inpt_attx -0.093904  -0.025073   1.000000 -0.157185  0.024465  0.497949   \n",
       "Age        0.101501  -0.008702  -0.157185  1.000000  0.027090 -0.205507   \n",
       "BMI        0.021799  -0.029758   0.024465  0.027090  1.000000  0.022068   \n",
       "\n",
       "             MELDNA      Time      Cens  \n",
       "Gender    -0.142519  0.001802 -0.030420  \n",
       "Bloodtype -0.025995 -0.001405  0.017149  \n",
       "Inpt_attx  0.489769 -0.042622  0.099078  \n",
       "Age       -0.172450 -0.025780 -0.001908  \n",
       "BMI        0.036871  0.000639 -0.000050  "
      ]
     },
     "execution_count": 7,
     "metadata": {},
     "output_type": "execute_result"
    }
   ],
   "source": [
    "waitcorr = wait.corr()\n",
    "waitcorr.head()"
   ]
  },
  {
   "cell_type": "code",
   "execution_count": 8,
   "metadata": {},
   "outputs": [
    {
     "data": {
      "image/png": "[encoded data removed]",
      "text/plain": [
       "<Figure size 864x864 with 2 Axes>"
      ]
     },
     "metadata": {
      "needs_background": "light"
     },
     "output_type": "display_data"
    }
   ],
   "source": [
    "plt.subplots(figsize = (12,12))\n",
    "# sns.heatmap(transcorr,annot = True,vmax = 1,square = True,cmap = \"Reds\")\n",
    "sns.heatmap(waitcorr,annot = True,vmax = 1,square = True,cmap = \"Reds\")\n",
    "plt.show()"
   ]
  },
  {
   "cell_type": "code",
   "execution_count": 9,
   "metadata": {},
   "outputs": [],
   "source": [
    "from sklearn.preprocessing import Normalizer\n",
    "wait.loc[wait['Time'] < 1825, 'If'] = 0\n",
    "wait.loc[wait['Time'] > 1825, 'If'] = 1\n",
    "od_array = np.array(wait['If'])\n",
    "od_array = od_array.reshape(-1,1)\n",
    "labels = wait['If']"
   ]
  },
  {
   "cell_type": "code",
   "execution_count": 10,
   "metadata": {},
   "outputs": [],
   "source": [
    "scaler = Normalizer(norm = 'l2')\n",
    "wait = pd.DataFrame(scaler.fit_transform(wait),columns=['Gender','Bloodtype','Inpt_attx','Age','BMI','MELD','MELDNA','Time','Cens','If'])"
   ]
  },
  {
   "cell_type": "code",
   "execution_count": 11,
   "metadata": {},
   "outputs": [
    {
     "data": {
      "text/html": [
       "<div>\n",
       "<style scoped>\n",
       "    .dataframe tbody tr th:only-of-type {\n",
       "        vertical-align: middle;\n",
       "    }\n",
       "\n",
       "    .dataframe tbody tr th {\n",
       "        vertical-align: top;\n",
       "    }\n",
       "\n",
       "    .dataframe thead th {\n",
       "        text-align: right;\n",
       "    }\n",
       "</style>\n",
       "<table border=\"1\" class=\"dataframe\">\n",
       "  <thead>\n",
       "    <tr style=\"text-align: right;\">\n",
       "      <th></th>\n",
       "      <th>Inpt_attx</th>\n",
       "      <th>Age</th>\n",
       "      <th>MELD</th>\n",
       "    </tr>\n",
       "  </thead>\n",
       "  <tbody>\n",
       "    <tr>\n",
       "      <th>0</th>\n",
       "      <td>0.000000</td>\n",
       "      <td>0.006224</td>\n",
       "      <td>0.001640</td>\n",
       "    </tr>\n",
       "    <tr>\n",
       "      <th>1</th>\n",
       "      <td>0.000436</td>\n",
       "      <td>0.009424</td>\n",
       "      <td>0.003337</td>\n",
       "    </tr>\n",
       "    <tr>\n",
       "      <th>2</th>\n",
       "      <td>0.000000</td>\n",
       "      <td>0.018461</td>\n",
       "      <td>0.008305</td>\n",
       "    </tr>\n",
       "    <tr>\n",
       "      <th>3</th>\n",
       "      <td>0.000000</td>\n",
       "      <td>0.051591</td>\n",
       "      <td>0.017653</td>\n",
       "    </tr>\n",
       "    <tr>\n",
       "      <th>4</th>\n",
       "      <td>0.000000</td>\n",
       "      <td>0.032410</td>\n",
       "      <td>0.011843</td>\n",
       "    </tr>\n",
       "  </tbody>\n",
       "</table>\n",
       "</div>"
      ],
      "text/plain": [
       "   Inpt_attx       Age      MELD\n",
       "0   0.000000  0.006224  0.001640\n",
       "1   0.000436  0.009424  0.003337\n",
       "2   0.000000  0.018461  0.008305\n",
       "3   0.000000  0.051591  0.017653\n",
       "4   0.000000  0.032410  0.011843"
      ]
     },
     "execution_count": 11,
     "metadata": {},
     "output_type": "execute_result"
    }
   ],
   "source": [
    "# so i choose meldna meld and inpt_attx as the predict variables\n",
    "wait_X_train = wait.drop(['Cens', 'Time','Gender','MELDNA','Bloodtype','BMI','If'],axis = 1)\n",
    "wait_X_train.head()\n"
   ]
  },
  {
   "cell_type": "code",
   "execution_count": 12,
   "metadata": {},
   "outputs": [
    {
     "data": {
      "text/html": [
       "<div>\n",
       "<style scoped>\n",
       "    .dataframe tbody tr th:only-of-type {\n",
       "        vertical-align: middle;\n",
       "    }\n",
       "\n",
       "    .dataframe tbody tr th {\n",
       "        vertical-align: top;\n",
       "    }\n",
       "\n",
       "    .dataframe thead th {\n",
       "        text-align: right;\n",
       "    }\n",
       "</style>\n",
       "<table border=\"1\" class=\"dataframe\">\n",
       "  <thead>\n",
       "    <tr style=\"text-align: right;\">\n",
       "      <th></th>\n",
       "      <th>Cens</th>\n",
       "      <th>Time</th>\n",
       "    </tr>\n",
       "  </thead>\n",
       "  <tbody>\n",
       "    <tr>\n",
       "      <th>0</th>\n",
       "      <td>0.0</td>\n",
       "      <td>0.999972</td>\n",
       "    </tr>\n",
       "    <tr>\n",
       "      <th>1</th>\n",
       "      <td>0.0</td>\n",
       "      <td>0.999918</td>\n",
       "    </tr>\n",
       "    <tr>\n",
       "      <th>2</th>\n",
       "      <td>0.0</td>\n",
       "      <td>0.999650</td>\n",
       "    </tr>\n",
       "    <tr>\n",
       "      <th>3</th>\n",
       "      <td>0.0</td>\n",
       "      <td>0.998023</td>\n",
       "    </tr>\n",
       "    <tr>\n",
       "      <th>4</th>\n",
       "      <td>0.0</td>\n",
       "      <td>0.999252</td>\n",
       "    </tr>\n",
       "  </tbody>\n",
       "</table>\n",
       "</div>"
      ],
      "text/plain": [
       "   Cens      Time\n",
       "0   0.0  0.999972\n",
       "1   0.0  0.999918\n",
       "2   0.0  0.999650\n",
       "3   0.0  0.998023\n",
       "4   0.0  0.999252"
      ]
     },
     "execution_count": 12,
     "metadata": {},
     "output_type": "execute_result"
    }
   ],
   "source": [
    "wait_Y_train = pd.DataFrame(np.array(wait[['Cens','Time']]),columns=['Cens','Time'])\n",
    "import math\n",
    "import numpy\n",
    "# wait_Y_train['Time'] = numpy.log(wait_Y_train['Time'])\n",
    "wait_Y_train.head()"
   ]
  },
  {
   "cell_type": "code",
   "execution_count": 13,
   "metadata": {},
   "outputs": [],
   "source": [
    "# Start building machine laerning models\n",
    "import numpy as np\n",
    "import pandas as pd\n",
    "from sklearn.cluster import KMeans\n",
    "from sklearn import metrics\n",
    "import matplotlib.pyplot as plt\n",
    "from sklearn.datasets import make_blobs"
   ]
  },
  {
   "cell_type": "code",
   "execution_count": 14,
   "metadata": {},
   "outputs": [
    {
     "data": {
      "text/plain": [
       "{2: 0.833780618264521, 3: 0.7406584860039432, 4: 0.7218932116560335}"
      ]
     },
     "metadata": {},
     "output_type": "display_data"
    }
   ],
   "source": [
    "num_clusters = np.arange(2,5)\n",
    "kmeans_results = {}\n",
    "for size in num_clusters:\n",
    "    # training the cluster model\n",
    "    kmeans = KMeans(n_clusters = size).fit(wait_X_train)\n",
    "    # prdict the clusting model\n",
    "    preds = kmeans.predict(wait_X_train)\n",
    "    # evaluate the results\n",
    "    # kmeans_results[size][\"silhouette\"] = metrics.silhouette_score(wait_Y_train['Time'], preds, metric='euclidean')\n",
    "    kmeans_results[size] = metrics.silhouette_score(wait_X_train, preds, metric='euclidean')\n",
    "display(kmeans_results)"
   ]
  },
  {
   "cell_type": "code",
   "execution_count": 15,
   "metadata": {},
   "outputs": [
    {
     "name": "stdout",
     "output_type": "stream",
     "text": [
      "[[0.         0.00622368 0.00164033 0.        ]\n",
      " [0.00043636 0.00942407 0.00333706 0.        ]\n",
      " [0.         0.01846144 0.00830506 0.        ]\n",
      " ...\n",
      " [0.         0.05762965 0.02081351 0.        ]\n",
      " [0.         0.00983589 0.00310161 0.        ]\n",
      " [0.         0.04002062 0.00958473 0.        ]]\n"
     ]
    }
   ],
   "source": [
    "km = KMeans(2, init='k-means++') # initialize\n",
    "ypred = km.fit_predict(wait_X_train)\n",
    "wait_X_train['cluster'] = ypred\n",
    "wait_X_train = wait_X_train.to_numpy()\n",
    "print(wait_X_train)"
   ]
  },
  {
   "cell_type": "code",
   "execution_count": 16,
   "metadata": {},
   "outputs": [],
   "source": [
    "from copy import deepcopy\n",
    "from numpy import unique\n",
    "from numpy import where\n",
    "from sklearn.datasets import make_classification\n",
    "from sklearn.cluster import AgglomerativeClustering\n",
    "from matplotlib import pyplot\n",
    "from sklearn import preprocessing\n",
    "from sklearn.preprocessing import Normalizer"
   ]
  },
  {
   "cell_type": "code",
   "execution_count": 17,
   "metadata": {},
   "outputs": [],
   "source": [
    "wait_X_train = pd.DataFrame(wait_X_train)"
   ]
  },
  {
   "cell_type": "code",
   "execution_count": 18,
   "metadata": {},
   "outputs": [],
   "source": [
    "data = wait.drop(['Cens', 'Time','Gender','MELDNA','Bloodtype','BMI','If'],axis = 1)\n",
    "data['cluster'] = ypred\n",
    "label = pd.DataFrame(labels)"
   ]
  },
  {
   "cell_type": "code",
   "execution_count": 19,
   "metadata": {},
   "outputs": [],
   "source": [
    "from sklearn.model_selection import train_test_split\n",
    "X_train, X_test, y_train , y_test = train_test_split(data, label, train_size=0.7,random_state= 42)"
   ]
  },
  {
   "cell_type": "code",
   "execution_count": 20,
   "metadata": {},
   "outputs": [],
   "source": [
    "from sklearn import tree\n",
    "clf = tree.DecisionTreeClassifier()\n",
    "clf = clf.fit(X_train, y_train)"
   ]
  },
  {
   "cell_type": "code",
   "execution_count": 21,
   "metadata": {},
   "outputs": [],
   "source": [
    "y_pred1 = clf.predict(X_test)"
   ]
  },
  {
   "cell_type": "code",
   "execution_count": 22,
   "metadata": {},
   "outputs": [],
   "source": [
    "from sklearn.metrics import confusion_matrix,classification_report,accuracy_score"
   ]
  },
  {
   "cell_type": "code",
   "execution_count": 23,
   "metadata": {},
   "outputs": [
    {
     "name": "stdout",
     "output_type": "stream",
     "text": [
      "Classification Report \n",
      "               precision    recall  f1-score   support\n",
      "\n",
      "         0.0       0.95      0.94      0.94       845\n",
      "         1.0       0.92      0.93      0.93       655\n",
      "\n",
      "    accuracy                           0.94      1500\n",
      "   macro avg       0.93      0.94      0.93      1500\n",
      "weighted avg       0.94      0.94      0.94      1500\n",
      "\n",
      "Accuracy of our mode when applied on test set:  0.9353333333333333\n"
     ]
    }
   ],
   "source": [
    "print('Classification Report \\n',classification_report(y_test, y_pred1))\n",
    "print('Accuracy of our mode when applied on test set: ',accuracy_score(y_test, y_pred1))"
   ]
  },
  {
   "cell_type": "code",
   "execution_count": 24,
   "metadata": {},
   "outputs": [
    {
     "name": "stdout",
     "output_type": "stream",
     "text": [
      "Classification Report \n",
      "               precision    recall  f1-score   support\n",
      "\n",
      "         0.0       0.97      0.95      0.96       845\n",
      "         1.0       0.93      0.96      0.94       655\n",
      "\n",
      "    accuracy                           0.95      1500\n",
      "   macro avg       0.95      0.95      0.95      1500\n",
      "weighted avg       0.95      0.95      0.95      1500\n",
      "\n",
      "Accuracy of our mode when applied on test set:  0.9513333333333334\n"
     ]
    },
    {
     "name": "stderr",
     "output_type": "stream",
     "text": [
      "/Users/dorren/opt/anaconda3/lib/python3.8/site-packages/sklearn/utils/validation.py:72: DataConversionWarning: A column-vector y was passed when a 1d array was expected. Please change the shape of y to (n_samples, ), for example using ravel().\n",
      "  return f(**kwargs)\n"
     ]
    }
   ],
   "source": [
    "## SVC\n",
    "from sklearn.model_selection import GridSearchCV\n",
    "\n",
    "param_grid = {'C': [0.1, 1, 0.01, 10], 'gamma': [10, 0.1, 0.01], 'kernel': ['rbf', 'sigmoid']}\n",
    "\n",
    "from sklearn.svm import SVC\n",
    "svc = SVC(C=10, gamma=10)\n",
    "svc.fit(X_train, y_train)\n",
    "y_pred2 = svc.predict(X_test)\n",
    "from sklearn.metrics import confusion_matrix,classification_report,accuracy_score\n",
    "\n",
    "print('Classification Report \\n',classification_report(y_test, y_pred2))\n",
    "print('Accuracy of our mode when applied on test set: ',accuracy_score(y_test, y_pred2))"
   ]
  },
  {
   "cell_type": "code",
   "execution_count": null,
   "metadata": {},
   "outputs": [],
   "source": []
  },
  {
   "cell_type": "code",
   "execution_count": null,
   "metadata": {},
   "outputs": [],
   "source": []
  }
 ],
 "metadata": {
  "kernelspec": {
   "display_name": "Python 3",
   "language": "python",
   "name": "python3"
  },
  "language_info": {
   "codemirror_mode": {
    "name": "ipython",
    "version": 3
   },
   "file_extension": ".py",
   "mimetype": "text/x-python",
   "name": "python",
   "nbconvert_exporter": "python",
   "pygments_lexer": "ipython3",
   "version": "3.8.5"
  }
 },
 "nbformat": 4,
 "nbformat_minor": 4
}
